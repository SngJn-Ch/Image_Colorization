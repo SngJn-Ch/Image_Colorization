{
  "cells": [
    {
      "cell_type": "code",
      "execution_count": 1,
      "metadata": {
        "id": "YToDyF-vgG_m"
      },
      "outputs": [],
      "source": [
        "import tensorflow as tf\n",
        "from tensorflow.keras.layers import Dense, Conv2D, Input, Flatten, Reshape, BatchNormalization, MaxPooling2D, LeakyReLU, PReLU\n",
        "from tensorflow.keras.models import Sequential, Model\n",
        "\n",
        "from tensorflow.keras.preprocessing import image_dataset_from_directory\n",
        "from tensorflow.keras.preprocessing.image import load_img, ImageDataGenerator, img_to_array\n",
        "from tensorflow.keras.applications.resnet50 import ResNet50, preprocess_input\n",
        "from tensorflow.keras.optimizers import Adam\n",
        "from tensorflow.keras.optimizers.schedules import PiecewiseConstantDecay\n",
        "\n",
        "\n",
        "import numpy as np\n",
        "from glob import glob\n",
        "from tqdm import tqdm\n",
        "\n",
        "\n",
        "import os\n",
        "import matplotlib.pyplot as plt\n",
        "from cv2 import COLOR_BGR2LAB, COLOR_BGR2GRAY\n",
        "import cv2\n",
        "from PIL import Image\n",
        "from random import shuffle\n",
        "\n"
      ]
    },
    {
      "cell_type": "code",
      "source": [
        "import shutil"
      ],
      "metadata": {
        "id": "72FUl_pLGhAJ"
      },
      "execution_count": 2,
      "outputs": []
    },
    {
      "cell_type": "code",
      "execution_count": 3,
      "metadata": {
        "colab": {
          "base_uri": "https://localhost:8080/"
        },
        "id": "BfsMuxLRgVLF",
        "outputId": "bafb6154-a311-46f5-abbd-6babac6a8b7d"
      },
      "outputs": [
        {
          "output_type": "stream",
          "name": "stdout",
          "text": [
            "Mounted at /content/drive\n"
          ]
        }
      ],
      "source": [
        "from google.colab import drive\n",
        "\n",
        "drive.mount(\"/content/drive\")"
      ]
    },
    {
      "cell_type": "code",
      "execution_count": 4,
      "metadata": {
        "id": "2jF6hIUtgTQf"
      },
      "outputs": [],
      "source": [
        "# !unzip -q /content/drive/MyDrive/Coding/Data/caltech_256.zip"
      ]
    },
    {
      "cell_type": "code",
      "source": [
        "!tar -xvf /content/drive/MyDrive/Coding/Data/ILSVRC2013_DET_train.tar"
      ],
      "metadata": {
        "id": "I0uyi1QPv978",
        "colab": {
          "base_uri": "https://localhost:8080/"
        },
        "outputId": "730f7b02-0aea-409b-9eb7-e0189ca630df"
      },
      "execution_count": 5,
      "outputs": [
        {
          "output_type": "stream",
          "name": "stdout",
          "text": [
            "ILSVRC2013_DET_train/\n",
            "ILSVRC2013_DET_train/n02109047.tar\n",
            "ILSVRC2013_DET_train/n02112018.tar\n",
            "ILSVRC2013_DET_train/n04591157.tar\n",
            "ILSVRC2013_DET_train/n02105412.tar\n",
            "ILSVRC2013_DET_train/n02077923.tar\n",
            "ILSVRC2013_DET_train/n03494278.tar\n",
            "ILSVRC2013_DET_train/n01742172.tar\n",
            "ILSVRC2013_DET_train/n02086646.tar\n",
            "ILSVRC2013_DET_train/n03785016.tar\n",
            "ILSVRC2013_DET_train/n03841666.tar\n",
            "ILSVRC2013_DET_train/n02113799.tar\n",
            "ILSVRC2013_DET_train/n02981792.tar\n",
            "ILSVRC2013_DET_train/n03481172.tar\n",
            "ILSVRC2013_DET_train/n04332243.tar\n",
            "ILSVRC2013_DET_train/n04039381.tar\n",
            "ILSVRC2013_DET_train/n02084071.tar\n",
            "ILSVRC2013_DET_train/n01806143.tar\n",
            "ILSVRC2013_DET_train/n01614925.tar\n",
            "ILSVRC2013_DET_train/n03777568.tar\n",
            "ILSVRC2013_DET_train/n07768694.tar\n",
            "ILSVRC2013_DET_train/n03599486.tar\n",
            "ILSVRC2013_DET_train/n01622779.tar\n",
            "ILSVRC2013_DET_train/n02093256.tar\n",
            "ILSVRC2013_DET_train/ILSVRC2013_DET_train_extra10.tar\n",
            "ILSVRC2013_DET_train/n07718472.tar\n",
            "ILSVRC2013_DET_train/ILSVRC2013_DET_train_extra8.tar\n",
            "ILSVRC2013_DET_train/n03594945.tar\n",
            "ILSVRC2013_DET_train/n02280649.tar\n",
            "ILSVRC2013_DET_train/n01749939.tar\n",
            "ILSVRC2013_DET_train/n02799071.tar\n",
            "ILSVRC2013_DET_train/n02951358.tar\n",
            "ILSVRC2013_DET_train/n02009229.tar\n",
            "ILSVRC2013_DET_train/n01729322.tar\n",
            "ILSVRC2013_DET_train/n02787622.tar\n",
            "ILSVRC2013_DET_train/n03581125.tar\n",
            "ILSVRC2013_DET_train/n02088238.tar\n",
            "ILSVRC2013_DET_train/n07583066.tar\n",
            "ILSVRC2013_DET_train/n02687172.tar\n",
            "ILSVRC2013_DET_train/n02101556.tar\n",
            "ILSVRC2013_DET_train/n04252225.tar\n",
            "ILSVRC2013_DET_train/n02840245.tar\n",
            "ILSVRC2013_DET_train/n01514859.tar\n",
            "ILSVRC2013_DET_train/n02951585.tar\n",
            "ILSVRC2013_DET_train/n02106166.tar\n",
            "ILSVRC2013_DET_train/n02814533.tar\n",
            "ILSVRC2013_DET_train/n01882714.tar\n",
            "ILSVRC2013_DET_train/n03188531.tar\n",
            "ILSVRC2013_DET_train/n02017213.tar\n",
            "ILSVRC2013_DET_train/n01860187.tar\n",
            "ILSVRC2013_DET_train/n02108000.tar\n",
            "ILSVRC2013_DET_train/n02107312.tar\n",
            "ILSVRC2013_DET_train/n02129165.tar\n",
            "ILSVRC2013_DET_train/n02071294.tar\n",
            "ILSVRC2013_DET_train/n02107142.tar\n",
            "ILSVRC2013_DET_train/n03095699.tar\n",
            "ILSVRC2013_DET_train/n03832673.tar\n",
            "ILSVRC2013_DET_train/n02807133.tar\n",
            "ILSVRC2013_DET_train/n04037443.tar\n",
            "ILSVRC2013_DET_train/n03297495.tar\n",
            "ILSVRC2013_DET_train/n02099601.tar\n",
            "ILSVRC2013_DET_train/n04019541.tar\n",
            "ILSVRC2013_DET_train/n01806567.tar\n",
            "ILSVRC2013_DET_train/n07753592.tar\n",
            "ILSVRC2013_DET_train/n02992211.tar\n",
            "ILSVRC2013_DET_train/n04335209.tar\n",
            "ILSVRC2013_DET_train/n07615774.tar\n",
            "ILSVRC2013_DET_train/n02110806.tar\n",
            "ILSVRC2013_DET_train/n02111500.tar\n",
            "ILSVRC2013_DET_train/n03991062.tar\n",
            "ILSVRC2013_DET_train/n02486261.tar\n",
            "ILSVRC2013_DET_train/n04542943.tar\n",
            "ILSVRC2013_DET_train/n03125729.tar\n",
            "ILSVRC2013_DET_train/n02107574.tar\n",
            "ILSVRC2013_DET_train/n02098105.tar\n",
            "ILSVRC2013_DET_train/n03584254.tar\n",
            "ILSVRC2013_DET_train/n02870880.tar\n",
            "ILSVRC2013_DET_train/n03950228.tar\n",
            "ILSVRC2013_DET_train/n02839592.tar\n",
            "ILSVRC2013_DET_train/n02802426.tar\n",
            "ILSVRC2013_DET_train/n03891251.tar\n",
            "ILSVRC2013_DET_train/n03814639.tar\n",
            "ILSVRC2013_DET_train/n03201208.tar\n",
            "ILSVRC2013_DET_train/n02494079.tar\n",
            "ILSVRC2013_DET_train/n02085782.tar\n",
            "ILSVRC2013_DET_train/n02110063.tar\n",
            "ILSVRC2013_DET_train/n04131690.tar\n",
            "ILSVRC2013_DET_train/n03100240.tar\n",
            "ILSVRC2013_DET_train/n02510455.tar\n",
            "ILSVRC2013_DET_train/n02206856.tar\n",
            "ILSVRC2013_DET_train/n07720875.tar\n",
            "ILSVRC2013_DET_train/n01776313.tar\n",
            "ILSVRC2013_DET_train/n01495701.tar\n",
            "ILSVRC2013_DET_train/n02129604.tar\n",
            "ILSVRC2013_DET_train/n03670208.tar\n",
            "ILSVRC2013_DET_train/n02119789.tar\n",
            "ILSVRC2013_DET_train/n07742313.tar\n",
            "ILSVRC2013_DET_train/n01667778.tar\n",
            "ILSVRC2013_DET_train/n02398521.tar\n",
            "ILSVRC2013_DET_train/n02097658.tar\n",
            "ILSVRC2013_DET_train/n04081281.tar\n",
            "ILSVRC2013_DET_train/n01664065.tar\n",
            "ILSVRC2013_DET_train/n02062744.tar\n",
            "ILSVRC2013_DET_train/n01534433.tar\n",
            "ILSVRC2013_DET_train/n07747607.tar\n",
            "ILSVRC2013_DET_train/n02274259.tar\n",
            "ILSVRC2013_DET_train/n03207941.tar\n",
            "ILSVRC2013_DET_train/n01665541.tar\n",
            "ILSVRC2013_DET_train/n02109961.tar\n",
            "ILSVRC2013_DET_train/n01833805.tar\n",
            "ILSVRC2013_DET_train/n02815834.tar\n",
            "ILSVRC2013_DET_train/n02096585.tar\n",
            "ILSVRC2013_DET_train/n04347754.tar\n",
            "ILSVRC2013_DET_train/n03109150.tar\n",
            "ILSVRC2013_DET_train/n02970849.tar\n",
            "ILSVRC2013_DET_train/n04099969.tar\n",
            "ILSVRC2013_DET_train/n03775546.tar\n",
            "ILSVRC2013_DET_train/n02101388.tar\n",
            "ILSVRC2013_DET_train/n02086240.tar\n",
            "ILSVRC2013_DET_train/n01944390.tar\n",
            "ILSVRC2013_DET_train/n02488702.tar\n",
            "ILSVRC2013_DET_train/n04517823.tar\n",
            "ILSVRC2013_DET_train/n01843065.tar\n",
            "ILSVRC2013_DET_train/ILSVRC2013_DET_train_extra5.tar\n",
            "ILSVRC2013_DET_train/n01608432.tar\n",
            "ILSVRC2013_DET_train/n02002724.tar\n",
            "ILSVRC2013_DET_train/n02104365.tar\n",
            "ILSVRC2013_DET_train/n08517676.tar\n",
            "ILSVRC2013_DET_train/n04379243.tar\n",
            "ILSVRC2013_DET_train/n07930864.tar\n",
            "ILSVRC2013_DET_train/n02091244.tar\n",
            "ILSVRC2013_DET_train/n03908714.tar\n",
            "ILSVRC2013_DET_train/n03249569.tar\n",
            "ILSVRC2013_DET_train/n01753488.tar\n",
            "ILSVRC2013_DET_train/n03120491.tar\n",
            "ILSVRC2013_DET_train/n04536866.tar\n",
            "ILSVRC2013_DET_train/n02033041.tar\n",
            "ILSVRC2013_DET_train/n03376595.tar\n",
            "ILSVRC2013_DET_train/n04259630.tar\n",
            "ILSVRC2013_DET_train/n01770393.tar\n",
            "ILSVRC2013_DET_train/n06892775.tar\n",
            "ILSVRC2013_DET_train/n07739125.tar\n",
            "ILSVRC2013_DET_train/n03017168.tar\n",
            "ILSVRC2013_DET_train/n02132136.tar\n",
            "ILSVRC2013_DET_train/n03916031.tar\n",
            "ILSVRC2013_DET_train/n01443537.tar\n",
            "ILSVRC2013_DET_train/n01797886.tar\n",
            "ILSVRC2013_DET_train/n01682714.tar\n",
            "ILSVRC2013_DET_train/n02110185.tar\n",
            "ILSVRC2013_DET_train/n02493509.tar\n",
            "ILSVRC2013_DET_train/n01824575.tar\n",
            "ILSVRC2013_DET_train/n03063338.tar\n",
            "ILSVRC2013_DET_train/n02091134.tar\n",
            "ILSVRC2013_DET_train/n07714571.tar\n",
            "ILSVRC2013_DET_train/n01847000.tar\n",
            "ILSVRC2013_DET_train/n02423022.tar\n",
            "ILSVRC2013_DET_train/n01695060.tar\n",
            "ILSVRC2013_DET_train/n02493793.tar\n",
            "ILSVRC2013_DET_train/n02037110.tar\n",
            "ILSVRC2013_DET_train/n03141823.tar\n",
            "ILSVRC2013_DET_train/n01855672.tar\n",
            "ILSVRC2013_DET_train/n02412080.tar\n",
            "ILSVRC2013_DET_train/n02097298.tar\n",
            "ILSVRC2013_DET_train/n01807496.tar\n",
            "ILSVRC2013_DET_train/n03529860.tar\n",
            "ILSVRC2013_DET_train/n07697100.tar\n",
            "ILSVRC2013_DET_train/n03690938.tar\n",
            "ILSVRC2013_DET_train/ILSVRC2013_DET_train_extra1.tar\n",
            "ILSVRC2013_DET_train/n07753113.tar\n",
            "ILSVRC2013_DET_train/n03272010.tar\n",
            "ILSVRC2013_DET_train/n01990800.tar\n",
            "ILSVRC2013_DET_train/n02219486.tar\n",
            "ILSVRC2013_DET_train/n02503517.tar\n",
            "ILSVRC2013_DET_train/n04334599.tar\n",
            "ILSVRC2013_DET_train/n02092339.tar\n",
            "ILSVRC2013_DET_train/n04429376.tar\n",
            "ILSVRC2013_DET_train/n04004767.tar\n",
            "ILSVRC2013_DET_train/n01689811.tar\n",
            "ILSVRC2013_DET_train/n02100877.tar\n",
            "ILSVRC2013_DET_train/n02113186.tar\n",
            "ILSVRC2013_DET_train/n07749582.tar\n",
            "ILSVRC2013_DET_train/n02958343.tar\n",
            "ILSVRC2013_DET_train/n02492660.tar\n",
            "ILSVRC2013_DET_train/n03000684.tar\n",
            "ILSVRC2013_DET_train/n02691156.tar\n",
            "ILSVRC2013_DET_train/n03476991.tar\n",
            "ILSVRC2013_DET_train/n03110669.tar\n",
            "ILSVRC2013_DET_train/n03995372.tar\n",
            "ILSVRC2013_DET_train/n03804744.tar\n",
            "ILSVRC2013_DET_train/n02097047.tar\n",
            "ILSVRC2013_DET_train/n02276258.tar\n",
            "ILSVRC2013_DET_train/n02120079.tar\n",
            "ILSVRC2013_DET_train/n03085013.tar\n",
            "ILSVRC2013_DET_train/n03769881.tar\n",
            "ILSVRC2013_DET_train/n07718747.tar\n",
            "ILSVRC2013_DET_train/n03271574.tar\n",
            "ILSVRC2013_DET_train/n02411705.tar\n",
            "ILSVRC2013_DET_train/ILSVRC2013_DET_train_extra3.tar\n",
            "ILSVRC2013_DET_train/n02490219.tar\n",
            "ILSVRC2013_DET_train/n01639765.tar\n",
            "ILSVRC2013_DET_train/n01735189.tar\n",
            "ILSVRC2013_DET_train/n02092002.tar\n",
            "ILSVRC2013_DET_train/n02821627.tar\n",
            "ILSVRC2013_DET_train/n02131653.tar\n",
            "ILSVRC2013_DET_train/n02085936.tar\n",
            "ILSVRC2013_DET_train/n04371430.tar\n",
            "ILSVRC2013_DET_train/n02107908.tar\n",
            "ILSVRC2013_DET_train/n01616318.tar\n",
            "ILSVRC2013_DET_train/n02091635.tar\n",
            "ILSVRC2013_DET_train/n02112350.tar\n",
            "ILSVRC2013_DET_train/n02076196.tar\n",
            "ILSVRC2013_DET_train/n08539072.tar\n",
            "ILSVRC2013_DET_train/n02509815.tar\n",
            "ILSVRC2013_DET_train/n02924116.tar\n",
            "ILSVRC2013_DET_train/n01728572.tar\n",
            "ILSVRC2013_DET_train/n01532829.tar\n",
            "ILSVRC2013_DET_train/n02088094.tar\n",
            "ILSVRC2013_DET_train/n01503061.tar\n",
            "ILSVRC2013_DET_train/n01514668.tar\n",
            "ILSVRC2013_DET_train/n02326432.tar\n",
            "ILSVRC2013_DET_train/n04263257.tar\n",
            "ILSVRC2013_DET_train/n04074963.tar\n",
            "ILSVRC2013_DET_train/n07693725.tar\n",
            "ILSVRC2013_DET_train/n02094114.tar\n",
            "ILSVRC2013_DET_train/n02105162.tar\n",
            "ILSVRC2013_DET_train/n02835271.tar\n",
            "ILSVRC2013_DET_train/n01496331.tar\n",
            "ILSVRC2013_DET_train/n01829413.tar\n",
            "ILSVRC2013_DET_train/n07753275.tar\n",
            "ILSVRC2013_DET_train/n03314780.tar\n",
            "ILSVRC2013_DET_train/n04254680.tar\n",
            "ILSVRC2013_DET_train/n03344393.tar\n",
            "ILSVRC2013_DET_train/n02002556.tar\n",
            "ILSVRC2013_DET_train/n02917067.tar\n",
            "ILSVRC2013_DET_train/n07734744.tar\n",
            "ILSVRC2013_DET_train/n02133161.tar\n",
            "ILSVRC2013_DET_train/n02094258.tar\n",
            "ILSVRC2013_DET_train/n02086079.tar\n",
            "ILSVRC2013_DET_train/n02112706.tar\n",
            "ILSVRC2013_DET_train/n02086910.tar\n",
            "ILSVRC2013_DET_train/n04530566.tar\n",
            "ILSVRC2013_DET_train/n02090379.tar\n",
            "ILSVRC2013_DET_train/n03513137.tar\n",
            "ILSVRC2013_DET_train/n02403003.tar\n",
            "ILSVRC2013_DET_train/n01982650.tar\n",
            "ILSVRC2013_DET_train/n03196217.tar\n",
            "ILSVRC2013_DET_train/n02105505.tar\n",
            "ILSVRC2013_DET_train/n02317335.tar\n",
            "ILSVRC2013_DET_train/n03908618.tar\n",
            "ILSVRC2013_DET_train/n02120505.tar\n",
            "ILSVRC2013_DET_train/n04118538.tar\n",
            "ILSVRC2013_DET_train/n02113023.tar\n",
            "ILSVRC2013_DET_train/n01740131.tar\n",
            "ILSVRC2013_DET_train/n01798484.tar\n",
            "ILSVRC2013_DET_train/n02374451.tar\n",
            "ILSVRC2013_DET_train/ILSVRC2013_DET_train_extra4.tar\n",
            "ILSVRC2013_DET_train/n02087394.tar\n",
            "ILSVRC2013_DET_train/n02102040.tar\n",
            "ILSVRC2013_DET_train/n01910747.tar\n",
            "ILSVRC2013_DET_train/n02110958.tar\n",
            "ILSVRC2013_DET_train/n03124170.tar\n",
            "ILSVRC2013_DET_train/ILSVRC2013_DET_train_extra2.tar\n",
            "ILSVRC2013_DET_train/n02123597.tar\n",
            "ILSVRC2013_DET_train/n03782006.tar\n",
            "ILSVRC2013_DET_train/n02397096.tar\n",
            "ILSVRC2013_DET_train/n02011460.tar\n",
            "ILSVRC2013_DET_train/n02676566.tar\n",
            "ILSVRC2013_DET_train/n02089078.tar\n",
            "ILSVRC2013_DET_train/n02104029.tar\n",
            "ILSVRC2013_DET_train/n01796340.tar\n",
            "ILSVRC2013_DET_train/n03662601.tar\n",
            "ILSVRC2013_DET_train/n02012849.tar\n",
            "ILSVRC2013_DET_train/n04606251.tar\n",
            "ILSVRC2013_DET_train/n02118333.tar\n",
            "ILSVRC2013_DET_train/n01518878.tar\n",
            "ILSVRC2013_DET_train/n03400231.tar\n",
            "ILSVRC2013_DET_train/n02342885.tar\n",
            "ILSVRC2013_DET_train/n02066245.tar\n",
            "ILSVRC2013_DET_train/n03790512.tar\n",
            "ILSVRC2013_DET_train/n03770679.tar\n",
            "ILSVRC2013_DET_train/n03120778.tar\n",
            "ILSVRC2013_DET_train/n02105855.tar\n",
            "ILSVRC2013_DET_train/n04065464.tar\n",
            "ILSVRC2013_DET_train/n03792782.tar\n",
            "ILSVRC2013_DET_train/n04557648.tar\n",
            "ILSVRC2013_DET_train/n03797390.tar\n",
            "ILSVRC2013_DET_train/n04487394.tar\n",
            "ILSVRC2013_DET_train/n04376876.tar\n",
            "ILSVRC2013_DET_train/n02027492.tar\n",
            "ILSVRC2013_DET_train/n03127747.tar\n",
            "ILSVRC2013_DET_train/n02102480.tar\n",
            "ILSVRC2013_DET_train/n04023962.tar\n",
            "ILSVRC2013_DET_train/n03633091.tar\n",
            "ILSVRC2013_DET_train/n07697537.tar\n",
            "ILSVRC2013_DET_train/n02093754.tar\n",
            "ILSVRC2013_DET_train/n02892767.tar\n",
            "ILSVRC2013_DET_train/n01644373.tar\n",
            "ILSVRC2013_DET_train/n02090622.tar\n",
            "ILSVRC2013_DET_train/n02415577.tar\n",
            "ILSVRC2013_DET_train/n01687978.tar\n",
            "ILSVRC2013_DET_train/n02102973.tar\n",
            "ILSVRC2013_DET_train/n04252077.tar\n",
            "ILSVRC2013_DET_train/n02484975.tar\n",
            "ILSVRC2013_DET_train/n02102318.tar\n",
            "ILSVRC2013_DET_train/n02454379.tar\n",
            "ILSVRC2013_DET_train/n03942813.tar\n",
            "ILSVRC2013_DET_train/n02134418.tar\n",
            "ILSVRC2013_DET_train/ILSVRC2013_DET_train_extra7.tar\n",
            "ILSVRC2013_DET_train/n01729977.tar\n",
            "ILSVRC2013_DET_train/n04152593.tar\n",
            "ILSVRC2013_DET_train/n02119022.tar\n",
            "ILSVRC2013_DET_train/n03761084.tar\n",
            "ILSVRC2013_DET_train/n07697313.tar\n",
            "ILSVRC2013_DET_train/n01530575.tar\n",
            "ILSVRC2013_DET_train/n02094433.tar\n",
            "ILSVRC2013_DET_train/n02091831.tar\n",
            "ILSVRC2013_DET_train/n02113978.tar\n",
            "ILSVRC2013_DET_train/n01693334.tar\n",
            "ILSVRC2013_DET_train/n02277742.tar\n",
            "ILSVRC2013_DET_train/n03673027.tar\n",
            "ILSVRC2013_DET_train/n02701002.tar\n",
            "ILSVRC2013_DET_train/n02025239.tar\n",
            "ILSVRC2013_DET_train/n03642806.tar\n",
            "ILSVRC2013_DET_train/n01855032.tar\n",
            "ILSVRC2013_DET_train/n04442312.tar\n",
            "ILSVRC2013_DET_train/n03211117.tar\n",
            "ILSVRC2013_DET_train/n04483307.tar\n",
            "ILSVRC2013_DET_train/n02346627.tar\n",
            "ILSVRC2013_DET_train/n02489166.tar\n",
            "ILSVRC2013_DET_train/n03447447.tar\n",
            "ILSVRC2013_DET_train/n02088466.tar\n",
            "ILSVRC2013_DET_train/n03793489.tar\n",
            "ILSVRC2013_DET_train/n01560419.tar\n",
            "ILSVRC2013_DET_train/n03445924.tar\n",
            "ILSVRC2013_DET_train/n08518171.tar\n",
            "ILSVRC2013_DET_train/n03498962.tar\n",
            "ILSVRC2013_DET_train/n02930766.tar\n",
            "ILSVRC2013_DET_train/n02095889.tar\n",
            "ILSVRC2013_DET_train/n02113624.tar\n",
            "ILSVRC2013_DET_train/n02099712.tar\n",
            "ILSVRC2013_DET_train/n02107683.tar\n",
            "ILSVRC2013_DET_train/n02096437.tar\n",
            "ILSVRC2013_DET_train/n01685808.tar\n",
            "ILSVRC2013_DET_train/n01688243.tar\n",
            "ILSVRC2013_DET_train/n04141076.tar\n",
            "ILSVRC2013_DET_train/n01820546.tar\n",
            "ILSVRC2013_DET_train/n03483316.tar\n",
            "ILSVRC2013_DET_train/n01739381.tar\n",
            "ILSVRC2013_DET_train/n03720891.tar\n",
            "ILSVRC2013_DET_train/n02111277.tar\n",
            "ILSVRC2013_DET_train/n01817953.tar\n",
            "ILSVRC2013_DET_train/n02324045.tar\n",
            "ILSVRC2013_DET_train/n01592084.tar\n",
            "ILSVRC2013_DET_train/n02879718.tar\n",
            "ILSVRC2013_DET_train/n02769748.tar\n",
            "ILSVRC2013_DET_train/n02106550.tar\n",
            "ILSVRC2013_DET_train/n03179701.tar\n",
            "ILSVRC2013_DET_train/n03062245.tar\n",
            "ILSVRC2013_DET_train/n03838899.tar\n",
            "ILSVRC2013_DET_train/n04026417.tar\n",
            "ILSVRC2013_DET_train/n04228054.tar\n",
            "ILSVRC2013_DET_train/n02097130.tar\n",
            "ILSVRC2013_DET_train/n02834778.tar\n",
            "ILSVRC2013_DET_train/n04118776.tar\n",
            "ILSVRC2013_DET_train/n01531178.tar\n",
            "ILSVRC2013_DET_train/n02437312.tar\n",
            "ILSVRC2013_DET_train/n02395003.tar\n",
            "ILSVRC2013_DET_train/n01726692.tar\n",
            "ILSVRC2013_DET_train/n02097209.tar\n",
            "ILSVRC2013_DET_train/n01641577.tar\n",
            "ILSVRC2013_DET_train/n02111129.tar\n",
            "ILSVRC2013_DET_train/n02121808.tar\n",
            "ILSVRC2013_DET_train/n02419796.tar\n",
            "ILSVRC2013_DET_train/n02113712.tar\n",
            "ILSVRC2013_DET_train/n02444819.tar\n",
            "ILSVRC2013_DET_train/n02007558.tar\n",
            "ILSVRC2013_DET_train/n02093991.tar\n",
            "ILSVRC2013_DET_train/n01734418.tar\n",
            "ILSVRC2013_DET_train/n01819313.tar\n",
            "ILSVRC2013_DET_train/n02110341.tar\n",
            "ILSVRC2013_DET_train/n04311174.tar\n",
            "ILSVRC2013_DET_train/n02095570.tar\n",
            "ILSVRC2013_DET_train/n03961711.tar\n",
            "ILSVRC2013_DET_train/n02088632.tar\n",
            "ILSVRC2013_DET_train/n02096177.tar\n",
            "ILSVRC2013_DET_train/n04317175.tar\n",
            "ILSVRC2013_DET_train/n02100583.tar\n",
            "ILSVRC2013_DET_train/n01694178.tar\n",
            "ILSVRC2013_DET_train/n02402425.tar\n",
            "ILSVRC2013_DET_train/n04392985.tar\n",
            "ILSVRC2013_DET_train/n02979186.tar\n",
            "ILSVRC2013_DET_train/n02088364.tar\n",
            "ILSVRC2013_DET_train/n03063599.tar\n",
            "ILSVRC2013_DET_train/n01674464.tar\n",
            "ILSVRC2013_DET_train/n03535780.tar\n",
            "ILSVRC2013_DET_train/n01667114.tar\n",
            "ILSVRC2013_DET_train/n03868242.tar\n",
            "ILSVRC2013_DET_train/n02504013.tar\n",
            "ILSVRC2013_DET_train/n02105251.tar\n",
            "ILSVRC2013_DET_train/n02089973.tar\n",
            "ILSVRC2013_DET_train/n07745940.tar\n",
            "ILSVRC2013_DET_train/n02108915.tar\n",
            "ILSVRC2013_DET_train/n03982430.tar\n",
            "ILSVRC2013_DET_train/n04357314.tar\n",
            "ILSVRC2013_DET_train/n02013706.tar\n",
            "ILSVRC2013_DET_train/n04147183.tar\n",
            "ILSVRC2013_DET_train/n03764736.tar\n",
            "ILSVRC2013_DET_train/n04330267.tar\n",
            "ILSVRC2013_DET_train/n04273569.tar\n",
            "ILSVRC2013_DET_train/n04256520.tar\n",
            "ILSVRC2013_DET_train/n03038685.tar\n",
            "ILSVRC2013_DET_train/n02445715.tar\n",
            "ILSVRC2013_DET_train/n04154565.tar\n",
            "ILSVRC2013_DET_train/n01498041.tar\n",
            "ILSVRC2013_DET_train/n02105641.tar\n",
            "ILSVRC2013_DET_train/n02108422.tar\n",
            "ILSVRC2013_DET_train/n01784675.tar\n",
            "ILSVRC2013_DET_train/n02791124.tar\n",
            "ILSVRC2013_DET_train/n02764044.tar\n",
            "ILSVRC2013_DET_train/n02124075.tar\n",
            "ILSVRC2013_DET_train/n02097474.tar\n",
            "ILSVRC2013_DET_train/n03759954.tar\n",
            "ILSVRC2013_DET_train/n02085620.tar\n",
            "ILSVRC2013_DET_train/n03001627.tar\n",
            "ILSVRC2013_DET_train/n03928116.tar\n",
            "ILSVRC2013_DET_train/n02009912.tar\n",
            "ILSVRC2013_DET_train/n02687992.tar\n",
            "ILSVRC2013_DET_train/n02396427.tar\n",
            "ILSVRC2013_DET_train/n02134084.tar\n",
            "ILSVRC2013_DET_train/n02109525.tar\n",
            "ILSVRC2013_DET_train/n02279972.tar\n",
            "ILSVRC2013_DET_train/n03947888.tar\n",
            "ILSVRC2013_DET_train/n02488291.tar\n",
            "ILSVRC2013_DET_train/n01669191.tar\n",
            "ILSVRC2013_DET_train/n02391049.tar\n",
            "ILSVRC2013_DET_train/n02389026.tar\n",
            "ILSVRC2013_DET_train/n02804414.tar\n",
            "ILSVRC2013_DET_train/n01828970.tar\n",
            "ILSVRC2013_DET_train/n01677366.tar\n",
            "ILSVRC2013_DET_train/n02106662.tar\n",
            "ILSVRC2013_DET_train/n01558993.tar\n",
            "ILSVRC2013_DET_train/n02486410.tar\n",
            "ILSVRC2013_DET_train/n02111889.tar\n",
            "ILSVRC2013_DET_train/n03128519.tar\n",
            "ILSVRC2013_DET_train/n04344873.tar\n",
            "ILSVRC2013_DET_train/n02108551.tar\n",
            "ILSVRC2013_DET_train/n07873807.tar\n",
            "ILSVRC2013_DET_train/n02690373.tar\n",
            "ILSVRC2013_DET_train/n02281787.tar\n",
            "ILSVRC2013_DET_train/n04540053.tar\n",
            "ILSVRC2013_DET_train/n03538406.tar\n",
            "ILSVRC2013_DET_train/n02693246.tar\n",
            "ILSVRC2013_DET_train/n02096051.tar\n",
            "ILSVRC2013_DET_train/n04468005.tar\n",
            "ILSVRC2013_DET_train/n02106030.tar\n",
            "ILSVRC2013_DET_train/n04356056.tar\n",
            "ILSVRC2013_DET_train/n04380533.tar\n",
            "ILSVRC2013_DET_train/n00007846.tar\n",
            "ILSVRC2013_DET_train/n03467517.tar\n",
            "ILSVRC2013_DET_train/n02328150.tar\n",
            "ILSVRC2013_DET_train/n02123394.tar\n",
            "ILSVRC2013_DET_train/n01795545.tar\n",
            "ILSVRC2013_DET_train/n01692333.tar\n",
            "ILSVRC2013_DET_train/n02108089.tar\n",
            "ILSVRC2013_DET_train/n03131574.tar\n",
            "ILSVRC2013_DET_train/n03495258.tar\n",
            "ILSVRC2013_DET_train/n02766320.tar\n",
            "ILSVRC2013_DET_train/n01983481.tar\n",
            "ILSVRC2013_DET_train/n03134739.tar\n",
            "ILSVRC2013_DET_train/n07695742.tar\n",
            "ILSVRC2013_DET_train/n02492035.tar\n",
            "ILSVRC2013_DET_train/n02777292.tar\n",
            "ILSVRC2013_DET_train/n02093647.tar\n",
            "ILSVRC2013_DET_train/n01644900.tar\n",
            "ILSVRC2013_DET_train/n01748264.tar\n",
            "ILSVRC2013_DET_train/n02123045.tar\n",
            "ILSVRC2013_DET_train/n02165456.tar\n",
            "ILSVRC2013_DET_train/n02099849.tar\n",
            "ILSVRC2013_DET_train/n03791053.tar\n",
            "ILSVRC2013_DET_train/n04285008.tar\n",
            "ILSVRC2013_DET_train/n04515003.tar\n",
            "ILSVRC2013_DET_train/n09835506.tar\n",
            "ILSVRC2013_DET_train/n02091467.tar\n",
            "ILSVRC2013_DET_train/n02102177.tar\n",
            "ILSVRC2013_DET_train/n02056570.tar\n",
            "ILSVRC2013_DET_train/n04070727.tar\n",
            "ILSVRC2013_DET_train/n01582220.tar\n",
            "ILSVRC2013_DET_train/n02006656.tar\n",
            "ILSVRC2013_DET_train/n02089867.tar\n",
            "ILSVRC2013_DET_train/n03710721.tar\n",
            "ILSVRC2013_DET_train/n01675722.tar\n",
            "ILSVRC2013_DET_train/n01751748.tar\n",
            "ILSVRC2013_DET_train/n03379051.tar\n",
            "ILSVRC2013_DET_train/n01737021.tar\n",
            "ILSVRC2013_DET_train/n02018207.tar\n",
            "ILSVRC2013_DET_train/n01843383.tar\n",
            "ILSVRC2013_DET_train/n02422106.tar\n",
            "ILSVRC2013_DET_train/n02487347.tar\n",
            "ILSVRC2013_DET_train/n02422699.tar\n",
            "ILSVRC2013_DET_train/n02268443.tar\n",
            "ILSVRC2013_DET_train/n01984695.tar\n",
            "ILSVRC2013_DET_train/n01728920.tar\n",
            "ILSVRC2013_DET_train/n03372029.tar\n",
            "ILSVRC2013_DET_train/n01580077.tar\n",
            "ILSVRC2013_DET_train/n03636649.tar\n",
            "ILSVRC2013_DET_train/n02786058.tar\n",
            "ILSVRC2013_DET_train/n02098413.tar\n",
            "ILSVRC2013_DET_train/n02096294.tar\n",
            "ILSVRC2013_DET_train/n02484322.tar\n",
            "ILSVRC2013_DET_train/n04591713.tar\n",
            "ILSVRC2013_DET_train/n01818515.tar\n",
            "ILSVRC2013_DET_train/n00477639.tar\n",
            "ILSVRC2013_DET_train/n03770439.tar\n",
            "ILSVRC2013_DET_train/n04254120.tar\n",
            "ILSVRC2013_DET_train/n04336792.tar\n",
            "ILSVRC2013_DET_train/n02437136.tar\n",
            "ILSVRC2013_DET_train/n02883205.tar\n",
            "ILSVRC2013_DET_train/ILSVRC2013_DET_train_extra0.tar\n",
            "ILSVRC2013_DET_train/n01755581.tar\n",
            "ILSVRC2013_DET_train/n02828884.tar\n",
            "ILSVRC2013_DET_train/n02028035.tar\n",
            "ILSVRC2013_DET_train/n03745146.tar\n",
            "ILSVRC2013_DET_train/n01744401.tar\n",
            "ILSVRC2013_DET_train/n03394916.tar\n",
            "ILSVRC2013_DET_train/n04270147.tar\n",
            "ILSVRC2013_DET_train/n02099267.tar\n",
            "ILSVRC2013_DET_train/n07880968.tar\n",
            "ILSVRC2013_DET_train/n02106382.tar\n",
            "ILSVRC2013_DET_train/n02098286.tar\n",
            "ILSVRC2013_DET_train/n03445777.tar\n",
            "ILSVRC2013_DET_train/n02101006.tar\n",
            "ILSVRC2013_DET_train/n04612504.tar\n",
            "ILSVRC2013_DET_train/n03452741.tar\n",
            "ILSVRC2013_DET_train/n04409515.tar\n",
            "ILSVRC2013_DET_train/n03255030.tar\n",
            "ILSVRC2013_DET_train/n04487081.tar\n",
            "ILSVRC2013_DET_train/n01756291.tar\n",
            "ILSVRC2013_DET_train/n02112137.tar\n",
            "ILSVRC2013_DET_train/n01601694.tar\n",
            "ILSVRC2013_DET_train/n02356798.tar\n",
            "ILSVRC2013_DET_train/n10565667.tar\n",
            "ILSVRC2013_DET_train/n06874185.tar\n",
            "ILSVRC2013_DET_train/n02018795.tar\n",
            "ILSVRC2013_DET_train/n02504458.tar\n",
            "ILSVRC2013_DET_train/n02672831.tar\n",
            "ILSVRC2013_DET_train/n03619890.tar\n",
            "ILSVRC2013_DET_train/n02090721.tar\n",
            "ILSVRC2013_DET_train/n00141669.tar\n",
            "ILSVRC2013_DET_train/ILSVRC2013_DET_train_extra6.tar\n",
            "ILSVRC2013_DET_train/n02099429.tar\n",
            "ILSVRC2013_DET_train/n03337140.tar\n",
            "ILSVRC2013_DET_train/n02051845.tar\n",
            "ILSVRC2013_DET_train/n03958227.tar\n",
            "ILSVRC2013_DET_train/n02095314.tar\n",
            "ILSVRC2013_DET_train/ILSVRC2013_DET_train_extra9.tar\n",
            "ILSVRC2013_DET_train/n01537544.tar\n",
            "ILSVRC2013_DET_train/n03676483.tar\n",
            "ILSVRC2013_DET_train/n04146614.tar\n",
            "ILSVRC2013_DET_train/n01662784.tar\n",
            "ILSVRC2013_DET_train/n02880940.tar\n",
            "ILSVRC2013_DET_train/n02355227.tar\n",
            "ILSVRC2013_DET_train/n02105056.tar\n",
            "ILSVRC2013_DET_train/n02100236.tar\n",
            "ILSVRC2013_DET_train/n02100735.tar\n",
            "ILSVRC2013_DET_train/n02087046.tar\n",
            "ILSVRC2013_DET_train/n02091032.tar\n",
            "ILSVRC2013_DET_train/n04209133.tar\n",
            "ILSVRC2013_DET_train/n02058221.tar\n",
            "ILSVRC2013_DET_train/n04554684.tar\n",
            "ILSVRC2013_DET_train/n02093428.tar\n",
            "ILSVRC2013_DET_train/n08256735.tar\n",
            "ILSVRC2013_DET_train/n10148035.tar\n",
            "ILSVRC2013_DET_train/n04116512.tar\n",
            "ILSVRC2013_DET_train/n02395406.tar\n",
            "ILSVRC2013_DET_train/n02093859.tar\n",
            "ILSVRC2013_DET_train/n03416640.tar\n",
            "ILSVRC2013_DET_train/n02110627.tar\n",
            "ILSVRC2013_DET_train/n02692232.tar\n",
            "ILSVRC2013_DET_train/n02281406.tar\n",
            "ILSVRC2013_DET_train/n04509417.tar\n",
            "ILSVRC2013_DET_train/n02325366.tar\n"
          ]
        }
      ]
    },
    {
      "cell_type": "code",
      "source": [
        "# !unzip  /content/drive/MyDrive/Coding/Data/mirflickr25k.zip"
      ],
      "metadata": {
        "id": "aqnWt98JkLSi"
      },
      "execution_count": 6,
      "outputs": []
    },
    {
      "cell_type": "code",
      "source": [
        "def bw_image_remove(sample_path):\n",
        "  counter = 0\n",
        "  for i in sample_path:\n",
        "    counter += 1\n",
        "    sample_image = cv2.imread(i)\n",
        "    Chan_A = sample_image[:,:,0]\n",
        "    Chan_B = sample_image[:,:,1]\n",
        "    Chan_C = sample_image[:,:,2]\n",
        "    if (Chan_A == Chan_B).all():\n",
        "      os.remove(i)"
      ],
      "metadata": {
        "id": "AsqY9Ta2gcxm"
      },
      "execution_count": 7,
      "outputs": []
    },
    {
      "cell_type": "code",
      "execution_count": 8,
      "metadata": {
        "id": "0OTix7DAhlbj"
      },
      "outputs": [],
      "source": [
        "def give_me_sample(sample_path):\n",
        "  rand_index = np.random.choice(len(sample_path))\n",
        "\n",
        "  sample_img = cv2.imread(sample_path[rand_index])\n",
        "  sample_img_2 = cv2.cvtColor(sample_img, cv2.COLOR_BGR2LAB)\n",
        "  sample_img = cv2.cvtColor(sample_img, cv2.COLOR_BGR2RGB)\n",
        "\n",
        "  sample_img = sample_img/255.0\n",
        "  print(sample_img.max())\n",
        "  print(sample_img.min())\n",
        "\n",
        "  plt.imshow(sample_img)\n",
        "\n",
        "  print(sample_img.shape)"
      ]
    },
    {
      "cell_type": "code",
      "execution_count": 9,
      "metadata": {
        "id": "irQwLN0_gG_o"
      },
      "outputs": [],
      "source": [
        "batch_size = 8\n",
        "epochs = 200\n",
        "show_every = 10\n",
        "image_size = (96,96)\n",
        "H = image_size[0]\n",
        "W = image_size[1]\n",
        "# img_path = sample_path\n"
      ]
    },
    {
      "cell_type": "code",
      "execution_count": 10,
      "metadata": {
        "id": "DA8Y2Dg3gG_p"
      },
      "outputs": [],
      "source": [
        "def build_block(filter, kernel, strides, x):\n",
        "    x = Conv2D(filters= filter, kernel_size= kernel, strides= strides, padding = \"same\")(x)\n",
        "    x = BatchNormalization(momentum=0.8)(x)\n",
        "    x = LeakyReLU(alpha=0.2)(x)\n",
        "    \n",
        "    return x\n"
      ]
    },
    {
      "cell_type": "code",
      "execution_count": 11,
      "metadata": {
        "id": "6W-CsSGlgG_p"
      },
      "outputs": [],
      "source": [
        "def build_gan_model():\n",
        "    i = Input(shape = (H,W,1))\n",
        "    x = Conv2D(64, kernel_size= 2, strides= 1, padding=\"same\")(i)\n",
        "    x = build_block(64,2,2,x=x)\n",
        "    #112\n",
        "    x = build_block(128,2,2,x=x)\n",
        "    x_2 = x\n",
        "    #56\n",
        "    x = build_block(256,2,1,x=x)\n",
        "    # x_1 = x\n",
        "    # x = build_block(256,2,1,x=x)\n",
        "    #28\n",
        "    x = build_block(512,2,1,x=x)\n",
        "    x = build_block(512,2,1,x=x)\n",
        "    x = build_block(512,2,1,x=x)\n",
        "    x = build_block(512,2,1,x=x)\n",
        "    x = build_block(512,2,1,x=x)\n",
        "    #28\n",
        "    x = tf.nn.depth_to_space(x,2)\n",
        "    \n",
        "    #56\n",
        "    x = build_block(256,2,1,x=x)\n",
        "    x = build_block(256,2,2,x=x)\n",
        "    # x = tf.keras.layers.add([x_1,x])\n",
        "    x = tf.nn.depth_to_space(x,2)\n",
        "    #112\n",
        "    x = build_block(128,2,1,x=x)\n",
        "    x = build_block(128,2,1,x=x)\n",
        "    # x = tf.keras.layers.add([x_2,x])\n",
        "    x = tf.nn.depth_to_space(x,2)\n",
        "    \n",
        "    \n",
        "    x = build_block(64,3,1,x=x)\n",
        "    x = Conv2D(2,1,1, activation= \"tanh\")(x)\n",
        "\n",
        "    model = Model(inputs = i, outputs = x)\n",
        "\n",
        "    return model"
      ]
    },
    {
      "cell_type": "code",
      "execution_count": 12,
      "metadata": {
        "id": "HGtG7WcigG_q"
      },
      "outputs": [],
      "source": [
        "def build_dis_model():\n",
        "  i = Input(shape = (H,W,3))\n",
        "  x = Conv2D(filters=64, kernel_size=3, strides = 1, activation= LeakyReLU())(i)\n",
        "  x = build_block(64,3,1,x)\n",
        "  x = build_block(128,3,1,x)\n",
        "  x = build_block(128,3,2,x)\n",
        "  x = build_block(256,3,1,x)\n",
        "  x = build_block(256,3,2,x)\n",
        "  x = build_block(512,3,1,x)\n",
        "  x = build_block(512,3,2,x)\n",
        "\n",
        "  x = Flatten()(x)\n",
        "  x = Dense(1024)(x)\n",
        "  x = LeakyReLU()(x)\n",
        "  x = Dense(1, activation = \"sigmoid\")(x)\n",
        "\n",
        "  model = Model(inputs = i, outputs = x)\n",
        "  return model"
      ]
    },
    {
      "cell_type": "code",
      "execution_count": 13,
      "metadata": {
        "id": "vF3lpsYkgG_q"
      },
      "outputs": [],
      "source": [
        "gan_model = build_gan_model()\n",
        "dis_model = build_dis_model()"
      ]
    },
    {
      "cell_type": "code",
      "execution_count": 14,
      "metadata": {
        "id": "qN0MSBABgG_r",
        "colab": {
          "base_uri": "https://localhost:8080/"
        },
        "outputId": "bcbedcb7-0ea8-4ff1-a813-c83ef389e3c6"
      },
      "outputs": [
        {
          "output_type": "stream",
          "name": "stdout",
          "text": [
            "Downloading data from https://storage.googleapis.com/tensorflow/keras-applications/resnet/resnet50_weights_tf_dim_ordering_tf_kernels_notop.h5\n",
            "94773248/94765736 [==============================] - 1s 0us/step\n",
            "94781440/94765736 [==============================] - 1s 0us/step\n"
          ]
        }
      ],
      "source": [
        "resnet_layer = ResNet50(include_top= False, weights= \"imagenet\", input_shape= (H,W,3))\n",
        "resnet_model = Model(inputs = resnet_layer.input, outputs = resnet_layer.layers[32].output)\n",
        "resnet_model.trainable = False"
      ]
    },
    {
      "cell_type": "code",
      "execution_count": 15,
      "metadata": {
        "id": "vJ2jnlMwgG_r"
      },
      "outputs": [],
      "source": [
        "# resnet_model.summary()"
      ]
    },
    {
      "cell_type": "code",
      "source": [
        "# gan_model.summary()"
      ],
      "metadata": {
        "id": "yNA-hMlbvMK9"
      },
      "execution_count": 16,
      "outputs": []
    },
    {
      "cell_type": "code",
      "execution_count": 17,
      "metadata": {
        "id": "o-2iwNIqgG_s"
      },
      "outputs": [],
      "source": [
        "def lab_np(batch_size, batch, img_path):\n",
        "    g_array = np.zeros((1, H,W,1))\n",
        "    c_array = np.zeros((1,H,W,3))\n",
        "    image_size = (96,96)\n",
        "    for path in img_path[batch:batch + batch_size]:\n",
        "        open_img = cv2.imread(path)\n",
        "        open_img = cv2.resize(open_img, image_size)\n",
        "\n",
        "        color_img = cv2.cvtColor(open_img, COLOR_BGR2LAB)\n",
        "        color_img = color_img/255.0\n",
        "        gray_img = color_img[:,:,0]\n",
        "\n",
        "        gray_img = np.reshape(gray_img, (1,H,W,1))\n",
        "        color_img = np.expand_dims(color_img, axis = 0)\n",
        "        \n",
        "\n",
        "        c_array = np.append(c_array, color_img, axis = 0)\n",
        "        g_array = np.append(g_array, gray_img, axis = 0)\n",
        "\n",
        "    c_array = np.delete(c_array, 0, axis = 0)\n",
        "    g_array = np.delete(g_array, 0, axis = 0)\n",
        "        \n",
        "        \n",
        "    return g_array, c_array"
      ]
    },
    {
      "cell_type": "code",
      "execution_count": 18,
      "metadata": {
        "id": "Hm3yR9MhgG_t"
      },
      "outputs": [],
      "source": [
        "file_path = \"/content/drive/MyDrive/Coding/image_result/gray_to_color/\"\n",
        "if not os.path.exists(file_path):\n",
        "    os.makedirs(file_path)"
      ]
    },
    {
      "cell_type": "code",
      "execution_count": 19,
      "metadata": {
        "id": "UFAnQhs8gG_t"
      },
      "outputs": [],
      "source": [
        "check_path = \"/content/drive/MyDrive/Coding/Check_point/gray_to_color\"\n",
        "if not os.path.exists(check_path):\n",
        "    os.makedirs(check_path)\n",
        "\n",
        "check_point = tf.train.Checkpoint(gan_model = gan_model, dis_model = dis_model)\n",
        "check_point_manager = tf.train.CheckpointManager(checkpoint= check_point, directory=check_path, max_to_keep=5)"
      ]
    },
    {
      "cell_type": "code",
      "execution_count": 20,
      "metadata": {
        "id": "ABfsBhoLgG_t",
        "colab": {
          "base_uri": "https://localhost:8080/"
        },
        "outputId": "12d47560-5272-4bc9-943b-63727d744fe3"
      },
      "outputs": [
        {
          "output_type": "execute_result",
          "data": {
            "text/plain": [
              "<tensorflow.python.training.tracking.util.CheckpointLoadStatus at 0x7f7e7e19d110>"
            ]
          },
          "metadata": {},
          "execution_count": 20
        }
      ],
      "source": [
        "check_point.restore(check_point_manager.latest_checkpoint)"
      ]
    },
    {
      "cell_type": "code",
      "execution_count": 21,
      "metadata": {
        "id": "piWJci8GgG_t"
      },
      "outputs": [],
      "source": [
        "def plot_result(epoch, img_path, file_number):\n",
        "    epoch = epoch\n",
        "    \n",
        "    rows = 4\n",
        "    cols = 3\n",
        "\n",
        "    fig, ax = plt.subplots(rows,cols, figsize = (12,12))\n",
        "    fig.tight_layout()\n",
        "\n",
        "    for i in range(rows):\n",
        "        img_open = cv2.imread(img_path[i])\n",
        "        img_open = cv2.resize(img_open,(H,W))\n",
        "        real_img = cv2.cvtColor(img_open, cv2.COLOR_BGR2LAB)\n",
        "        real_img = real_img/255.0\n",
        "\n",
        "        \n",
        "        gray_img = real_img[:,:,0]\n",
        "        gray_img_for_imshow = real_img[:,:,0]\n",
        "\n",
        "        gray_img = np.reshape(gray_img, (1,H,W,1))\n",
        "\n",
        "        \n",
        "\n",
        "        \n",
        "        fake_img = gan_model(gray_img, training = False)\n",
        "        fake_img = (fake_img + 1)/2.0\n",
        "        \n",
        "        fake_img = np.reshape(fake_img, (H,W,2))\n",
        "\n",
        "        gray_img = np.reshape(gray_img, (H,W,1))\n",
        "        fake_img = np.concatenate((gray_img, fake_img), axis = -1, dtype = \"float32\")\n",
        "\n",
        "        fake_img = (fake_img*255).astype('uint8')\n",
        "        fake_img = cv2.cvtColor(fake_img, cv2.COLOR_LAB2RGB)   \n",
        "        \n",
        "        real_img = (real_img*255).astype('uint8')\n",
        "        real_img = cv2.cvtColor(real_img, cv2.COLOR_LAB2RGB)\n",
        "        \n",
        "\n",
        "\n",
        "        ax[i][0].imshow(gray_img_for_imshow, cmap = \"gray\")\n",
        "        ax[i][1].imshow(fake_img)\n",
        "        ax[i][2].imshow(real_img)\n",
        "\n",
        "    while True:\n",
        "      file_name = file_path + \"file_sample_\" + str(file_number) + f\"/%d.png\" %epoch\n",
        "      \n",
        "      if not os.path.exists(file_name):\n",
        "        break     \n",
        "      epoch += 2\n",
        "\n",
        "    plt.savefig(file_name)\n",
        "    plt.close()\n",
        "\n",
        "    "
      ]
    },
    {
      "cell_type": "code",
      "execution_count": 22,
      "metadata": {
        "id": "DWwLJOMdgG_u"
      },
      "outputs": [],
      "source": [
        "discriminator_losses = tf.keras.losses.BinaryCrossentropy()\n",
        "generator_losses = tf.keras.losses.BinaryCrossentropy()\n",
        "content_losses = tf.keras.losses.MeanSquaredError()\n",
        "\n",
        "learning_rate = PiecewiseConstantDecay(boundaries = [1000], values = [1e-3, 1e-4])\n",
        "\n",
        "gen_optimizer = Adam(learning_rate = learning_rate)\n",
        "dis_optimizer = Adam(learning_rate = learning_rate)\n",
        "\n",
        "\n",
        "def content_loss(real_imgs, fake_imgs):\n",
        "\n",
        "    real_imgs = tf.cast(real_imgs, dtype = tf.float32)\n",
        "    fake_imgs = tf.cast(fake_imgs, dtype = tf.float32)\n",
        "\n",
        "    \n",
        "    real_imgs = preprocess_input(real_imgs)\n",
        "    fake_imgs = preprocess_input(fake_imgs)\n",
        "\n",
        "    how_real_classified = resnet_model(real_imgs)\n",
        "    how_fake_classified = resnet_model(fake_imgs)\n",
        "\n",
        "    Resnet_loss = content_losses(how_real_classified, how_fake_classified)\n",
        "\n",
        "    actual_loss = content_losses(real_imgs, fake_imgs)\n",
        "\n",
        "    return Resnet_loss, actual_loss\n",
        "  \n",
        "\n",
        "\n",
        "def discriminator_loss(real_output, fake_output):\n",
        "    real_loss = discriminator_losses(tf.ones_like(real_output), real_output)\n",
        "    fake_loss = discriminator_losses(tf.zeros_like(fake_output), fake_output)\n",
        "    total_loss = real_loss + fake_loss\n",
        "    return total_loss\n",
        "\n",
        "def generator_loss(fake_output):\n",
        "    \n",
        "    fake_loss = generator_losses(tf.ones_like(fake_output), fake_output)\n",
        "    \n",
        "    return fake_loss"
      ]
    },
    {
      "cell_type": "code",
      "execution_count": 23,
      "metadata": {
        "id": "F1VXwcqvgG_u"
      },
      "outputs": [],
      "source": [
        "def train_step(real_imgs, gray_imgs):\n",
        "    \n",
        "    with tf.GradientTape() as gen_tape, tf.GradientTape() as dis_tape:\n",
        "        fake_imgs = gan_model(gray_imgs, training = True)\n",
        "        fake_imgs = (fake_imgs+1)/2.0\n",
        "        fake_imgs = tf.concat((gray_imgs, fake_imgs), axis = -1)\n",
        "        # fake_imgs = np.concatenate((gray_imgs, fake_imgs), axis = -1)\n",
        "\n",
        "        c_loss, actual_loss = content_loss(real_imgs, fake_imgs)\n",
        "\n",
        "\n",
        "        real_output = dis_model(real_imgs, training = True)\n",
        "        fake_output = dis_model(fake_imgs, training = True)\n",
        "\n",
        "        d_loss = discriminator_loss(real_output= real_output, fake_output= fake_output)\n",
        "        g_loss = generator_loss(fake_output= fake_output)\n",
        "\n",
        "        cg_loss = 10*actual_loss + 0.01*c_loss + 0.001*g_loss\n",
        "        # cg_loss = c_loss + 0.001*g_loss\n",
        "    \n",
        "\n",
        "        g_gradient = gen_tape.gradient(cg_loss, gan_model.trainable_variables)\n",
        "        d_gradient = dis_tape.gradient(d_loss, dis_model.trainable_variables)\n",
        "\n",
        "        gen_optimizer.apply_gradients(zip(g_gradient, gan_model.trainable_variables))\n",
        "        dis_optimizer.apply_gradients(zip(d_gradient, dis_model.trainable_variables))\n",
        "\n",
        "    return cg_loss, d_loss"
      ]
    },
    {
      "cell_type": "code",
      "source": [],
      "metadata": {
        "id": "g4z9nuPHOkm8"
      },
      "execution_count": 23,
      "outputs": []
    },
    {
      "cell_type": "code",
      "execution_count": null,
      "metadata": {
        "id": "hyRHhpe4gG_u",
        "colab": {
          "base_uri": "https://localhost:8080/"
        },
        "outputId": "e00e4099-80dd-45f5-8c6a-b5731d1e964c"
      },
      "outputs": [
        {
          "output_type": "stream",
          "name": "stderr",
          "text": [
            "100%|██████████| 61/61 [00:30<00:00,  1.97it/s]\n"
          ]
        },
        {
          "output_type": "stream",
          "name": "stdout",
          "text": [
            "epoch : 0/200  d_loss : 0.30633  g_loss: 0.04987\n"
          ]
        },
        {
          "output_type": "stream",
          "name": "stderr",
          "text": [
            "100%|██████████| 61/61 [00:18<00:00,  3.23it/s]\n",
            "100%|██████████| 61/61 [00:17<00:00,  3.49it/s]\n",
            "100%|██████████| 61/61 [00:17<00:00,  3.51it/s]\n",
            "100%|██████████| 61/61 [00:17<00:00,  3.51it/s]\n",
            "100%|██████████| 61/61 [00:17<00:00,  3.50it/s]\n",
            "100%|██████████| 61/61 [00:17<00:00,  3.42it/s]\n",
            "100%|██████████| 61/61 [00:17<00:00,  3.50it/s]\n",
            "100%|██████████| 61/61 [00:17<00:00,  3.53it/s]\n",
            "100%|██████████| 61/61 [00:17<00:00,  3.53it/s]\n",
            "100%|██████████| 61/61 [00:17<00:00,  3.50it/s]\n"
          ]
        },
        {
          "output_type": "stream",
          "name": "stdout",
          "text": [
            "epoch : 10/200  d_loss : 0.26373  g_loss: 0.05195\n"
          ]
        },
        {
          "output_type": "stream",
          "name": "stderr",
          "text": [
            "100%|██████████| 61/61 [00:18<00:00,  3.26it/s]\n",
            "100%|██████████| 61/61 [00:17<00:00,  3.51it/s]\n",
            "100%|██████████| 61/61 [00:17<00:00,  3.54it/s]\n",
            "100%|██████████| 61/61 [00:17<00:00,  3.52it/s]\n",
            "100%|██████████| 61/61 [00:17<00:00,  3.50it/s]\n",
            "100%|██████████| 61/61 [00:17<00:00,  3.43it/s]\n",
            "100%|██████████| 61/61 [00:17<00:00,  3.51it/s]\n",
            "100%|██████████| 61/61 [00:17<00:00,  3.53it/s]\n",
            "100%|██████████| 61/61 [00:17<00:00,  3.53it/s]\n",
            "100%|██████████| 61/61 [00:17<00:00,  3.50it/s]\n"
          ]
        },
        {
          "output_type": "stream",
          "name": "stdout",
          "text": [
            "epoch : 20/200  d_loss : 0.16005  g_loss: 0.05115\n"
          ]
        },
        {
          "output_type": "stream",
          "name": "stderr",
          "text": [
            "100%|██████████| 61/61 [00:18<00:00,  3.27it/s]\n",
            "100%|██████████| 61/61 [00:17<00:00,  3.53it/s]\n",
            "100%|██████████| 61/61 [00:17<00:00,  3.50it/s]\n",
            "100%|██████████| 61/61 [00:17<00:00,  3.52it/s]\n",
            "100%|██████████| 61/61 [00:17<00:00,  3.49it/s]\n",
            "100%|██████████| 61/61 [00:17<00:00,  3.39it/s]\n",
            "100%|██████████| 61/61 [00:17<00:00,  3.49it/s]\n",
            "100%|██████████| 61/61 [00:17<00:00,  3.47it/s]\n",
            "100%|██████████| 61/61 [00:17<00:00,  3.54it/s]\n",
            "100%|██████████| 61/61 [00:17<00:00,  3.54it/s]\n"
          ]
        },
        {
          "output_type": "stream",
          "name": "stdout",
          "text": [
            "epoch : 30/200  d_loss : 0.01874  g_loss: 0.04752\n"
          ]
        },
        {
          "output_type": "stream",
          "name": "stderr",
          "text": [
            "100%|██████████| 61/61 [00:18<00:00,  3.26it/s]\n",
            "100%|██████████| 61/61 [00:17<00:00,  3.54it/s]\n",
            "100%|██████████| 61/61 [00:17<00:00,  3.54it/s]\n",
            "100%|██████████| 61/61 [00:17<00:00,  3.55it/s]\n",
            "100%|██████████| 61/61 [00:17<00:00,  3.54it/s]\n",
            "100%|██████████| 61/61 [00:17<00:00,  3.41it/s]\n",
            "100%|██████████| 61/61 [00:17<00:00,  3.54it/s]\n",
            "100%|██████████| 61/61 [00:17<00:00,  3.50it/s]\n",
            "100%|██████████| 61/61 [00:17<00:00,  3.55it/s]\n",
            "100%|██████████| 61/61 [00:17<00:00,  3.53it/s]\n"
          ]
        },
        {
          "output_type": "stream",
          "name": "stdout",
          "text": [
            "epoch : 40/200  d_loss : 0.00981  g_loss: 0.05795\n"
          ]
        },
        {
          "output_type": "stream",
          "name": "stderr",
          "text": [
            "100%|██████████| 61/61 [00:18<00:00,  3.26it/s]\n",
            "100%|██████████| 61/61 [00:17<00:00,  3.54it/s]\n",
            "100%|██████████| 61/61 [00:17<00:00,  3.50it/s]\n",
            "100%|██████████| 61/61 [00:17<00:00,  3.53it/s]\n",
            "100%|██████████| 61/61 [00:17<00:00,  3.51it/s]\n",
            "100%|██████████| 61/61 [00:18<00:00,  3.38it/s]\n",
            "100%|██████████| 61/61 [00:17<00:00,  3.54it/s]\n",
            "100%|██████████| 61/61 [00:17<00:00,  3.54it/s]\n",
            "100%|██████████| 61/61 [00:17<00:00,  3.49it/s]\n",
            "100%|██████████| 61/61 [00:17<00:00,  3.53it/s]\n"
          ]
        },
        {
          "output_type": "stream",
          "name": "stdout",
          "text": [
            "epoch : 50/200  d_loss : 0.00341  g_loss: 0.05747\n"
          ]
        },
        {
          "output_type": "stream",
          "name": "stderr",
          "text": [
            "100%|██████████| 61/61 [00:18<00:00,  3.26it/s]\n",
            "100%|██████████| 61/61 [00:17<00:00,  3.48it/s]\n",
            "100%|██████████| 61/61 [00:17<00:00,  3.53it/s]\n",
            "100%|██████████| 61/61 [00:17<00:00,  3.53it/s]\n",
            "100%|██████████| 61/61 [00:17<00:00,  3.48it/s]\n",
            "100%|██████████| 61/61 [00:17<00:00,  3.42it/s]\n",
            "100%|██████████| 61/61 [00:17<00:00,  3.53it/s]\n",
            "100%|██████████| 61/61 [00:17<00:00,  3.49it/s]\n",
            "100%|██████████| 61/61 [00:17<00:00,  3.52it/s]\n",
            "100%|██████████| 61/61 [00:17<00:00,  3.52it/s]\n"
          ]
        },
        {
          "output_type": "stream",
          "name": "stdout",
          "text": [
            "epoch : 60/200  d_loss : 0.00192  g_loss: 0.05646\n"
          ]
        },
        {
          "output_type": "stream",
          "name": "stderr",
          "text": [
            "100%|██████████| 61/61 [00:18<00:00,  3.24it/s]\n",
            "100%|██████████| 61/61 [00:17<00:00,  3.54it/s]\n",
            "100%|██████████| 61/61 [00:17<00:00,  3.53it/s]\n",
            "100%|██████████| 61/61 [00:17<00:00,  3.49it/s]\n",
            "100%|██████████| 61/61 [00:17<00:00,  3.53it/s]\n",
            "100%|██████████| 61/61 [00:17<00:00,  3.42it/s]\n",
            "100%|██████████| 61/61 [00:17<00:00,  3.54it/s]\n",
            "100%|██████████| 61/61 [00:17<00:00,  3.47it/s]\n",
            "100%|██████████| 61/61 [00:17<00:00,  3.53it/s]\n",
            "100%|██████████| 61/61 [00:17<00:00,  3.53it/s]\n"
          ]
        },
        {
          "output_type": "stream",
          "name": "stdout",
          "text": [
            "epoch : 70/200  d_loss : 0.00262  g_loss: 0.05668\n"
          ]
        },
        {
          "output_type": "stream",
          "name": "stderr",
          "text": [
            "100%|██████████| 61/61 [00:18<00:00,  3.27it/s]\n",
            "100%|██████████| 61/61 [00:17<00:00,  3.52it/s]\n",
            "100%|██████████| 61/61 [00:17<00:00,  3.53it/s]\n",
            "100%|██████████| 61/61 [00:17<00:00,  3.53it/s]\n",
            "100%|██████████| 61/61 [00:17<00:00,  3.54it/s]\n",
            "100%|██████████| 61/61 [00:17<00:00,  3.44it/s]\n",
            "100%|██████████| 61/61 [00:17<00:00,  3.53it/s]\n",
            "100%|██████████| 61/61 [00:17<00:00,  3.54it/s]\n",
            "100%|██████████| 61/61 [00:17<00:00,  3.49it/s]\n",
            "100%|██████████| 61/61 [00:17<00:00,  3.53it/s]\n"
          ]
        },
        {
          "output_type": "stream",
          "name": "stdout",
          "text": [
            "epoch : 80/200  d_loss : 0.00279  g_loss: 0.05857\n"
          ]
        },
        {
          "output_type": "stream",
          "name": "stderr",
          "text": [
            "100%|██████████| 61/61 [00:18<00:00,  3.23it/s]\n",
            "100%|██████████| 61/61 [00:17<00:00,  3.52it/s]\n",
            "100%|██████████| 61/61 [00:17<00:00,  3.53it/s]\n",
            "100%|██████████| 61/61 [00:17<00:00,  3.49it/s]\n",
            "100%|██████████| 61/61 [00:17<00:00,  3.53it/s]\n",
            "100%|██████████| 61/61 [00:17<00:00,  3.42it/s]\n",
            "100%|██████████| 61/61 [00:17<00:00,  3.53it/s]\n",
            "100%|██████████| 61/61 [00:17<00:00,  3.49it/s]\n",
            "100%|██████████| 61/61 [00:17<00:00,  3.53it/s]\n",
            "100%|██████████| 61/61 [00:17<00:00,  3.54it/s]\n"
          ]
        },
        {
          "output_type": "stream",
          "name": "stdout",
          "text": [
            "epoch : 90/200  d_loss : 0.00181  g_loss: 0.05839\n"
          ]
        },
        {
          "output_type": "stream",
          "name": "stderr",
          "text": [
            "100%|██████████| 61/61 [00:18<00:00,  3.22it/s]\n",
            "100%|██████████| 61/61 [00:17<00:00,  3.53it/s]\n",
            "100%|██████████| 61/61 [00:17<00:00,  3.53it/s]\n",
            "100%|██████████| 61/61 [00:17<00:00,  3.54it/s]\n",
            "100%|██████████| 61/61 [00:17<00:00,  3.47it/s]\n",
            "100%|██████████| 61/61 [00:17<00:00,  3.42it/s]\n",
            "100%|██████████| 61/61 [00:17<00:00,  3.52it/s]\n",
            "100%|██████████| 61/61 [00:17<00:00,  3.52it/s]\n",
            "100%|██████████| 61/61 [00:17<00:00,  3.46it/s]\n",
            "100%|██████████| 61/61 [00:17<00:00,  3.52it/s]\n"
          ]
        },
        {
          "output_type": "stream",
          "name": "stdout",
          "text": [
            "epoch : 100/200  d_loss : 0.02106  g_loss: 0.05279\n"
          ]
        },
        {
          "output_type": "stream",
          "name": "stderr",
          "text": [
            "100%|██████████| 61/61 [00:18<00:00,  3.28it/s]\n",
            "100%|██████████| 61/61 [00:17<00:00,  3.54it/s]\n",
            "100%|██████████| 61/61 [00:17<00:00,  3.48it/s]\n",
            "100%|██████████| 61/61 [00:17<00:00,  3.53it/s]\n",
            "100%|██████████| 61/61 [00:17<00:00,  3.52it/s]\n",
            "100%|██████████| 61/61 [00:17<00:00,  3.41it/s]\n",
            "100%|██████████| 61/61 [00:17<00:00,  3.47it/s]\n",
            "100%|██████████| 61/61 [00:17<00:00,  3.54it/s]\n",
            "100%|██████████| 61/61 [00:17<00:00,  3.51it/s]\n",
            "100%|██████████| 61/61 [00:17<00:00,  3.53it/s]\n"
          ]
        },
        {
          "output_type": "stream",
          "name": "stdout",
          "text": [
            "epoch : 110/200  d_loss : 0.00165  g_loss: 0.04870\n"
          ]
        },
        {
          "output_type": "stream",
          "name": "stderr",
          "text": [
            "100%|██████████| 61/61 [00:18<00:00,  3.36it/s]\n",
            "100%|██████████| 61/61 [00:17<00:00,  3.52it/s]\n",
            "100%|██████████| 61/61 [00:17<00:00,  3.54it/s]\n",
            "100%|██████████| 61/61 [00:17<00:00,  3.53it/s]\n",
            "100%|██████████| 61/61 [00:17<00:00,  3.41it/s]\n",
            "100%|██████████| 61/61 [00:17<00:00,  3.53it/s]\n",
            "100%|██████████| 61/61 [00:17<00:00,  3.53it/s]\n",
            "100%|██████████| 61/61 [00:17<00:00,  3.52it/s]\n",
            "100%|██████████| 61/61 [00:17<00:00,  3.52it/s]\n",
            "100%|██████████| 61/61 [00:18<00:00,  3.37it/s]\n"
          ]
        },
        {
          "output_type": "stream",
          "name": "stdout",
          "text": [
            "epoch : 120/200  d_loss : 0.00168  g_loss: 0.05138\n"
          ]
        },
        {
          "output_type": "stream",
          "name": "stderr",
          "text": [
            "100%|██████████| 61/61 [00:18<00:00,  3.38it/s]\n",
            "100%|██████████| 61/61 [00:17<00:00,  3.53it/s]\n",
            "100%|██████████| 61/61 [00:17<00:00,  3.52it/s]\n",
            "100%|██████████| 61/61 [00:17<00:00,  3.55it/s]\n",
            "100%|██████████| 61/61 [00:17<00:00,  3.43it/s]\n",
            "100%|██████████| 61/61 [00:17<00:00,  3.48it/s]\n",
            "100%|██████████| 61/61 [00:17<00:00,  3.51it/s]\n",
            "100%|██████████| 61/61 [00:17<00:00,  3.54it/s]\n",
            "100%|██████████| 61/61 [00:17<00:00,  3.53it/s]\n",
            "100%|██████████| 61/61 [00:18<00:00,  3.36it/s]\n"
          ]
        },
        {
          "output_type": "stream",
          "name": "stdout",
          "text": [
            "epoch : 130/200  d_loss : 0.00111  g_loss: 0.05074\n"
          ]
        },
        {
          "output_type": "stream",
          "name": "stderr",
          "text": [
            "100%|██████████| 61/61 [00:18<00:00,  3.37it/s]\n",
            "100%|██████████| 61/61 [00:17<00:00,  3.52it/s]\n",
            "100%|██████████| 61/61 [00:17<00:00,  3.53it/s]\n",
            "100%|██████████| 61/61 [00:17<00:00,  3.54it/s]\n",
            "100%|██████████| 61/61 [00:18<00:00,  3.37it/s]\n",
            "100%|██████████| 61/61 [00:17<00:00,  3.52it/s]\n",
            "100%|██████████| 61/61 [00:17<00:00,  3.54it/s]\n",
            "100%|██████████| 61/61 [00:17<00:00,  3.54it/s]\n",
            "100%|██████████| 61/61 [00:17<00:00,  3.54it/s]\n",
            "100%|██████████| 61/61 [00:18<00:00,  3.37it/s]\n"
          ]
        },
        {
          "output_type": "stream",
          "name": "stdout",
          "text": [
            "epoch : 140/200  d_loss : 0.05305  g_loss: 0.05123\n"
          ]
        },
        {
          "output_type": "stream",
          "name": "stderr",
          "text": [
            "100%|██████████| 61/61 [00:18<00:00,  3.34it/s]\n",
            "100%|██████████| 61/61 [00:17<00:00,  3.50it/s]\n",
            "100%|██████████| 61/61 [00:17<00:00,  3.53it/s]\n",
            "100%|██████████| 61/61 [00:17<00:00,  3.43it/s]\n",
            "100%|██████████| 61/61 [00:17<00:00,  3.48it/s]\n",
            "100%|██████████| 61/61 [00:17<00:00,  3.53it/s]\n",
            "100%|██████████| 61/61 [00:17<00:00,  3.54it/s]\n",
            "100%|██████████| 61/61 [00:17<00:00,  3.52it/s]\n",
            "100%|██████████| 61/61 [00:17<00:00,  3.41it/s]\n",
            "100%|██████████| 61/61 [00:17<00:00,  3.41it/s]\n"
          ]
        },
        {
          "output_type": "stream",
          "name": "stdout",
          "text": [
            "epoch : 150/200  d_loss : 0.00196  g_loss: 0.05162\n"
          ]
        },
        {
          "output_type": "stream",
          "name": "stderr",
          "text": [
            "100%|██████████| 61/61 [00:18<00:00,  3.37it/s]\n",
            "100%|██████████| 61/61 [00:17<00:00,  3.52it/s]\n",
            "100%|██████████| 61/61 [00:17<00:00,  3.53it/s]\n",
            "100%|██████████| 61/61 [00:17<00:00,  3.41it/s]\n",
            "100%|██████████| 61/61 [00:17<00:00,  3.42it/s]\n",
            "100%|██████████| 61/61 [00:17<00:00,  3.50it/s]\n",
            "100%|██████████| 61/61 [00:17<00:00,  3.51it/s]\n",
            "100%|██████████| 61/61 [00:17<00:00,  3.39it/s]\n",
            "100%|██████████| 61/61 [00:17<00:00,  3.50it/s]\n",
            "100%|██████████| 61/61 [00:17<00:00,  3.44it/s]\n"
          ]
        },
        {
          "output_type": "stream",
          "name": "stdout",
          "text": [
            "epoch : 160/200  d_loss : 0.00167  g_loss: 0.05295\n"
          ]
        },
        {
          "output_type": "stream",
          "name": "stderr",
          "text": [
            "100%|██████████| 61/61 [00:18<00:00,  3.35it/s]\n",
            "100%|██████████| 61/61 [00:17<00:00,  3.51it/s]\n",
            "100%|██████████| 61/61 [00:17<00:00,  3.40it/s]\n",
            "100%|██████████| 61/61 [00:17<00:00,  3.52it/s]\n",
            "100%|██████████| 61/61 [00:17<00:00,  3.52it/s]\n",
            "100%|██████████| 61/61 [00:17<00:00,  3.45it/s]\n",
            "100%|██████████| 61/61 [00:17<00:00,  3.50it/s]\n",
            "100%|██████████| 61/61 [00:17<00:00,  3.40it/s]\n",
            "100%|██████████| 61/61 [00:17<00:00,  3.51it/s]\n",
            "100%|██████████| 61/61 [00:17<00:00,  3.51it/s]\n"
          ]
        },
        {
          "output_type": "stream",
          "name": "stdout",
          "text": [
            "epoch : 170/200  d_loss : 0.00129  g_loss: 0.05083\n"
          ]
        },
        {
          "output_type": "stream",
          "name": "stderr",
          "text": [
            "100%|██████████| 61/61 [00:18<00:00,  3.34it/s]\n",
            "100%|██████████| 61/61 [00:18<00:00,  3.38it/s]\n",
            "100%|██████████| 61/61 [00:17<00:00,  3.50it/s]\n",
            "100%|██████████| 61/61 [00:17<00:00,  3.51it/s]\n",
            "100%|██████████| 61/61 [00:17<00:00,  3.54it/s]\n",
            "100%|██████████| 61/61 [00:17<00:00,  3.54it/s]\n",
            "100%|██████████| 61/61 [00:17<00:00,  3.41it/s]\n",
            "100%|██████████| 61/61 [00:17<00:00,  3.47it/s]\n",
            "100%|██████████| 61/61 [00:17<00:00,  3.54it/s]\n",
            "100%|██████████| 61/61 [00:17<00:00,  3.54it/s]\n"
          ]
        },
        {
          "output_type": "stream",
          "name": "stdout",
          "text": [
            "epoch : 180/200  d_loss : 0.05577  g_loss: 0.05099\n"
          ]
        },
        {
          "output_type": "stream",
          "name": "stderr",
          "text": [
            "100%|██████████| 61/61 [00:18<00:00,  3.29it/s]\n",
            "100%|██████████| 61/61 [00:17<00:00,  3.53it/s]\n",
            "100%|██████████| 61/61 [00:17<00:00,  3.54it/s]\n",
            "100%|██████████| 61/61 [00:17<00:00,  3.46it/s]\n",
            "100%|██████████| 61/61 [00:17<00:00,  3.54it/s]\n",
            "100%|██████████| 61/61 [00:17<00:00,  3.41it/s]\n",
            "100%|██████████| 61/61 [00:17<00:00,  3.54it/s]\n",
            "100%|██████████| 61/61 [00:17<00:00,  3.53it/s]\n",
            "100%|██████████| 61/61 [00:17<00:00,  3.46it/s]\n",
            "100%|██████████| 61/61 [00:17<00:00,  3.53it/s]\n"
          ]
        },
        {
          "output_type": "stream",
          "name": "stdout",
          "text": [
            "epoch : 190/200  d_loss : 0.00232  g_loss: 0.04624\n"
          ]
        },
        {
          "output_type": "stream",
          "name": "stderr",
          "text": [
            "100%|██████████| 61/61 [00:18<00:00,  3.26it/s]\n",
            "100%|██████████| 61/61 [00:17<00:00,  3.55it/s]\n",
            "100%|██████████| 61/61 [00:17<00:00,  3.54it/s]\n",
            "100%|██████████| 61/61 [00:17<00:00,  3.53it/s]\n",
            "100%|██████████| 61/61 [00:17<00:00,  3.43it/s]\n",
            "100%|██████████| 61/61 [00:17<00:00,  3.46it/s]\n",
            "100%|██████████| 61/61 [00:17<00:00,  3.54it/s]\n",
            "100%|██████████| 61/61 [00:17<00:00,  3.54it/s]\n",
            "100%|██████████| 61/61 [00:17<00:00,  3.55it/s]\n",
            "100%|██████████| 43/43 [00:12<00:00,  3.52it/s]\n"
          ]
        },
        {
          "output_type": "stream",
          "name": "stdout",
          "text": [
            "epoch : 0/200  d_loss : 0.07062  g_loss: 0.04605\n"
          ]
        },
        {
          "output_type": "stream",
          "name": "stderr",
          "text": [
            "100%|██████████| 43/43 [00:13<00:00,  3.31it/s]\n",
            "100%|██████████| 43/43 [00:11<00:00,  3.59it/s]\n",
            "100%|██████████| 43/43 [00:12<00:00,  3.58it/s]\n",
            "100%|██████████| 43/43 [00:11<00:00,  3.60it/s]\n",
            "100%|██████████| 43/43 [00:11<00:00,  3.58it/s]\n",
            "100%|██████████| 43/43 [00:12<00:00,  3.58it/s]\n",
            "100%|██████████| 43/43 [00:12<00:00,  3.43it/s]\n",
            "100%|██████████| 43/43 [00:11<00:00,  3.59it/s]\n",
            "100%|██████████| 43/43 [00:11<00:00,  3.59it/s]\n",
            "100%|██████████| 43/43 [00:11<00:00,  3.59it/s]\n"
          ]
        },
        {
          "output_type": "stream",
          "name": "stdout",
          "text": [
            "epoch : 10/200  d_loss : 0.04221  g_loss: 0.04091\n"
          ]
        },
        {
          "output_type": "stream",
          "name": "stderr",
          "text": [
            "100%|██████████| 43/43 [00:12<00:00,  3.39it/s]\n",
            "100%|██████████| 43/43 [00:12<00:00,  3.56it/s]\n",
            "100%|██████████| 43/43 [00:12<00:00,  3.55it/s]\n",
            "100%|██████████| 43/43 [00:12<00:00,  3.49it/s]\n",
            "100%|██████████| 43/43 [00:12<00:00,  3.47it/s]\n",
            "100%|██████████| 43/43 [00:11<00:00,  3.59it/s]\n",
            "100%|██████████| 43/43 [00:11<00:00,  3.60it/s]\n",
            "100%|██████████| 43/43 [00:11<00:00,  3.60it/s]\n",
            "100%|██████████| 43/43 [00:12<00:00,  3.58it/s]\n",
            "100%|██████████| 43/43 [00:12<00:00,  3.44it/s]\n"
          ]
        },
        {
          "output_type": "stream",
          "name": "stdout",
          "text": [
            "epoch : 20/200  d_loss : 0.05361  g_loss: 0.04233\n"
          ]
        },
        {
          "output_type": "stream",
          "name": "stderr",
          "text": [
            "100%|██████████| 43/43 [00:12<00:00,  3.37it/s]\n",
            "100%|██████████| 43/43 [00:12<00:00,  3.48it/s]\n",
            "100%|██████████| 43/43 [00:11<00:00,  3.60it/s]\n",
            "100%|██████████| 43/43 [00:11<00:00,  3.59it/s]\n",
            "100%|██████████| 43/43 [00:11<00:00,  3.59it/s]\n",
            "100%|██████████| 43/43 [00:12<00:00,  3.58it/s]\n",
            "100%|██████████| 43/43 [00:12<00:00,  3.42it/s]\n",
            "100%|██████████| 43/43 [00:12<00:00,  3.58it/s]\n",
            "100%|██████████| 43/43 [00:11<00:00,  3.59it/s]\n",
            "100%|██████████| 43/43 [00:11<00:00,  3.59it/s]\n"
          ]
        },
        {
          "output_type": "stream",
          "name": "stdout",
          "text": [
            "epoch : 30/200  d_loss : 0.04201  g_loss: 0.04150\n"
          ]
        },
        {
          "output_type": "stream",
          "name": "stderr",
          "text": [
            "100%|██████████| 43/43 [00:12<00:00,  3.37it/s]\n",
            "100%|██████████| 43/43 [00:12<00:00,  3.57it/s]\n",
            "100%|██████████| 43/43 [00:12<00:00,  3.45it/s]\n",
            "100%|██████████| 43/43 [00:11<00:00,  3.60it/s]\n",
            "100%|██████████| 43/43 [00:11<00:00,  3.60it/s]\n",
            "100%|██████████| 43/43 [00:11<00:00,  3.59it/s]\n",
            "100%|██████████| 43/43 [00:11<00:00,  3.61it/s]\n",
            "100%|██████████| 43/43 [00:11<00:00,  3.59it/s]\n",
            "100%|██████████| 43/43 [00:12<00:00,  3.57it/s]\n",
            "100%|██████████| 43/43 [00:12<00:00,  3.43it/s]\n"
          ]
        },
        {
          "output_type": "stream",
          "name": "stdout",
          "text": [
            "epoch : 40/200  d_loss : 0.02476  g_loss: 0.04031\n"
          ]
        },
        {
          "output_type": "stream",
          "name": "stderr",
          "text": [
            "100%|██████████| 43/43 [00:12<00:00,  3.34it/s]\n",
            "100%|██████████| 43/43 [00:12<00:00,  3.55it/s]\n",
            "100%|██████████| 43/43 [00:12<00:00,  3.56it/s]\n",
            "100%|██████████| 43/43 [00:12<00:00,  3.56it/s]\n",
            "100%|██████████| 43/43 [00:12<00:00,  3.42it/s]\n",
            "100%|██████████| 43/43 [00:12<00:00,  3.48it/s]\n",
            "100%|██████████| 43/43 [00:12<00:00,  3.49it/s]\n",
            "100%|██████████| 43/43 [00:12<00:00,  3.56it/s]\n",
            "100%|██████████| 43/43 [00:12<00:00,  3.55it/s]\n",
            "100%|██████████| 43/43 [00:12<00:00,  3.56it/s]\n"
          ]
        },
        {
          "output_type": "stream",
          "name": "stdout",
          "text": [
            "epoch : 50/200  d_loss : 0.04948  g_loss: 0.03799\n"
          ]
        },
        {
          "output_type": "stream",
          "name": "stderr",
          "text": [
            "100%|██████████| 43/43 [00:12<00:00,  3.32it/s]\n",
            "100%|██████████| 43/43 [00:12<00:00,  3.54it/s]\n",
            "100%|██████████| 43/43 [00:12<00:00,  3.39it/s]\n",
            "100%|██████████| 43/43 [00:12<00:00,  3.56it/s]\n",
            "100%|██████████| 43/43 [00:12<00:00,  3.42it/s]\n",
            "100%|██████████| 43/43 [00:12<00:00,  3.56it/s]\n",
            "100%|██████████| 43/43 [00:12<00:00,  3.57it/s]\n",
            "100%|██████████| 43/43 [00:12<00:00,  3.56it/s]\n",
            "100%|██████████| 43/43 [00:12<00:00,  3.44it/s]\n",
            "100%|██████████| 43/43 [00:12<00:00,  3.57it/s]\n"
          ]
        },
        {
          "output_type": "stream",
          "name": "stdout",
          "text": [
            "epoch : 60/200  d_loss : 0.03540  g_loss: 0.03818\n"
          ]
        },
        {
          "output_type": "stream",
          "name": "stderr",
          "text": [
            "100%|██████████| 43/43 [00:12<00:00,  3.33it/s]\n",
            "100%|██████████| 43/43 [00:12<00:00,  3.54it/s]\n",
            "100%|██████████| 43/43 [00:12<00:00,  3.55it/s]\n",
            "100%|██████████| 43/43 [00:12<00:00,  3.42it/s]\n",
            "100%|██████████| 43/43 [00:12<00:00,  3.55it/s]\n",
            "100%|██████████| 43/43 [00:12<00:00,  3.40it/s]\n",
            "100%|██████████| 43/43 [00:12<00:00,  3.56it/s]\n",
            "100%|██████████| 43/43 [00:12<00:00,  3.56it/s]\n",
            "100%|██████████| 43/43 [00:12<00:00,  3.55it/s]\n",
            "100%|██████████| 43/43 [00:12<00:00,  3.55it/s]\n"
          ]
        },
        {
          "output_type": "stream",
          "name": "stdout",
          "text": [
            "epoch : 70/200  d_loss : 0.03946  g_loss: 0.03931\n"
          ]
        },
        {
          "output_type": "stream",
          "name": "stderr",
          "text": [
            "100%|██████████| 43/43 [00:12<00:00,  3.32it/s]\n",
            "100%|██████████| 43/43 [00:13<00:00,  3.28it/s]\n",
            "100%|██████████| 43/43 [00:12<00:00,  3.57it/s]\n",
            "100%|██████████| 43/43 [00:12<00:00,  3.57it/s]\n",
            "100%|██████████| 43/43 [00:12<00:00,  3.57it/s]\n",
            "100%|██████████| 43/43 [00:12<00:00,  3.58it/s]\n",
            "100%|██████████| 43/43 [00:12<00:00,  3.54it/s]\n",
            "100%|██████████| 43/43 [00:12<00:00,  3.43it/s]\n",
            "100%|██████████| 43/43 [00:11<00:00,  3.61it/s]\n",
            "100%|██████████| 43/43 [00:11<00:00,  3.61it/s]\n"
          ]
        },
        {
          "output_type": "stream",
          "name": "stdout",
          "text": [
            "epoch : 80/200  d_loss : 0.01400  g_loss: 0.03792\n"
          ]
        },
        {
          "output_type": "stream",
          "name": "stderr",
          "text": [
            "100%|██████████| 43/43 [00:13<00:00,  3.24it/s]\n",
            "100%|██████████| 43/43 [00:11<00:00,  3.60it/s]\n",
            "100%|██████████| 43/43 [00:11<00:00,  3.59it/s]\n",
            "100%|██████████| 43/43 [00:12<00:00,  3.57it/s]\n",
            "100%|██████████| 43/43 [00:12<00:00,  3.47it/s]\n",
            "100%|██████████| 43/43 [00:11<00:00,  3.60it/s]\n",
            "100%|██████████| 43/43 [00:12<00:00,  3.58it/s]\n",
            "100%|██████████| 43/43 [00:12<00:00,  3.57it/s]\n",
            "100%|██████████| 43/43 [00:12<00:00,  3.56it/s]\n",
            "100%|██████████| 43/43 [00:12<00:00,  3.55it/s]\n"
          ]
        },
        {
          "output_type": "stream",
          "name": "stdout",
          "text": [
            "epoch : 90/200  d_loss : 0.05389  g_loss: 0.03511\n"
          ]
        },
        {
          "output_type": "stream",
          "name": "stderr",
          "text": [
            "100%|██████████| 43/43 [00:13<00:00,  3.20it/s]\n",
            "100%|██████████| 43/43 [00:12<00:00,  3.57it/s]\n",
            "100%|██████████| 43/43 [00:12<00:00,  3.57it/s]\n",
            "100%|██████████| 43/43 [00:12<00:00,  3.56it/s]\n",
            "100%|██████████| 43/43 [00:12<00:00,  3.56it/s]\n",
            "100%|██████████| 43/43 [00:12<00:00,  3.55it/s]\n",
            "100%|██████████| 43/43 [00:12<00:00,  3.44it/s]\n",
            "100%|██████████| 43/43 [00:12<00:00,  3.57it/s]\n",
            "100%|██████████| 43/43 [00:12<00:00,  3.57it/s]\n",
            "100%|██████████| 43/43 [00:12<00:00,  3.57it/s]\n"
          ]
        },
        {
          "output_type": "stream",
          "name": "stdout",
          "text": [
            "epoch : 100/200  d_loss : 0.14234  g_loss: 0.03585\n"
          ]
        },
        {
          "output_type": "stream",
          "name": "stderr",
          "text": [
            "100%|██████████| 43/43 [00:12<00:00,  3.32it/s]\n",
            "100%|██████████| 43/43 [00:12<00:00,  3.54it/s]\n",
            "100%|██████████| 43/43 [00:12<00:00,  3.41it/s]\n",
            "100%|██████████| 43/43 [00:12<00:00,  3.56it/s]\n",
            "100%|██████████| 43/43 [00:11<00:00,  3.59it/s]\n",
            "100%|██████████| 43/43 [00:11<00:00,  3.60it/s]\n",
            "100%|██████████| 43/43 [00:12<00:00,  3.45it/s]\n",
            "100%|██████████| 43/43 [00:11<00:00,  3.60it/s]\n",
            "100%|██████████| 43/43 [00:11<00:00,  3.59it/s]\n",
            "100%|██████████| 43/43 [00:12<00:00,  3.44it/s]\n"
          ]
        },
        {
          "output_type": "stream",
          "name": "stdout",
          "text": [
            "epoch : 110/200  d_loss : 0.01836  g_loss: 0.03321\n"
          ]
        },
        {
          "output_type": "stream",
          "name": "stderr",
          "text": [
            "100%|██████████| 43/43 [00:12<00:00,  3.33it/s]\n",
            "100%|██████████| 43/43 [00:12<00:00,  3.57it/s]\n",
            "100%|██████████| 43/43 [00:12<00:00,  3.56it/s]\n",
            "100%|██████████| 43/43 [00:12<00:00,  3.56it/s]\n",
            "100%|██████████| 43/43 [00:12<00:00,  3.56it/s]\n",
            "100%|██████████| 43/43 [00:12<00:00,  3.41it/s]\n",
            "100%|██████████| 43/43 [00:11<00:00,  3.61it/s]\n",
            "100%|██████████| 43/43 [00:12<00:00,  3.45it/s]\n",
            "100%|██████████| 43/43 [00:11<00:00,  3.60it/s]\n",
            "100%|██████████| 43/43 [00:11<00:00,  3.61it/s]\n"
          ]
        },
        {
          "output_type": "stream",
          "name": "stdout",
          "text": [
            "epoch : 120/200  d_loss : 0.09365  g_loss: 0.03361\n"
          ]
        },
        {
          "output_type": "stream",
          "name": "stderr",
          "text": [
            "100%|██████████| 43/43 [00:12<00:00,  3.41it/s]\n",
            "100%|██████████| 43/43 [00:12<00:00,  3.41it/s]\n",
            "100%|██████████| 43/43 [00:11<00:00,  3.61it/s]\n",
            "100%|██████████| 43/43 [00:11<00:00,  3.60it/s]\n",
            "100%|██████████| 43/43 [00:11<00:00,  3.60it/s]\n",
            "100%|██████████| 43/43 [00:11<00:00,  3.61it/s]\n",
            "100%|██████████| 43/43 [00:11<00:00,  3.60it/s]\n",
            "100%|██████████| 43/43 [00:12<00:00,  3.57it/s]\n",
            "100%|██████████| 43/43 [00:12<00:00,  3.46it/s]\n",
            "100%|██████████| 43/43 [00:11<00:00,  3.60it/s]\n"
          ]
        },
        {
          "output_type": "stream",
          "name": "stdout",
          "text": [
            "epoch : 130/200  d_loss : 0.10635  g_loss: 0.03258\n"
          ]
        },
        {
          "output_type": "stream",
          "name": "stderr",
          "text": [
            "100%|██████████| 43/43 [00:12<00:00,  3.36it/s]\n",
            "100%|██████████| 43/43 [00:11<00:00,  3.61it/s]\n",
            "100%|██████████| 43/43 [00:11<00:00,  3.63it/s]\n",
            "100%|██████████| 43/43 [00:11<00:00,  3.61it/s]\n",
            "100%|██████████| 43/43 [00:12<00:00,  3.44it/s]\n",
            "100%|██████████| 43/43 [00:11<00:00,  3.61it/s]\n",
            "100%|██████████| 43/43 [00:11<00:00,  3.61it/s]\n",
            "100%|██████████| 43/43 [00:11<00:00,  3.61it/s]\n",
            "100%|██████████| 43/43 [00:11<00:00,  3.60it/s]\n",
            "100%|██████████| 43/43 [00:11<00:00,  3.61it/s]\n"
          ]
        },
        {
          "output_type": "stream",
          "name": "stdout",
          "text": [
            "epoch : 140/200  d_loss : 0.01684  g_loss: 0.03012\n"
          ]
        },
        {
          "output_type": "stream",
          "name": "stderr",
          "text": [
            "100%|██████████| 43/43 [00:13<00:00,  3.24it/s]\n",
            "100%|██████████| 43/43 [00:11<00:00,  3.59it/s]\n",
            "100%|██████████| 43/43 [00:11<00:00,  3.60it/s]\n",
            "100%|██████████| 43/43 [00:11<00:00,  3.60it/s]\n",
            "100%|██████████| 43/43 [00:11<00:00,  3.61it/s]\n",
            "100%|██████████| 43/43 [00:11<00:00,  3.61it/s]\n",
            "100%|██████████| 43/43 [00:12<00:00,  3.46it/s]\n",
            "100%|██████████| 43/43 [00:12<00:00,  3.42it/s]\n",
            "100%|██████████| 43/43 [00:11<00:00,  3.60it/s]\n",
            "100%|██████████| 43/43 [00:11<00:00,  3.60it/s]\n"
          ]
        },
        {
          "output_type": "stream",
          "name": "stdout",
          "text": [
            "epoch : 150/200  d_loss : 0.43366  g_loss: 0.03087\n"
          ]
        },
        {
          "output_type": "stream",
          "name": "stderr",
          "text": [
            "100%|██████████| 43/43 [00:12<00:00,  3.37it/s]\n",
            "100%|██████████| 43/43 [00:12<00:00,  3.58it/s]\n",
            "100%|██████████| 43/43 [00:12<00:00,  3.45it/s]\n",
            "100%|██████████| 43/43 [00:12<00:00,  3.53it/s]\n",
            "100%|██████████| 43/43 [00:12<00:00,  3.56it/s]\n",
            "100%|██████████| 43/43 [00:12<00:00,  3.56it/s]\n",
            "100%|██████████| 43/43 [00:12<00:00,  3.57it/s]\n",
            "100%|██████████| 43/43 [00:12<00:00,  3.56it/s]\n",
            "100%|██████████| 43/43 [00:12<00:00,  3.57it/s]\n",
            "100%|██████████| 43/43 [00:12<00:00,  3.42it/s]\n"
          ]
        },
        {
          "output_type": "stream",
          "name": "stdout",
          "text": [
            "epoch : 160/200  d_loss : 0.02835  g_loss: 0.02931\n"
          ]
        },
        {
          "output_type": "stream",
          "name": "stderr",
          "text": [
            "100%|██████████| 43/43 [00:13<00:00,  3.21it/s]\n",
            "100%|██████████| 43/43 [00:11<00:00,  3.60it/s]\n",
            "100%|██████████| 43/43 [00:11<00:00,  3.61it/s]\n",
            "100%|██████████| 43/43 [00:11<00:00,  3.61it/s]\n",
            "100%|██████████| 43/43 [00:11<00:00,  3.59it/s]\n",
            "100%|██████████| 43/43 [00:12<00:00,  3.41it/s]\n",
            "100%|██████████| 43/43 [00:12<00:00,  3.55it/s]\n",
            "100%|██████████| 43/43 [00:12<00:00,  3.54it/s]\n",
            "100%|██████████| 43/43 [00:12<00:00,  3.56it/s]\n",
            "100%|██████████| 43/43 [00:12<00:00,  3.56it/s]\n"
          ]
        },
        {
          "output_type": "stream",
          "name": "stdout",
          "text": [
            "epoch : 170/200  d_loss : 0.01923  g_loss: 0.02798\n"
          ]
        },
        {
          "output_type": "stream",
          "name": "stderr",
          "text": [
            "100%|██████████| 43/43 [00:12<00:00,  3.33it/s]\n",
            "100%|██████████| 43/43 [00:12<00:00,  3.40it/s]\n",
            "100%|██████████| 43/43 [00:12<00:00,  3.37it/s]\n",
            "100%|██████████| 43/43 [00:12<00:00,  3.53it/s]\n",
            "100%|██████████| 43/43 [00:12<00:00,  3.55it/s]\n",
            "100%|██████████| 43/43 [00:12<00:00,  3.56it/s]\n",
            "100%|██████████| 43/43 [00:12<00:00,  3.54it/s]\n",
            "100%|██████████| 43/43 [00:12<00:00,  3.41it/s]\n",
            "100%|██████████| 43/43 [00:12<00:00,  3.56it/s]\n",
            "100%|██████████| 43/43 [00:12<00:00,  3.55it/s]\n"
          ]
        },
        {
          "output_type": "stream",
          "name": "stdout",
          "text": [
            "epoch : 180/200  d_loss : 0.01718  g_loss: 0.02813\n"
          ]
        },
        {
          "output_type": "stream",
          "name": "stderr",
          "text": [
            "100%|██████████| 43/43 [00:12<00:00,  3.33it/s]\n",
            "100%|██████████| 43/43 [00:12<00:00,  3.56it/s]\n",
            "100%|██████████| 43/43 [00:12<00:00,  3.55it/s]\n",
            "100%|██████████| 43/43 [00:12<00:00,  3.41it/s]\n",
            "100%|██████████| 43/43 [00:12<00:00,  3.55it/s]\n",
            "100%|██████████| 43/43 [00:12<00:00,  3.55it/s]\n",
            "100%|██████████| 43/43 [00:12<00:00,  3.54it/s]\n",
            "100%|██████████| 43/43 [00:12<00:00,  3.56it/s]\n",
            "100%|██████████| 43/43 [00:12<00:00,  3.57it/s]\n",
            "100%|██████████| 43/43 [00:13<00:00,  3.26it/s]\n"
          ]
        },
        {
          "output_type": "stream",
          "name": "stdout",
          "text": [
            "epoch : 190/200  d_loss : 0.32119  g_loss: 0.02777\n"
          ]
        },
        {
          "output_type": "stream",
          "name": "stderr",
          "text": [
            "100%|██████████| 43/43 [00:12<00:00,  3.33it/s]\n",
            "100%|██████████| 43/43 [00:12<00:00,  3.56it/s]\n",
            "100%|██████████| 43/43 [00:12<00:00,  3.55it/s]\n",
            "100%|██████████| 43/43 [00:12<00:00,  3.55it/s]\n",
            "100%|██████████| 43/43 [00:12<00:00,  3.56it/s]\n",
            "100%|██████████| 43/43 [00:12<00:00,  3.41it/s]\n",
            "100%|██████████| 43/43 [00:12<00:00,  3.55it/s]\n",
            "100%|██████████| 43/43 [00:12<00:00,  3.56it/s]\n",
            "100%|██████████| 43/43 [00:12<00:00,  3.57it/s]\n",
            "100%|██████████| 58/58 [00:16<00:00,  3.45it/s]\n"
          ]
        },
        {
          "output_type": "stream",
          "name": "stdout",
          "text": [
            "epoch : 0/200  d_loss : 0.06983  g_loss: 0.03044\n"
          ]
        },
        {
          "output_type": "stream",
          "name": "stderr",
          "text": [
            "100%|██████████| 58/58 [00:18<00:00,  3.18it/s]\n",
            "100%|██████████| 58/58 [00:16<00:00,  3.47it/s]\n",
            "100%|██████████| 58/58 [00:16<00:00,  3.47it/s]\n",
            "100%|██████████| 58/58 [00:17<00:00,  3.33it/s]\n",
            "100%|██████████| 58/58 [00:16<00:00,  3.45it/s]\n",
            "100%|██████████| 58/58 [00:17<00:00,  3.36it/s]\n",
            "100%|██████████| 58/58 [00:16<00:00,  3.45it/s]\n",
            "100%|██████████| 58/58 [00:16<00:00,  3.47it/s]\n",
            "100%|██████████| 58/58 [00:16<00:00,  3.45it/s]\n",
            "100%|██████████| 58/58 [00:17<00:00,  3.35it/s]\n"
          ]
        },
        {
          "output_type": "stream",
          "name": "stdout",
          "text": [
            "epoch : 10/200  d_loss : 0.07349  g_loss: 0.04648\n"
          ]
        },
        {
          "output_type": "stream",
          "name": "stderr",
          "text": [
            "100%|██████████| 58/58 [00:17<00:00,  3.29it/s]\n",
            "100%|██████████| 58/58 [00:16<00:00,  3.47it/s]\n",
            "100%|██████████| 58/58 [00:17<00:00,  3.33it/s]\n",
            "100%|██████████| 58/58 [00:17<00:00,  3.35it/s]\n",
            "100%|██████████| 58/58 [00:16<00:00,  3.46it/s]\n",
            "100%|██████████| 58/58 [00:16<00:00,  3.45it/s]\n",
            "100%|██████████| 58/58 [00:16<00:00,  3.47it/s]\n",
            "100%|██████████| 58/58 [00:16<00:00,  3.48it/s]\n",
            "100%|██████████| 58/58 [00:17<00:00,  3.39it/s]\n",
            "100%|██████████| 58/58 [00:16<00:00,  3.50it/s]\n"
          ]
        },
        {
          "output_type": "stream",
          "name": "stdout",
          "text": [
            "epoch : 20/200  d_loss : 0.01513  g_loss: 0.04500\n"
          ]
        },
        {
          "output_type": "stream",
          "name": "stderr",
          "text": [
            "100%|██████████| 58/58 [00:17<00:00,  3.23it/s]\n",
            "100%|██████████| 58/58 [00:16<00:00,  3.50it/s]\n",
            "100%|██████████| 58/58 [00:17<00:00,  3.38it/s]\n",
            "100%|██████████| 58/58 [00:16<00:00,  3.51it/s]\n",
            "100%|██████████| 58/58 [00:16<00:00,  3.51it/s]\n",
            "100%|██████████| 58/58 [00:16<00:00,  3.50it/s]\n",
            "100%|██████████| 58/58 [00:16<00:00,  3.44it/s]\n",
            "100%|██████████| 58/58 [00:16<00:00,  3.44it/s]\n",
            "100%|██████████| 58/58 [00:16<00:00,  3.50it/s]\n",
            "100%|██████████| 58/58 [00:16<00:00,  3.52it/s]\n"
          ]
        },
        {
          "output_type": "stream",
          "name": "stdout",
          "text": [
            "epoch : 30/200  d_loss : 0.00682  g_loss: 0.04383\n"
          ]
        },
        {
          "output_type": "stream",
          "name": "stderr",
          "text": [
            "100%|██████████| 58/58 [00:17<00:00,  3.34it/s]\n",
            "100%|██████████| 58/58 [00:17<00:00,  3.38it/s]\n",
            "100%|██████████| 58/58 [00:16<00:00,  3.49it/s]\n",
            "100%|██████████| 58/58 [00:16<00:00,  3.49it/s]\n",
            "100%|██████████| 58/58 [00:16<00:00,  3.46it/s]\n",
            "100%|██████████| 58/58 [00:17<00:00,  3.36it/s]\n",
            "100%|██████████| 58/58 [00:16<00:00,  3.44it/s]\n",
            "100%|██████████| 58/58 [00:16<00:00,  3.47it/s]\n",
            "100%|██████████| 58/58 [00:16<00:00,  3.48it/s]\n",
            "100%|██████████| 58/58 [00:16<00:00,  3.47it/s]\n"
          ]
        },
        {
          "output_type": "stream",
          "name": "stdout",
          "text": [
            "epoch : 40/200  d_loss : 0.00673  g_loss: 0.04358\n"
          ]
        },
        {
          "output_type": "stream",
          "name": "stderr",
          "text": [
            "100%|██████████| 58/58 [00:17<00:00,  3.22it/s]\n",
            "100%|██████████| 58/58 [00:16<00:00,  3.46it/s]\n",
            "100%|██████████| 58/58 [00:16<00:00,  3.45it/s]\n",
            "100%|██████████| 58/58 [00:16<00:00,  3.47it/s]\n",
            "100%|██████████| 58/58 [00:17<00:00,  3.37it/s]\n",
            "100%|██████████| 58/58 [00:16<00:00,  3.46it/s]\n",
            "100%|██████████| 58/58 [00:17<00:00,  3.31it/s]\n",
            "100%|██████████| 58/58 [00:16<00:00,  3.46it/s]\n",
            "100%|██████████| 58/58 [00:17<00:00,  3.38it/s]\n",
            "100%|██████████| 58/58 [00:16<00:00,  3.44it/s]\n"
          ]
        },
        {
          "output_type": "stream",
          "name": "stdout",
          "text": [
            "epoch : 50/200  d_loss : 0.06573  g_loss: 0.04691\n"
          ]
        },
        {
          "output_type": "stream",
          "name": "stderr",
          "text": [
            "100%|██████████| 58/58 [00:17<00:00,  3.31it/s]\n",
            "100%|██████████| 58/58 [00:16<00:00,  3.46it/s]\n",
            "100%|██████████| 58/58 [00:16<00:00,  3.47it/s]\n",
            "100%|██████████| 58/58 [00:17<00:00,  3.36it/s]\n",
            "100%|██████████| 58/58 [00:16<00:00,  3.45it/s]\n",
            "100%|██████████| 58/58 [00:16<00:00,  3.45it/s]\n",
            "100%|██████████| 58/58 [00:16<00:00,  3.46it/s]\n",
            "100%|██████████| 58/58 [00:17<00:00,  3.22it/s]\n",
            "100%|██████████| 58/58 [00:16<00:00,  3.47it/s]\n",
            "100%|██████████| 58/58 [00:16<00:00,  3.45it/s]\n"
          ]
        },
        {
          "output_type": "stream",
          "name": "stdout",
          "text": [
            "epoch : 60/200  d_loss : 0.00758  g_loss: 0.04824\n"
          ]
        },
        {
          "output_type": "stream",
          "name": "stderr",
          "text": [
            "100%|██████████| 58/58 [00:17<00:00,  3.30it/s]\n",
            "100%|██████████| 58/58 [00:16<00:00,  3.42it/s]\n",
            "100%|██████████| 58/58 [00:17<00:00,  3.39it/s]\n",
            "100%|██████████| 58/58 [00:16<00:00,  3.45it/s]\n",
            "100%|██████████| 58/58 [00:16<00:00,  3.46it/s]\n",
            "100%|██████████| 58/58 [00:16<00:00,  3.46it/s]\n",
            "100%|██████████| 58/58 [00:17<00:00,  3.37it/s]\n",
            "100%|██████████| 58/58 [00:16<00:00,  3.47it/s]\n",
            "100%|██████████| 58/58 [00:16<00:00,  3.45it/s]\n",
            "100%|██████████| 58/58 [00:16<00:00,  3.45it/s]\n"
          ]
        },
        {
          "output_type": "stream",
          "name": "stdout",
          "text": [
            "epoch : 70/200  d_loss : 0.08726  g_loss: 0.04738\n"
          ]
        },
        {
          "output_type": "stream",
          "name": "stderr",
          "text": [
            "100%|██████████| 58/58 [00:18<00:00,  3.20it/s]\n",
            "100%|██████████| 58/58 [00:16<00:00,  3.46it/s]\n",
            "100%|██████████| 58/58 [00:16<00:00,  3.44it/s]\n",
            "100%|██████████| 58/58 [00:16<00:00,  3.47it/s]\n",
            "100%|██████████| 58/58 [00:16<00:00,  3.46it/s]\n",
            "100%|██████████| 58/58 [00:17<00:00,  3.37it/s]\n",
            "100%|██████████| 58/58 [00:16<00:00,  3.48it/s]\n",
            "100%|██████████| 58/58 [00:16<00:00,  3.50it/s]\n",
            "100%|██████████| 58/58 [00:16<00:00,  3.49it/s]\n",
            "100%|██████████| 58/58 [00:17<00:00,  3.39it/s]\n"
          ]
        },
        {
          "output_type": "stream",
          "name": "stdout",
          "text": [
            "epoch : 80/200  d_loss : 0.01643  g_loss: 0.04316\n"
          ]
        },
        {
          "output_type": "stream",
          "name": "stderr",
          "text": [
            "100%|██████████| 58/58 [00:17<00:00,  3.33it/s]\n",
            "100%|██████████| 58/58 [00:16<00:00,  3.51it/s]\n",
            "100%|██████████| 58/58 [00:16<00:00,  3.50it/s]\n",
            "100%|██████████| 58/58 [00:16<00:00,  3.46it/s]\n",
            "100%|██████████| 58/58 [00:17<00:00,  3.28it/s]\n",
            "100%|██████████| 58/58 [00:16<00:00,  3.50it/s]\n",
            "100%|██████████| 58/58 [00:16<00:00,  3.50it/s]\n",
            "100%|██████████| 58/58 [00:16<00:00,  3.50it/s]\n",
            "100%|██████████| 58/58 [00:17<00:00,  3.36it/s]\n",
            "100%|██████████| 58/58 [00:16<00:00,  3.50it/s]\n"
          ]
        },
        {
          "output_type": "stream",
          "name": "stdout",
          "text": [
            "epoch : 90/200  d_loss : 0.10755  g_loss: 0.04205\n"
          ]
        },
        {
          "output_type": "stream",
          "name": "stderr",
          "text": [
            "100%|██████████| 58/58 [00:17<00:00,  3.31it/s]\n",
            "100%|██████████| 58/58 [00:16<00:00,  3.52it/s]\n",
            "100%|██████████| 58/58 [00:17<00:00,  3.38it/s]\n",
            "100%|██████████| 58/58 [00:16<00:00,  3.52it/s]\n",
            "100%|██████████| 58/58 [00:16<00:00,  3.51it/s]\n",
            "100%|██████████| 58/58 [00:17<00:00,  3.36it/s]\n",
            "100%|██████████| 58/58 [00:16<00:00,  3.51it/s]\n",
            "100%|██████████| 58/58 [00:17<00:00,  3.39it/s]\n",
            "100%|██████████| 58/58 [00:16<00:00,  3.50it/s]\n",
            "100%|██████████| 58/58 [00:16<00:00,  3.51it/s]\n"
          ]
        },
        {
          "output_type": "stream",
          "name": "stdout",
          "text": [
            "epoch : 100/200  d_loss : 0.01904  g_loss: 0.04245\n"
          ]
        },
        {
          "output_type": "stream",
          "name": "stderr",
          "text": [
            "100%|██████████| 58/58 [00:17<00:00,  3.34it/s]\n",
            "100%|██████████| 58/58 [00:17<00:00,  3.39it/s]\n",
            "100%|██████████| 58/58 [00:16<00:00,  3.50it/s]\n",
            "100%|██████████| 58/58 [00:16<00:00,  3.51it/s]\n",
            "100%|██████████| 58/58 [00:16<00:00,  3.51it/s]\n",
            "100%|██████████| 58/58 [00:16<00:00,  3.50it/s]\n",
            "100%|██████████| 58/58 [00:17<00:00,  3.40it/s]\n",
            "100%|██████████| 58/58 [00:16<00:00,  3.50it/s]\n",
            "100%|██████████| 58/58 [00:17<00:00,  3.34it/s]\n",
            "100%|██████████| 58/58 [00:16<00:00,  3.51it/s]\n"
          ]
        },
        {
          "output_type": "stream",
          "name": "stdout",
          "text": [
            "epoch : 110/200  d_loss : 0.10302  g_loss: 0.04067\n"
          ]
        },
        {
          "output_type": "stream",
          "name": "stderr",
          "text": [
            "100%|██████████| 58/58 [00:18<00:00,  3.20it/s]\n",
            "100%|██████████| 58/58 [00:16<00:00,  3.51it/s]\n",
            "100%|██████████| 58/58 [00:16<00:00,  3.51it/s]\n",
            "100%|██████████| 58/58 [00:16<00:00,  3.52it/s]\n",
            "100%|██████████| 58/58 [00:16<00:00,  3.51it/s]\n",
            "100%|██████████| 58/58 [00:17<00:00,  3.40it/s]\n",
            "100%|██████████| 58/58 [00:16<00:00,  3.50it/s]\n",
            "100%|██████████| 58/58 [00:16<00:00,  3.51it/s]\n",
            "100%|██████████| 58/58 [00:16<00:00,  3.52it/s]\n",
            "100%|██████████| 58/58 [00:17<00:00,  3.39it/s]\n"
          ]
        },
        {
          "output_type": "stream",
          "name": "stdout",
          "text": [
            "epoch : 120/200  d_loss : 0.11003  g_loss: 0.04199\n"
          ]
        },
        {
          "output_type": "stream",
          "name": "stderr",
          "text": [
            "100%|██████████| 58/58 [00:17<00:00,  3.33it/s]\n",
            "100%|██████████| 58/58 [00:17<00:00,  3.33it/s]\n",
            "100%|██████████| 58/58 [00:16<00:00,  3.50it/s]\n",
            "100%|██████████| 58/58 [00:16<00:00,  3.50it/s]\n",
            "100%|██████████| 58/58 [00:17<00:00,  3.39it/s]\n",
            "100%|██████████| 58/58 [00:16<00:00,  3.50it/s]\n",
            "100%|██████████| 58/58 [00:16<00:00,  3.48it/s]\n",
            "100%|██████████| 58/58 [00:16<00:00,  3.50it/s]\n",
            "100%|██████████| 58/58 [00:17<00:00,  3.39it/s]\n",
            "100%|██████████| 58/58 [00:16<00:00,  3.51it/s]\n"
          ]
        },
        {
          "output_type": "stream",
          "name": "stdout",
          "text": [
            "epoch : 130/200  d_loss : 0.01633  g_loss: 0.03870\n"
          ]
        },
        {
          "output_type": "stream",
          "name": "stderr",
          "text": [
            "100%|██████████| 58/58 [00:17<00:00,  3.31it/s]\n",
            "100%|██████████| 58/58 [00:16<00:00,  3.51it/s]\n",
            "100%|██████████| 58/58 [00:17<00:00,  3.41it/s]\n",
            "100%|██████████| 58/58 [00:17<00:00,  3.32it/s]\n",
            "100%|██████████| 58/58 [00:16<00:00,  3.51it/s]\n",
            "100%|██████████| 58/58 [00:16<00:00,  3.50it/s]\n",
            "100%|██████████| 58/58 [00:16<00:00,  3.50it/s]\n",
            "100%|██████████| 58/58 [00:17<00:00,  3.39it/s]\n",
            "100%|██████████| 58/58 [00:16<00:00,  3.50it/s]\n",
            "100%|██████████| 58/58 [00:16<00:00,  3.51it/s]\n"
          ]
        },
        {
          "output_type": "stream",
          "name": "stdout",
          "text": [
            "epoch : 140/200  d_loss : 0.00674  g_loss: 0.03476\n"
          ]
        },
        {
          "output_type": "stream",
          "name": "stderr",
          "text": [
            "100%|██████████| 58/58 [00:17<00:00,  3.32it/s]\n",
            "100%|██████████| 58/58 [00:17<00:00,  3.39it/s]\n",
            "100%|██████████| 58/58 [00:16<00:00,  3.50it/s]\n",
            "100%|██████████| 58/58 [00:16<00:00,  3.51it/s]\n",
            "100%|██████████| 58/58 [00:16<00:00,  3.49it/s]\n",
            "100%|██████████| 58/58 [00:17<00:00,  3.32it/s]\n",
            "100%|██████████| 58/58 [00:17<00:00,  3.39it/s]\n",
            "100%|██████████| 58/58 [00:16<00:00,  3.50it/s]\n",
            "100%|██████████| 58/58 [00:16<00:00,  3.51it/s]\n",
            "100%|██████████| 58/58 [00:16<00:00,  3.50it/s]\n"
          ]
        },
        {
          "output_type": "stream",
          "name": "stdout",
          "text": [
            "epoch : 150/200  d_loss : 0.10225  g_loss: 0.03771\n"
          ]
        },
        {
          "output_type": "stream",
          "name": "stderr",
          "text": [
            "100%|██████████| 58/58 [00:18<00:00,  3.20it/s]\n",
            "100%|██████████| 58/58 [00:16<00:00,  3.51it/s]\n",
            "100%|██████████| 58/58 [00:16<00:00,  3.50it/s]\n",
            "100%|██████████| 58/58 [00:16<00:00,  3.51it/s]\n",
            "100%|██████████| 58/58 [00:16<00:00,  3.49it/s]\n",
            "100%|██████████| 58/58 [00:17<00:00,  3.41it/s]\n",
            "100%|██████████| 58/58 [00:16<00:00,  3.52it/s]\n",
            "100%|██████████| 58/58 [00:16<00:00,  3.51it/s]\n",
            "100%|██████████| 58/58 [00:17<00:00,  3.34it/s]\n",
            "100%|██████████| 58/58 [00:17<00:00,  3.39it/s]\n"
          ]
        },
        {
          "output_type": "stream",
          "name": "stdout",
          "text": [
            "epoch : 160/200  d_loss : 0.10745  g_loss: 0.03520\n"
          ]
        },
        {
          "output_type": "stream",
          "name": "stderr",
          "text": [
            "100%|██████████| 58/58 [00:17<00:00,  3.34it/s]\n",
            "100%|██████████| 58/58 [00:16<00:00,  3.51it/s]\n",
            "100%|██████████| 58/58 [00:16<00:00,  3.51it/s]\n",
            "100%|██████████| 58/58 [00:16<00:00,  3.49it/s]\n",
            "100%|██████████| 58/58 [00:17<00:00,  3.39it/s]\n",
            "100%|██████████| 58/58 [00:16<00:00,  3.51it/s]\n",
            "100%|██████████| 58/58 [00:16<00:00,  3.51it/s]\n",
            "100%|██████████| 58/58 [00:16<00:00,  3.50it/s]\n",
            "100%|██████████| 58/58 [00:17<00:00,  3.37it/s]\n",
            "100%|██████████| 58/58 [00:16<00:00,  3.51it/s]\n"
          ]
        },
        {
          "output_type": "stream",
          "name": "stdout",
          "text": [
            "epoch : 170/200  d_loss : 0.03756  g_loss: 0.03769\n"
          ]
        },
        {
          "output_type": "stream",
          "name": "stderr",
          "text": [
            "100%|██████████| 58/58 [00:17<00:00,  3.33it/s]\n",
            "100%|██████████| 58/58 [00:16<00:00,  3.49it/s]\n",
            "100%|██████████| 58/58 [00:16<00:00,  3.45it/s]\n",
            "100%|██████████| 58/58 [00:18<00:00,  3.17it/s]\n",
            "100%|██████████| 58/58 [00:16<00:00,  3.49it/s]\n",
            "100%|██████████| 58/58 [00:16<00:00,  3.50it/s]\n",
            "100%|██████████| 58/58 [00:16<00:00,  3.50it/s]\n",
            "100%|██████████| 58/58 [00:17<00:00,  3.39it/s]\n",
            "100%|██████████| 58/58 [00:16<00:00,  3.49it/s]\n",
            "100%|██████████| 58/58 [00:16<00:00,  3.49it/s]\n"
          ]
        },
        {
          "output_type": "stream",
          "name": "stdout",
          "text": [
            "epoch : 180/200  d_loss : 0.10990  g_loss: 0.03738\n"
          ]
        },
        {
          "output_type": "stream",
          "name": "stderr",
          "text": [
            "100%|██████████| 58/58 [00:17<00:00,  3.31it/s]\n",
            "100%|██████████| 58/58 [00:16<00:00,  3.50it/s]\n",
            "100%|██████████| 58/58 [00:17<00:00,  3.39it/s]\n",
            "100%|██████████| 58/58 [00:16<00:00,  3.51it/s]\n",
            "100%|██████████| 58/58 [00:16<00:00,  3.50it/s]\n",
            "100%|██████████| 58/58 [00:16<00:00,  3.47it/s]\n",
            "100%|██████████| 58/58 [00:18<00:00,  3.19it/s]\n",
            "100%|██████████| 58/58 [00:16<00:00,  3.47it/s]\n",
            "100%|██████████| 58/58 [00:16<00:00,  3.46it/s]\n",
            "100%|██████████| 58/58 [00:16<00:00,  3.47it/s]\n"
          ]
        },
        {
          "output_type": "stream",
          "name": "stdout",
          "text": [
            "epoch : 190/200  d_loss : 0.08127  g_loss: 0.03490\n"
          ]
        },
        {
          "output_type": "stream",
          "name": "stderr",
          "text": [
            "100%|██████████| 58/58 [00:17<00:00,  3.31it/s]\n",
            "100%|██████████| 58/58 [00:17<00:00,  3.38it/s]\n",
            "100%|██████████| 58/58 [00:16<00:00,  3.46it/s]\n",
            "100%|██████████| 58/58 [00:16<00:00,  3.48it/s]\n",
            "100%|██████████| 58/58 [00:16<00:00,  3.48it/s]\n",
            "100%|██████████| 58/58 [00:17<00:00,  3.38it/s]\n",
            "100%|██████████| 58/58 [00:16<00:00,  3.48it/s]\n",
            "100%|██████████| 58/58 [00:16<00:00,  3.51it/s]\n",
            "100%|██████████| 58/58 [00:16<00:00,  3.50it/s]\n",
            "100%|██████████| 85/85 [00:25<00:00,  3.36it/s]\n"
          ]
        },
        {
          "output_type": "stream",
          "name": "stdout",
          "text": [
            "epoch : 0/200  d_loss : 0.12038  g_loss: 0.03673\n"
          ]
        },
        {
          "output_type": "stream",
          "name": "stderr",
          "text": [
            "100%|██████████| 85/85 [00:25<00:00,  3.33it/s]\n",
            "100%|██████████| 85/85 [00:24<00:00,  3.45it/s]\n",
            "100%|██████████| 85/85 [00:25<00:00,  3.39it/s]\n",
            "100%|██████████| 85/85 [00:24<00:00,  3.45it/s]\n",
            "100%|██████████| 85/85 [00:24<00:00,  3.45it/s]\n",
            "100%|██████████| 85/85 [00:25<00:00,  3.39it/s]\n",
            "100%|██████████| 85/85 [00:24<00:00,  3.46it/s]\n",
            "100%|██████████| 85/85 [00:24<00:00,  3.45it/s]\n",
            "100%|██████████| 85/85 [00:25<00:00,  3.40it/s]\n",
            "100%|██████████| 85/85 [00:24<00:00,  3.41it/s]\n"
          ]
        },
        {
          "output_type": "stream",
          "name": "stdout",
          "text": [
            "epoch : 10/200  d_loss : 0.16681  g_loss: 0.04596\n"
          ]
        },
        {
          "output_type": "stream",
          "name": "stderr",
          "text": [
            "100%|██████████| 85/85 [00:25<00:00,  3.34it/s]\n",
            "100%|██████████| 85/85 [00:26<00:00,  3.27it/s]\n",
            "100%|██████████| 85/85 [00:24<00:00,  3.46it/s]\n",
            "100%|██████████| 85/85 [00:24<00:00,  3.45it/s]\n",
            "100%|██████████| 85/85 [00:24<00:00,  3.46it/s]\n",
            "100%|██████████| 85/85 [00:25<00:00,  3.39it/s]\n",
            "100%|██████████| 85/85 [00:24<00:00,  3.45it/s]\n",
            "100%|██████████| 85/85 [00:24<00:00,  3.46it/s]\n",
            "100%|██████████| 85/85 [00:25<00:00,  3.38it/s]\n",
            "100%|██████████| 85/85 [00:25<00:00,  3.33it/s]\n"
          ]
        },
        {
          "output_type": "stream",
          "name": "stdout",
          "text": [
            "epoch : 20/200  d_loss : 0.05349  g_loss: 0.04549\n"
          ]
        },
        {
          "output_type": "stream",
          "name": "stderr",
          "text": [
            "100%|██████████| 85/85 [00:25<00:00,  3.34it/s]\n",
            "100%|██████████| 85/85 [00:25<00:00,  3.38it/s]\n",
            "100%|██████████| 85/85 [00:24<00:00,  3.46it/s]\n",
            "100%|██████████| 85/85 [00:24<00:00,  3.45it/s]\n",
            "100%|██████████| 85/85 [00:25<00:00,  3.39it/s]\n",
            "100%|██████████| 85/85 [00:24<00:00,  3.46it/s]\n",
            "100%|██████████| 85/85 [00:24<00:00,  3.45it/s]\n",
            "100%|██████████| 85/85 [00:25<00:00,  3.38it/s]\n",
            "100%|██████████| 85/85 [00:24<00:00,  3.46it/s]\n",
            "100%|██████████| 85/85 [00:24<00:00,  3.45it/s]\n"
          ]
        },
        {
          "output_type": "stream",
          "name": "stdout",
          "text": [
            "epoch : 30/200  d_loss : 0.05910  g_loss: 0.04316\n"
          ]
        },
        {
          "output_type": "stream",
          "name": "stderr",
          "text": [
            "100%|██████████| 85/85 [00:26<00:00,  3.15it/s]\n",
            "100%|██████████| 85/85 [00:24<00:00,  3.46it/s]\n",
            "100%|██████████| 85/85 [00:24<00:00,  3.45it/s]\n",
            "100%|██████████| 85/85 [00:25<00:00,  3.38it/s]\n",
            "100%|██████████| 85/85 [00:24<00:00,  3.46it/s]\n",
            "100%|██████████| 85/85 [00:24<00:00,  3.44it/s]\n",
            "100%|██████████| 85/85 [00:25<00:00,  3.38it/s]\n",
            "100%|██████████| 85/85 [00:24<00:00,  3.45it/s]\n",
            "100%|██████████| 85/85 [00:24<00:00,  3.45it/s]\n",
            "100%|██████████| 85/85 [00:26<00:00,  3.25it/s]\n"
          ]
        },
        {
          "output_type": "stream",
          "name": "stdout",
          "text": [
            "epoch : 40/200  d_loss : 0.08393  g_loss: 0.04178\n"
          ]
        },
        {
          "output_type": "stream",
          "name": "stderr",
          "text": [
            "100%|██████████| 85/85 [00:25<00:00,  3.33it/s]\n",
            "100%|██████████| 85/85 [00:24<00:00,  3.46it/s]\n",
            "100%|██████████| 85/85 [00:25<00:00,  3.38it/s]\n",
            "100%|██████████| 85/85 [00:24<00:00,  3.46it/s]\n",
            "100%|██████████| 85/85 [00:24<00:00,  3.46it/s]\n",
            "100%|██████████| 85/85 [00:25<00:00,  3.38it/s]\n",
            "100%|██████████| 85/85 [00:24<00:00,  3.46it/s]\n",
            "100%|██████████| 85/85 [00:24<00:00,  3.45it/s]\n",
            "100%|██████████| 85/85 [00:25<00:00,  3.36it/s]\n",
            "100%|██████████| 85/85 [00:24<00:00,  3.45it/s]\n"
          ]
        },
        {
          "output_type": "stream",
          "name": "stdout",
          "text": [
            "epoch : 50/200  d_loss : 0.08399  g_loss: 0.04012\n"
          ]
        },
        {
          "output_type": "stream",
          "name": "stderr",
          "text": [
            "100%|██████████| 85/85 [00:26<00:00,  3.22it/s]\n",
            "100%|██████████| 85/85 [00:25<00:00,  3.37it/s]\n",
            "100%|██████████| 85/85 [00:24<00:00,  3.45it/s]\n",
            "100%|██████████| 85/85 [00:24<00:00,  3.45it/s]\n",
            "100%|██████████| 85/85 [00:25<00:00,  3.37it/s]\n",
            "100%|██████████| 85/85 [00:24<00:00,  3.44it/s]\n",
            "100%|██████████| 85/85 [00:24<00:00,  3.46it/s]\n",
            "100%|██████████| 85/85 [00:24<00:00,  3.43it/s]\n",
            "100%|██████████| 85/85 [00:25<00:00,  3.39it/s]\n",
            "100%|██████████| 85/85 [00:24<00:00,  3.45it/s]\n"
          ]
        },
        {
          "output_type": "stream",
          "name": "stdout",
          "text": [
            "epoch : 60/200  d_loss : 0.09656  g_loss: 0.03869\n"
          ]
        },
        {
          "output_type": "stream",
          "name": "stderr",
          "text": [
            "100%|██████████| 85/85 [00:25<00:00,  3.28it/s]\n",
            "100%|██████████| 85/85 [00:24<00:00,  3.43it/s]\n",
            "100%|██████████| 85/85 [00:24<00:00,  3.47it/s]\n",
            "100%|██████████| 85/85 [00:24<00:00,  3.46it/s]\n",
            "100%|██████████| 85/85 [00:25<00:00,  3.37it/s]\n",
            "100%|██████████| 85/85 [00:25<00:00,  3.32it/s]\n",
            "100%|██████████| 85/85 [00:24<00:00,  3.45it/s]\n",
            "100%|██████████| 85/85 [00:25<00:00,  3.38it/s]\n",
            "100%|██████████| 85/85 [00:24<00:00,  3.46it/s]\n",
            "100%|██████████| 85/85 [00:24<00:00,  3.46it/s]\n"
          ]
        },
        {
          "output_type": "stream",
          "name": "stdout",
          "text": [
            "epoch : 70/200  d_loss : 0.14145  g_loss: 0.03787\n"
          ]
        },
        {
          "output_type": "stream",
          "name": "stderr",
          "text": [
            "100%|██████████| 85/85 [00:25<00:00,  3.27it/s]\n",
            "100%|██████████| 85/85 [00:24<00:00,  3.45it/s]\n",
            "100%|██████████| 85/85 [00:24<00:00,  3.45it/s]\n",
            "100%|██████████| 85/85 [00:25<00:00,  3.39it/s]\n",
            "100%|██████████| 85/85 [00:24<00:00,  3.46it/s]\n",
            "100%|██████████| 85/85 [00:24<00:00,  3.46it/s]\n",
            "100%|██████████| 85/85 [00:25<00:00,  3.39it/s]\n",
            "100%|██████████| 85/85 [00:24<00:00,  3.45it/s]\n",
            "100%|██████████| 85/85 [00:25<00:00,  3.32it/s]\n",
            "100%|██████████| 85/85 [00:25<00:00,  3.38it/s]\n"
          ]
        },
        {
          "output_type": "stream",
          "name": "stdout",
          "text": [
            "epoch : 80/200  d_loss : 0.06404  g_loss: 0.03723\n"
          ]
        },
        {
          "output_type": "stream",
          "name": "stderr",
          "text": [
            "100%|██████████| 85/85 [00:25<00:00,  3.30it/s]\n",
            "100%|██████████| 85/85 [00:24<00:00,  3.46it/s]\n",
            "100%|██████████| 85/85 [00:25<00:00,  3.37it/s]\n",
            "100%|██████████| 85/85 [00:24<00:00,  3.45it/s]\n",
            "100%|██████████| 85/85 [00:24<00:00,  3.44it/s]\n",
            "100%|██████████| 85/85 [00:25<00:00,  3.37it/s]\n",
            "100%|██████████| 85/85 [00:24<00:00,  3.44it/s]\n",
            "100%|██████████| 85/85 [00:24<00:00,  3.43it/s]\n",
            "100%|██████████| 85/85 [00:25<00:00,  3.32it/s]\n",
            "100%|██████████| 85/85 [00:24<00:00,  3.40it/s]\n"
          ]
        },
        {
          "output_type": "stream",
          "name": "stdout",
          "text": [
            "epoch : 90/200  d_loss : 0.18413  g_loss: 0.03597\n"
          ]
        },
        {
          "output_type": "stream",
          "name": "stderr",
          "text": [
            "100%|██████████| 85/85 [00:25<00:00,  3.32it/s]\n",
            "100%|██████████| 85/85 [00:25<00:00,  3.36it/s]\n",
            "100%|██████████| 85/85 [00:24<00:00,  3.43it/s]\n",
            "100%|██████████| 85/85 [00:24<00:00,  3.44it/s]\n",
            "100%|██████████| 85/85 [00:25<00:00,  3.37it/s]\n",
            "100%|██████████| 85/85 [00:24<00:00,  3.45it/s]\n",
            "100%|██████████| 85/85 [00:24<00:00,  3.42it/s]\n",
            "100%|██████████| 85/85 [00:25<00:00,  3.36it/s]\n",
            "100%|██████████| 85/85 [00:24<00:00,  3.45it/s]\n",
            "100%|██████████| 85/85 [00:24<00:00,  3.43it/s]\n"
          ]
        },
        {
          "output_type": "stream",
          "name": "stdout",
          "text": [
            "epoch : 100/200  d_loss : 0.05726  g_loss: 0.03485\n"
          ]
        },
        {
          "output_type": "stream",
          "name": "stderr",
          "text": [
            "100%|██████████| 85/85 [00:25<00:00,  3.28it/s]\n",
            "100%|██████████| 85/85 [00:24<00:00,  3.44it/s]\n",
            "100%|██████████| 85/85 [00:25<00:00,  3.36it/s]\n",
            "100%|██████████| 85/85 [00:24<00:00,  3.43it/s]\n",
            "100%|██████████| 85/85 [00:24<00:00,  3.44it/s]\n",
            "100%|██████████| 85/85 [00:24<00:00,  3.40it/s]\n",
            "100%|██████████| 85/85 [00:25<00:00,  3.39it/s]\n",
            "100%|██████████| 85/85 [00:25<00:00,  3.30it/s]\n",
            "100%|██████████| 85/85 [00:24<00:00,  3.41it/s]\n",
            "100%|██████████| 85/85 [00:25<00:00,  3.38it/s]\n"
          ]
        },
        {
          "output_type": "stream",
          "name": "stdout",
          "text": [
            "epoch : 110/200  d_loss : 0.05620  g_loss: 0.03410\n"
          ]
        },
        {
          "output_type": "stream",
          "name": "stderr",
          "text": [
            "100%|██████████| 85/85 [00:25<00:00,  3.32it/s]\n",
            "100%|██████████| 85/85 [00:25<00:00,  3.36it/s]\n",
            "100%|██████████| 85/85 [00:24<00:00,  3.43it/s]\n",
            "100%|██████████| 85/85 [00:24<00:00,  3.45it/s]\n",
            "100%|██████████| 85/85 [00:25<00:00,  3.37it/s]\n",
            "100%|██████████| 85/85 [00:24<00:00,  3.44it/s]\n",
            "100%|██████████| 85/85 [00:24<00:00,  3.44it/s]\n",
            "100%|██████████| 85/85 [00:25<00:00,  3.37it/s]\n",
            "100%|██████████| 85/85 [00:24<00:00,  3.44it/s]\n",
            "100%|██████████| 85/85 [00:25<00:00,  3.30it/s]\n"
          ]
        },
        {
          "output_type": "stream",
          "name": "stdout",
          "text": [
            "epoch : 120/200  d_loss : 0.24162  g_loss: 0.03318\n"
          ]
        },
        {
          "output_type": "stream",
          "name": "stderr",
          "text": [
            "100%|██████████| 85/85 [00:26<00:00,  3.22it/s]\n",
            "100%|██████████| 85/85 [00:24<00:00,  3.42it/s]\n",
            "100%|██████████| 85/85 [00:24<00:00,  3.44it/s]\n",
            "100%|██████████| 85/85 [00:25<00:00,  3.37it/s]\n",
            "100%|██████████| 85/85 [00:24<00:00,  3.44it/s]\n",
            "100%|██████████| 85/85 [00:24<00:00,  3.43it/s]\n",
            "100%|██████████| 85/85 [00:25<00:00,  3.37it/s]\n",
            "100%|██████████| 85/85 [00:24<00:00,  3.44it/s]\n",
            "100%|██████████| 85/85 [00:24<00:00,  3.43it/s]\n",
            "100%|██████████| 85/85 [00:25<00:00,  3.37it/s]\n"
          ]
        },
        {
          "output_type": "stream",
          "name": "stdout",
          "text": [
            "epoch : 130/200  d_loss : 0.02167  g_loss: 0.03227\n"
          ]
        },
        {
          "output_type": "stream",
          "name": "stderr",
          "text": [
            "100%|██████████| 85/85 [00:25<00:00,  3.33it/s]\n",
            "100%|██████████| 85/85 [00:25<00:00,  3.29it/s]\n",
            "100%|██████████| 85/85 [00:25<00:00,  3.37it/s]\n",
            "100%|██████████| 85/85 [00:24<00:00,  3.43it/s]\n",
            "100%|██████████| 85/85 [00:24<00:00,  3.43it/s]\n",
            "100%|██████████| 85/85 [00:25<00:00,  3.37it/s]\n",
            "100%|██████████| 85/85 [00:24<00:00,  3.44it/s]\n",
            "100%|██████████| 85/85 [00:24<00:00,  3.43it/s]\n",
            "100%|██████████| 85/85 [00:25<00:00,  3.36it/s]\n",
            "100%|██████████| 85/85 [00:24<00:00,  3.44it/s]\n"
          ]
        },
        {
          "output_type": "stream",
          "name": "stdout",
          "text": [
            "epoch : 140/200  d_loss : 0.07725  g_loss: 0.03216\n"
          ]
        },
        {
          "output_type": "stream",
          "name": "stderr",
          "text": [
            "100%|██████████| 85/85 [00:25<00:00,  3.34it/s]\n",
            "100%|██████████| 85/85 [00:26<00:00,  3.22it/s]\n",
            "100%|██████████| 85/85 [00:24<00:00,  3.43it/s]\n",
            "100%|██████████| 85/85 [00:24<00:00,  3.44it/s]\n",
            "100%|██████████| 85/85 [00:25<00:00,  3.35it/s]\n",
            "100%|██████████| 85/85 [00:24<00:00,  3.44it/s]\n",
            "100%|██████████| 85/85 [00:24<00:00,  3.44it/s]\n",
            "100%|██████████| 85/85 [00:25<00:00,  3.36it/s]\n",
            "100%|██████████| 85/85 [00:24<00:00,  3.44it/s]\n",
            "100%|██████████| 85/85 [00:24<00:00,  3.45it/s]\n"
          ]
        },
        {
          "output_type": "stream",
          "name": "stdout",
          "text": [
            "epoch : 150/200  d_loss : 0.05663  g_loss: 0.03263\n"
          ]
        },
        {
          "output_type": "stream",
          "name": "stderr",
          "text": [
            "100%|██████████| 85/85 [00:27<00:00,  3.11it/s]\n",
            "100%|██████████| 85/85 [00:24<00:00,  3.45it/s]\n",
            "100%|██████████| 85/85 [00:24<00:00,  3.45it/s]\n",
            "100%|██████████| 85/85 [00:25<00:00,  3.36it/s]\n",
            "100%|██████████| 85/85 [00:24<00:00,  3.45it/s]\n",
            "100%|██████████| 85/85 [00:24<00:00,  3.45it/s]\n",
            "100%|██████████| 85/85 [00:25<00:00,  3.33it/s]\n",
            "100%|██████████| 85/85 [00:25<00:00,  3.37it/s]\n",
            "100%|██████████| 85/85 [00:24<00:00,  3.40it/s]\n",
            "100%|██████████| 85/85 [00:25<00:00,  3.36it/s]\n"
          ]
        },
        {
          "output_type": "stream",
          "name": "stdout",
          "text": [
            "epoch : 160/200  d_loss : 0.20216  g_loss: 0.02944\n"
          ]
        },
        {
          "output_type": "stream",
          "name": "stderr",
          "text": [
            "100%|██████████| 85/85 [00:26<00:00,  3.16it/s]\n",
            "100%|██████████| 85/85 [00:25<00:00,  3.40it/s]\n",
            "100%|██████████| 85/85 [00:25<00:00,  3.36it/s]\n",
            "100%|██████████| 85/85 [00:25<00:00,  3.40it/s]\n",
            "100%|██████████| 85/85 [00:25<00:00,  3.38it/s]\n",
            "100%|██████████| 85/85 [00:25<00:00,  3.38it/s]\n",
            "100%|██████████| 85/85 [00:24<00:00,  3.41it/s]\n",
            "100%|██████████| 85/85 [00:25<00:00,  3.38it/s]\n",
            "100%|██████████| 85/85 [00:25<00:00,  3.37it/s]\n",
            "100%|██████████| 85/85 [00:24<00:00,  3.41it/s]\n"
          ]
        },
        {
          "output_type": "stream",
          "name": "stdout",
          "text": [
            "epoch : 170/200  d_loss : 0.02212  g_loss: 0.02811\n"
          ]
        },
        {
          "output_type": "stream",
          "name": "stderr",
          "text": [
            "100%|██████████| 85/85 [00:26<00:00,  3.22it/s]\n",
            "100%|██████████| 85/85 [00:24<00:00,  3.43it/s]\n",
            "100%|██████████| 85/85 [00:25<00:00,  3.40it/s]\n",
            "100%|██████████| 85/85 [00:25<00:00,  3.33it/s]\n",
            "100%|██████████| 85/85 [00:24<00:00,  3.43it/s]\n",
            "100%|██████████| 85/85 [00:24<00:00,  3.41it/s]\n",
            "100%|██████████| 85/85 [00:25<00:00,  3.35it/s]\n",
            "100%|██████████| 85/85 [00:24<00:00,  3.40it/s]\n",
            "100%|██████████| 85/85 [00:24<00:00,  3.41it/s]\n",
            "100%|██████████| 85/85 [00:25<00:00,  3.35it/s]\n"
          ]
        },
        {
          "output_type": "stream",
          "name": "stdout",
          "text": [
            "epoch : 180/200  d_loss : 0.20398  g_loss: 0.02835\n"
          ]
        },
        {
          "output_type": "stream",
          "name": "stderr",
          "text": [
            "100%|██████████| 85/85 [00:25<00:00,  3.33it/s]\n",
            "100%|██████████| 85/85 [00:24<00:00,  3.44it/s]\n",
            "100%|██████████| 85/85 [00:25<00:00,  3.33it/s]\n",
            "100%|██████████| 85/85 [00:24<00:00,  3.43it/s]\n",
            "100%|██████████| 85/85 [00:24<00:00,  3.43it/s]\n",
            "100%|██████████| 85/85 [00:26<00:00,  3.20it/s]\n",
            "100%|██████████| 85/85 [00:24<00:00,  3.43it/s]\n",
            "100%|██████████| 85/85 [00:24<00:00,  3.43it/s]\n",
            "100%|██████████| 85/85 [00:25<00:00,  3.34it/s]\n",
            "100%|██████████| 85/85 [00:24<00:00,  3.43it/s]\n"
          ]
        },
        {
          "output_type": "stream",
          "name": "stdout",
          "text": [
            "epoch : 190/200  d_loss : 0.01299  g_loss: 0.02796\n"
          ]
        },
        {
          "output_type": "stream",
          "name": "stderr",
          "text": [
            "100%|██████████| 85/85 [00:25<00:00,  3.30it/s]\n",
            "100%|██████████| 85/85 [00:25<00:00,  3.35it/s]\n",
            "100%|██████████| 85/85 [00:24<00:00,  3.42it/s]\n",
            "100%|██████████| 85/85 [00:24<00:00,  3.43it/s]\n",
            "100%|██████████| 85/85 [00:25<00:00,  3.34it/s]\n",
            "100%|██████████| 85/85 [00:24<00:00,  3.42it/s]\n",
            "100%|██████████| 85/85 [00:24<00:00,  3.42it/s]\n",
            "100%|██████████| 85/85 [00:25<00:00,  3.36it/s]\n",
            "100%|██████████| 85/85 [00:24<00:00,  3.42it/s]\n",
            "100%|██████████| 42/42 [00:11<00:00,  3.73it/s]\n"
          ]
        },
        {
          "output_type": "stream",
          "name": "stdout",
          "text": [
            "epoch : 0/200  d_loss : 0.11935  g_loss: 0.02896\n"
          ]
        },
        {
          "output_type": "stream",
          "name": "stderr",
          "text": [
            "100%|██████████| 42/42 [00:12<00:00,  3.48it/s]\n",
            "100%|██████████| 42/42 [00:11<00:00,  3.65it/s]\n",
            "100%|██████████| 42/42 [00:12<00:00,  3.33it/s]\n",
            "100%|██████████| 42/42 [00:11<00:00,  3.71it/s]\n",
            "100%|██████████| 42/42 [00:11<00:00,  3.71it/s]\n",
            "100%|██████████| 42/42 [00:11<00:00,  3.73it/s]\n",
            "100%|██████████| 42/42 [00:11<00:00,  3.73it/s]\n",
            "100%|██████████| 42/42 [00:11<00:00,  3.73it/s]\n",
            "100%|██████████| 42/42 [00:11<00:00,  3.58it/s]\n",
            "100%|██████████| 42/42 [00:11<00:00,  3.73it/s]\n"
          ]
        },
        {
          "output_type": "stream",
          "name": "stdout",
          "text": [
            "epoch : 10/200  d_loss : 0.11527  g_loss: 0.03534\n"
          ]
        },
        {
          "output_type": "stream",
          "name": "stderr",
          "text": [
            "100%|██████████| 42/42 [00:12<00:00,  3.48it/s]\n",
            "100%|██████████| 42/42 [00:11<00:00,  3.72it/s]\n",
            "100%|██████████| 42/42 [00:11<00:00,  3.72it/s]\n",
            "100%|██████████| 42/42 [00:11<00:00,  3.73it/s]\n",
            "100%|██████████| 42/42 [00:11<00:00,  3.59it/s]\n",
            "100%|██████████| 42/42 [00:11<00:00,  3.74it/s]\n",
            "100%|██████████| 42/42 [00:11<00:00,  3.70it/s]\n",
            "100%|██████████| 42/42 [00:11<00:00,  3.73it/s]\n",
            "100%|██████████| 42/42 [00:11<00:00,  3.72it/s]\n",
            "100%|██████████| 42/42 [00:11<00:00,  3.73it/s]\n"
          ]
        },
        {
          "output_type": "stream",
          "name": "stdout",
          "text": [
            "epoch : 20/200  d_loss : 0.12516  g_loss: 0.03661\n"
          ]
        },
        {
          "output_type": "stream",
          "name": "stderr",
          "text": [
            "100%|██████████| 42/42 [00:12<00:00,  3.41it/s]\n",
            "100%|██████████| 42/42 [00:11<00:00,  3.63it/s]\n",
            "100%|██████████| 42/42 [00:11<00:00,  3.73it/s]\n",
            "100%|██████████| 42/42 [00:11<00:00,  3.72it/s]\n",
            "100%|██████████| 42/42 [00:11<00:00,  3.72it/s]\n",
            "100%|██████████| 42/42 [00:11<00:00,  3.72it/s]\n",
            "100%|██████████| 42/42 [00:11<00:00,  3.75it/s]\n",
            "100%|██████████| 42/42 [00:11<00:00,  3.57it/s]\n",
            "100%|██████████| 42/42 [00:12<00:00,  3.38it/s]\n",
            "100%|██████████| 42/42 [00:11<00:00,  3.71it/s]\n"
          ]
        },
        {
          "output_type": "stream",
          "name": "stdout",
          "text": [
            "epoch : 30/200  d_loss : 0.08663  g_loss: 0.03349\n"
          ]
        },
        {
          "output_type": "stream",
          "name": "stderr",
          "text": [
            "100%|██████████| 42/42 [00:11<00:00,  3.55it/s]\n",
            "100%|██████████| 42/42 [00:11<00:00,  3.64it/s]\n",
            "100%|██████████| 42/42 [00:11<00:00,  3.71it/s]\n",
            "100%|██████████| 42/42 [00:11<00:00,  3.58it/s]\n",
            "100%|██████████| 42/42 [00:11<00:00,  3.74it/s]\n",
            "100%|██████████| 42/42 [00:11<00:00,  3.74it/s]\n",
            "100%|██████████| 42/42 [00:11<00:00,  3.73it/s]\n",
            "100%|██████████| 42/42 [00:11<00:00,  3.75it/s]\n",
            "100%|██████████| 42/42 [00:11<00:00,  3.73it/s]\n",
            "100%|██████████| 42/42 [00:11<00:00,  3.74it/s]\n"
          ]
        },
        {
          "output_type": "stream",
          "name": "stdout",
          "text": [
            "epoch : 40/200  d_loss : 0.05083  g_loss: 0.03243\n"
          ]
        },
        {
          "output_type": "stream",
          "name": "stderr",
          "text": [
            "100%|██████████| 42/42 [00:12<00:00,  3.34it/s]\n",
            "100%|██████████| 42/42 [00:11<00:00,  3.73it/s]\n",
            "100%|██████████| 42/42 [00:11<00:00,  3.72it/s]\n",
            "100%|██████████| 42/42 [00:11<00:00,  3.74it/s]\n",
            "100%|██████████| 42/42 [00:11<00:00,  3.72it/s]\n",
            "100%|██████████| 42/42 [00:11<00:00,  3.73it/s]\n",
            "100%|██████████| 42/42 [00:11<00:00,  3.58it/s]\n",
            "100%|██████████| 42/42 [00:11<00:00,  3.74it/s]\n",
            "100%|██████████| 42/42 [00:11<00:00,  3.74it/s]\n",
            "100%|██████████| 42/42 [00:11<00:00,  3.75it/s]\n"
          ]
        },
        {
          "output_type": "stream",
          "name": "stdout",
          "text": [
            "epoch : 50/200  d_loss : 0.08418  g_loss: 0.03469\n"
          ]
        },
        {
          "output_type": "stream",
          "name": "stderr",
          "text": [
            "100%|██████████| 42/42 [00:12<00:00,  3.47it/s]\n",
            "100%|██████████| 42/42 [00:11<00:00,  3.71it/s]\n",
            "100%|██████████| 42/42 [00:11<00:00,  3.61it/s]\n",
            "100%|██████████| 42/42 [00:11<00:00,  3.65it/s]\n",
            "100%|██████████| 42/42 [00:11<00:00,  3.74it/s]\n",
            "100%|██████████| 42/42 [00:11<00:00,  3.72it/s]\n",
            "100%|██████████| 42/42 [00:12<00:00,  3.36it/s]\n",
            "100%|██████████| 42/42 [00:11<00:00,  3.71it/s]\n",
            "100%|██████████| 42/42 [00:11<00:00,  3.73it/s]\n",
            "100%|██████████| 42/42 [00:11<00:00,  3.55it/s]\n"
          ]
        },
        {
          "output_type": "stream",
          "name": "stdout",
          "text": [
            "epoch : 60/200  d_loss : 0.06714  g_loss: 0.03094\n"
          ]
        },
        {
          "output_type": "stream",
          "name": "stderr",
          "text": [
            "100%|██████████| 42/42 [00:11<00:00,  3.52it/s]\n",
            "100%|██████████| 42/42 [00:11<00:00,  3.65it/s]\n",
            "100%|██████████| 42/42 [00:11<00:00,  3.74it/s]\n",
            "100%|██████████| 42/42 [00:11<00:00,  3.73it/s]\n",
            "100%|██████████| 42/42 [00:11<00:00,  3.74it/s]\n",
            "100%|██████████| 42/42 [00:11<00:00,  3.65it/s]\n",
            "100%|██████████| 42/42 [00:11<00:00,  3.65it/s]\n",
            "100%|██████████| 42/42 [00:11<00:00,  3.74it/s]\n",
            "100%|██████████| 42/42 [00:11<00:00,  3.73it/s]\n",
            "100%|██████████| 42/42 [00:11<00:00,  3.72it/s]\n"
          ]
        },
        {
          "output_type": "stream",
          "name": "stdout",
          "text": [
            "epoch : 70/200  d_loss : 0.17317  g_loss: 0.02872\n"
          ]
        },
        {
          "output_type": "stream",
          "name": "stderr",
          "text": [
            "100%|██████████| 42/42 [00:12<00:00,  3.49it/s]\n",
            "100%|██████████| 42/42 [00:11<00:00,  3.72it/s]\n",
            "100%|██████████| 42/42 [00:11<00:00,  3.55it/s]\n",
            "100%|██████████| 42/42 [00:11<00:00,  3.72it/s]\n",
            "100%|██████████| 42/42 [00:11<00:00,  3.73it/s]\n",
            "100%|██████████| 42/42 [00:11<00:00,  3.72it/s]\n",
            "100%|██████████| 42/42 [00:11<00:00,  3.74it/s]\n",
            "100%|██████████| 42/42 [00:11<00:00,  3.75it/s]\n",
            "100%|██████████| 42/42 [00:11<00:00,  3.73it/s]\n",
            "100%|██████████| 42/42 [00:11<00:00,  3.56it/s]\n"
          ]
        },
        {
          "output_type": "stream",
          "name": "stdout",
          "text": [
            "epoch : 80/200  d_loss : 0.20386  g_loss: 0.02863\n"
          ]
        },
        {
          "output_type": "stream",
          "name": "stderr",
          "text": [
            "100%|██████████| 42/42 [00:11<00:00,  3.55it/s]\n",
            "100%|██████████| 42/42 [00:11<00:00,  3.68it/s]\n",
            "100%|██████████| 42/42 [00:11<00:00,  3.75it/s]\n",
            "100%|██████████| 42/42 [00:11<00:00,  3.74it/s]\n",
            "100%|██████████| 42/42 [00:11<00:00,  3.73it/s]\n",
            "100%|██████████| 42/42 [00:12<00:00,  3.35it/s]\n",
            "100%|██████████| 42/42 [00:11<00:00,  3.57it/s]\n",
            "100%|██████████| 42/42 [00:11<00:00,  3.73it/s]\n",
            "100%|██████████| 42/42 [00:11<00:00,  3.70it/s]\n",
            "100%|██████████| 42/42 [00:11<00:00,  3.73it/s]\n"
          ]
        },
        {
          "output_type": "stream",
          "name": "stdout",
          "text": [
            "epoch : 90/200  d_loss : 0.16759  g_loss: 0.02724\n"
          ]
        },
        {
          "output_type": "stream",
          "name": "stderr",
          "text": [
            "100%|██████████| 42/42 [00:11<00:00,  3.53it/s]\n",
            "100%|██████████| 42/42 [00:11<00:00,  3.66it/s]\n",
            "100%|██████████| 42/42 [00:11<00:00,  3.58it/s]\n",
            "100%|██████████| 42/42 [00:11<00:00,  3.71it/s]\n",
            "100%|██████████| 42/42 [00:11<00:00,  3.71it/s]\n",
            "100%|██████████| 42/42 [00:11<00:00,  3.73it/s]\n",
            "100%|██████████| 42/42 [00:11<00:00,  3.71it/s]\n",
            "100%|██████████| 42/42 [00:11<00:00,  3.74it/s]\n",
            "100%|██████████| 42/42 [00:11<00:00,  3.72it/s]\n",
            "100%|██████████| 42/42 [00:11<00:00,  3.60it/s]\n"
          ]
        },
        {
          "output_type": "stream",
          "name": "stdout",
          "text": [
            "epoch : 100/200  d_loss : 0.07667  g_loss: 0.02630\n"
          ]
        },
        {
          "output_type": "stream",
          "name": "stderr",
          "text": [
            "100%|██████████| 42/42 [00:12<00:00,  3.46it/s]\n",
            "100%|██████████| 42/42 [00:11<00:00,  3.73it/s]\n",
            "100%|██████████| 42/42 [00:11<00:00,  3.74it/s]\n",
            "100%|██████████| 42/42 [00:11<00:00,  3.73it/s]\n",
            "100%|██████████| 42/42 [00:11<00:00,  3.73it/s]\n",
            "100%|██████████| 42/42 [00:11<00:00,  3.72it/s]\n",
            "100%|██████████| 42/42 [00:11<00:00,  3.56it/s]\n",
            "100%|██████████| 42/42 [00:11<00:00,  3.71it/s]\n",
            "100%|██████████| 42/42 [00:11<00:00,  3.71it/s]\n",
            "100%|██████████| 42/42 [00:11<00:00,  3.72it/s]\n"
          ]
        },
        {
          "output_type": "stream",
          "name": "stdout",
          "text": [
            "epoch : 110/200  d_loss : 0.14659  g_loss: 0.02537\n"
          ]
        },
        {
          "output_type": "stream",
          "name": "stderr",
          "text": [
            "100%|██████████| 42/42 [00:11<00:00,  3.54it/s]\n",
            "100%|██████████| 42/42 [00:11<00:00,  3.66it/s]\n",
            "100%|██████████| 42/42 [00:11<00:00,  3.73it/s]\n",
            "100%|██████████| 42/42 [00:13<00:00,  3.19it/s]\n",
            "100%|██████████| 42/42 [00:11<00:00,  3.70it/s]\n",
            "100%|██████████| 42/42 [00:11<00:00,  3.71it/s]\n",
            "100%|██████████| 42/42 [00:11<00:00,  3.74it/s]\n",
            "100%|██████████| 42/42 [00:11<00:00,  3.72it/s]\n",
            "100%|██████████| 42/42 [00:11<00:00,  3.70it/s]\n",
            "100%|██████████| 42/42 [00:11<00:00,  3.67it/s]\n"
          ]
        },
        {
          "output_type": "stream",
          "name": "stdout",
          "text": [
            "epoch : 120/200  d_loss : 0.06532  g_loss: 0.02489\n"
          ]
        },
        {
          "output_type": "stream",
          "name": "stderr",
          "text": [
            "100%|██████████| 42/42 [00:12<00:00,  3.44it/s]\n",
            "100%|██████████| 42/42 [00:11<00:00,  3.70it/s]\n",
            "100%|██████████| 42/42 [00:11<00:00,  3.70it/s]\n",
            "100%|██████████| 42/42 [00:11<00:00,  3.73it/s]\n",
            "100%|██████████| 42/42 [00:11<00:00,  3.73it/s]\n",
            "100%|██████████| 42/42 [00:11<00:00,  3.71it/s]\n",
            "100%|██████████| 42/42 [00:11<00:00,  3.55it/s]\n",
            "100%|██████████| 42/42 [00:11<00:00,  3.72it/s]\n",
            "100%|██████████| 42/42 [00:11<00:00,  3.72it/s]\n",
            "100%|██████████| 42/42 [00:11<00:00,  3.70it/s]\n"
          ]
        },
        {
          "output_type": "stream",
          "name": "stdout",
          "text": [
            "epoch : 130/200  d_loss : 0.04882  g_loss: 0.02388\n"
          ]
        },
        {
          "output_type": "stream",
          "name": "stderr",
          "text": [
            "100%|██████████| 42/42 [00:12<00:00,  3.46it/s]\n",
            "100%|██████████| 42/42 [00:11<00:00,  3.73it/s]\n",
            "100%|██████████| 42/42 [00:11<00:00,  3.74it/s]\n",
            "100%|██████████| 42/42 [00:11<00:00,  3.58it/s]\n",
            "100%|██████████| 42/42 [00:11<00:00,  3.70it/s]\n",
            "100%|██████████| 42/42 [00:11<00:00,  3.72it/s]\n",
            "100%|██████████| 42/42 [00:11<00:00,  3.70it/s]\n",
            "100%|██████████| 42/42 [00:11<00:00,  3.71it/s]\n",
            "100%|██████████| 42/42 [00:11<00:00,  3.71it/s]\n",
            "100%|██████████| 42/42 [00:11<00:00,  3.59it/s]\n"
          ]
        },
        {
          "output_type": "stream",
          "name": "stdout",
          "text": [
            "epoch : 140/200  d_loss : 0.36929  g_loss: 0.02395\n"
          ]
        },
        {
          "output_type": "stream",
          "name": "stderr",
          "text": [
            "100%|██████████| 42/42 [00:12<00:00,  3.50it/s]\n",
            "100%|██████████| 42/42 [00:12<00:00,  3.27it/s]\n",
            "100%|██████████| 42/42 [00:11<00:00,  3.72it/s]\n",
            "100%|██████████| 42/42 [00:11<00:00,  3.73it/s]\n",
            "100%|██████████| 42/42 [00:11<00:00,  3.71it/s]\n",
            "100%|██████████| 42/42 [00:11<00:00,  3.73it/s]\n",
            "100%|██████████| 42/42 [00:11<00:00,  3.56it/s]\n",
            "100%|██████████| 42/42 [00:11<00:00,  3.71it/s]\n",
            "100%|██████████| 42/42 [00:11<00:00,  3.70it/s]\n",
            "100%|██████████| 42/42 [00:11<00:00,  3.72it/s]\n"
          ]
        },
        {
          "output_type": "stream",
          "name": "stdout",
          "text": [
            "epoch : 150/200  d_loss : 0.21531  g_loss: 0.02368\n"
          ]
        },
        {
          "output_type": "stream",
          "name": "stderr",
          "text": [
            "100%|██████████| 42/42 [00:12<00:00,  3.47it/s]\n",
            "100%|██████████| 42/42 [00:11<00:00,  3.73it/s]\n",
            "100%|██████████| 42/42 [00:11<00:00,  3.70it/s]\n",
            "100%|██████████| 42/42 [00:11<00:00,  3.62it/s]\n",
            "100%|██████████| 42/42 [00:11<00:00,  3.73it/s]\n",
            "100%|██████████| 42/42 [00:11<00:00,  3.71it/s]\n",
            "100%|██████████| 42/42 [00:11<00:00,  3.72it/s]\n",
            "100%|██████████| 42/42 [00:11<00:00,  3.73it/s]\n",
            "100%|██████████| 42/42 [00:11<00:00,  3.74it/s]\n",
            "100%|██████████| 42/42 [00:11<00:00,  3.63it/s]\n"
          ]
        },
        {
          "output_type": "stream",
          "name": "stdout",
          "text": [
            "epoch : 160/200  d_loss : 0.00838  g_loss: 0.02253\n"
          ]
        },
        {
          "output_type": "stream",
          "name": "stderr",
          "text": [
            "100%|██████████| 42/42 [00:12<00:00,  3.48it/s]\n",
            "100%|██████████| 42/42 [00:11<00:00,  3.72it/s]\n",
            "100%|██████████| 42/42 [00:11<00:00,  3.72it/s]\n",
            "100%|██████████| 42/42 [00:11<00:00,  3.73it/s]\n",
            "100%|██████████| 42/42 [00:11<00:00,  3.74it/s]\n",
            "100%|██████████| 42/42 [00:11<00:00,  3.73it/s]\n",
            "100%|██████████| 42/42 [00:13<00:00,  3.19it/s]\n",
            "100%|██████████| 42/42 [00:11<00:00,  3.73it/s]\n",
            "100%|██████████| 42/42 [00:11<00:00,  3.73it/s]\n",
            "100%|██████████| 42/42 [00:11<00:00,  3.71it/s]\n"
          ]
        },
        {
          "output_type": "stream",
          "name": "stdout",
          "text": [
            "epoch : 170/200  d_loss : 0.00760  g_loss: 0.02266\n"
          ]
        },
        {
          "output_type": "stream",
          "name": "stderr",
          "text": [
            "100%|██████████| 42/42 [00:11<00:00,  3.55it/s]\n",
            "100%|██████████| 42/42 [00:11<00:00,  3.64it/s]\n",
            "100%|██████████| 42/42 [00:11<00:00,  3.73it/s]\n",
            "100%|██████████| 42/42 [00:11<00:00,  3.58it/s]\n",
            "100%|██████████| 42/42 [00:11<00:00,  3.71it/s]\n",
            "100%|██████████| 42/42 [00:11<00:00,  3.72it/s]\n",
            "100%|██████████| 42/42 [00:11<00:00,  3.71it/s]\n",
            "100%|██████████| 42/42 [00:11<00:00,  3.73it/s]\n",
            "100%|██████████| 42/42 [00:11<00:00,  3.74it/s]\n",
            "100%|██████████| 42/42 [00:11<00:00,  3.73it/s]\n"
          ]
        },
        {
          "output_type": "stream",
          "name": "stdout",
          "text": [
            "epoch : 180/200  d_loss : 0.02179  g_loss: 0.02215\n"
          ]
        },
        {
          "output_type": "stream",
          "name": "stderr",
          "text": [
            "100%|██████████| 42/42 [00:12<00:00,  3.48it/s]\n",
            "100%|██████████| 42/42 [00:11<00:00,  3.74it/s]\n",
            "100%|██████████| 42/42 [00:11<00:00,  3.72it/s]\n",
            "100%|██████████| 42/42 [00:11<00:00,  3.73it/s]\n",
            "100%|██████████| 42/42 [00:11<00:00,  3.75it/s]\n",
            "100%|██████████| 42/42 [00:11<00:00,  3.73it/s]\n",
            "100%|██████████| 42/42 [00:11<00:00,  3.57it/s]\n",
            "100%|██████████| 42/42 [00:11<00:00,  3.72it/s]\n",
            "100%|██████████| 42/42 [00:11<00:00,  3.74it/s]\n",
            "100%|██████████| 42/42 [00:11<00:00,  3.73it/s]\n"
          ]
        },
        {
          "output_type": "stream",
          "name": "stdout",
          "text": [
            "epoch : 190/200  d_loss : 0.31234  g_loss: 0.02076\n"
          ]
        },
        {
          "output_type": "stream",
          "name": "stderr",
          "text": [
            "100%|██████████| 42/42 [00:12<00:00,  3.47it/s]\n",
            "100%|██████████| 42/42 [00:11<00:00,  3.74it/s]\n",
            "100%|██████████| 42/42 [00:11<00:00,  3.74it/s]\n",
            "100%|██████████| 42/42 [00:11<00:00,  3.59it/s]\n",
            "100%|██████████| 42/42 [00:11<00:00,  3.73it/s]\n",
            "100%|██████████| 42/42 [00:12<00:00,  3.31it/s]\n",
            "100%|██████████| 42/42 [00:11<00:00,  3.72it/s]\n",
            "100%|██████████| 42/42 [00:11<00:00,  3.72it/s]\n",
            "100%|██████████| 42/42 [00:11<00:00,  3.74it/s]\n",
            "100%|██████████| 57/57 [00:17<00:00,  3.35it/s]\n"
          ]
        },
        {
          "output_type": "stream",
          "name": "stdout",
          "text": [
            "epoch : 0/200  d_loss : 0.23288  g_loss: 0.02388\n"
          ]
        },
        {
          "output_type": "stream",
          "name": "stderr",
          "text": [
            "100%|██████████| 57/57 [00:17<00:00,  3.30it/s]\n",
            "100%|██████████| 57/57 [00:16<00:00,  3.47it/s]\n",
            "100%|██████████| 57/57 [00:16<00:00,  3.48it/s]\n",
            "100%|██████████| 57/57 [00:16<00:00,  3.49it/s]\n",
            "100%|██████████| 57/57 [00:16<00:00,  3.35it/s]\n",
            "100%|██████████| 57/57 [00:16<00:00,  3.48it/s]\n",
            "100%|██████████| 57/57 [00:16<00:00,  3.48it/s]\n",
            "100%|██████████| 57/57 [00:16<00:00,  3.47it/s]\n",
            "100%|██████████| 57/57 [00:16<00:00,  3.46it/s]\n",
            "100%|██████████| 57/57 [00:16<00:00,  3.38it/s]\n"
          ]
        },
        {
          "output_type": "stream",
          "name": "stdout",
          "text": [
            "epoch : 10/200  d_loss : 0.02524  g_loss: 0.04466\n"
          ]
        },
        {
          "output_type": "stream",
          "name": "stderr",
          "text": [
            "100%|██████████| 57/57 [00:17<00:00,  3.30it/s]\n",
            "100%|██████████| 57/57 [00:16<00:00,  3.46it/s]\n",
            "100%|██████████| 57/57 [00:16<00:00,  3.49it/s]\n",
            "100%|██████████| 57/57 [00:16<00:00,  3.36it/s]\n",
            "100%|██████████| 57/57 [00:16<00:00,  3.48it/s]\n",
            "100%|██████████| 57/57 [00:16<00:00,  3.47it/s]\n",
            "100%|██████████| 57/57 [00:16<00:00,  3.48it/s]\n",
            "100%|██████████| 57/57 [00:16<00:00,  3.49it/s]\n",
            "100%|██████████| 57/57 [00:16<00:00,  3.37it/s]\n",
            "100%|██████████| 57/57 [00:16<00:00,  3.47it/s]\n"
          ]
        },
        {
          "output_type": "stream",
          "name": "stdout",
          "text": [
            "epoch : 20/200  d_loss : 0.00783  g_loss: 0.04484\n"
          ]
        },
        {
          "output_type": "stream",
          "name": "stderr",
          "text": [
            "100%|██████████| 57/57 [00:18<00:00,  3.06it/s]\n",
            "100%|██████████| 57/57 [00:16<00:00,  3.46it/s]\n",
            "100%|██████████| 57/57 [00:16<00:00,  3.38it/s]\n",
            "100%|██████████| 57/57 [00:16<00:00,  3.49it/s]\n",
            "100%|██████████| 57/57 [00:16<00:00,  3.49it/s]\n",
            "100%|██████████| 57/57 [00:16<00:00,  3.48it/s]\n",
            "100%|██████████| 57/57 [00:16<00:00,  3.47it/s]\n",
            "100%|██████████| 57/57 [00:16<00:00,  3.38it/s]\n",
            "100%|██████████| 57/57 [00:16<00:00,  3.48it/s]\n",
            "100%|██████████| 57/57 [00:16<00:00,  3.49it/s]\n"
          ]
        },
        {
          "output_type": "stream",
          "name": "stdout",
          "text": [
            "epoch : 30/200  d_loss : 0.02643  g_loss: 0.04569\n"
          ]
        },
        {
          "output_type": "stream",
          "name": "stderr",
          "text": [
            "100%|██████████| 57/57 [00:17<00:00,  3.31it/s]\n",
            "100%|██████████| 57/57 [00:16<00:00,  3.48it/s]\n",
            "100%|██████████| 57/57 [00:16<00:00,  3.37it/s]\n",
            "100%|██████████| 57/57 [00:16<00:00,  3.48it/s]\n",
            "100%|██████████| 57/57 [00:16<00:00,  3.49it/s]\n",
            "100%|██████████| 57/57 [00:16<00:00,  3.47it/s]\n",
            "100%|██████████| 57/57 [00:16<00:00,  3.42it/s]\n",
            "100%|██████████| 57/57 [00:16<00:00,  3.43it/s]\n",
            "100%|██████████| 57/57 [00:16<00:00,  3.49it/s]\n",
            "100%|██████████| 57/57 [00:16<00:00,  3.49it/s]\n"
          ]
        },
        {
          "output_type": "stream",
          "name": "stdout",
          "text": [
            "epoch : 40/200  d_loss : 0.01494  g_loss: 0.04626\n"
          ]
        },
        {
          "output_type": "stream",
          "name": "stderr",
          "text": [
            "100%|██████████| 57/57 [00:17<00:00,  3.29it/s]\n",
            "100%|██████████| 57/57 [00:16<00:00,  3.37it/s]\n",
            "100%|██████████| 57/57 [00:17<00:00,  3.19it/s]\n",
            "100%|██████████| 57/57 [00:16<00:00,  3.48it/s]\n",
            "100%|██████████| 57/57 [00:16<00:00,  3.46it/s]\n",
            "100%|██████████| 57/57 [00:16<00:00,  3.47it/s]\n",
            "100%|██████████| 57/57 [00:17<00:00,  3.35it/s]\n",
            "100%|██████████| 57/57 [00:16<00:00,  3.48it/s]\n",
            "100%|██████████| 57/57 [00:16<00:00,  3.49it/s]\n",
            "100%|██████████| 57/57 [00:16<00:00,  3.47it/s]\n"
          ]
        },
        {
          "output_type": "stream",
          "name": "stdout",
          "text": [
            "epoch : 50/200  d_loss : 0.03117  g_loss: 0.04758\n"
          ]
        },
        {
          "output_type": "stream",
          "name": "stderr",
          "text": [
            "100%|██████████| 57/57 [00:17<00:00,  3.21it/s]\n",
            "100%|██████████| 57/57 [00:16<00:00,  3.48it/s]\n",
            "100%|██████████| 57/57 [00:16<00:00,  3.48it/s]\n",
            "100%|██████████| 57/57 [00:16<00:00,  3.49it/s]\n",
            "100%|██████████| 57/57 [00:16<00:00,  3.45it/s]\n",
            "100%|██████████| 57/57 [00:16<00:00,  3.36it/s]\n",
            "100%|██████████| 57/57 [00:16<00:00,  3.48it/s]\n",
            "100%|██████████| 57/57 [00:16<00:00,  3.48it/s]\n",
            "100%|██████████| 57/57 [00:16<00:00,  3.47it/s]\n",
            "100%|██████████| 57/57 [00:16<00:00,  3.46it/s]\n"
          ]
        },
        {
          "output_type": "stream",
          "name": "stdout",
          "text": [
            "epoch : 60/200  d_loss : 0.00459  g_loss: 0.04770\n"
          ]
        },
        {
          "output_type": "stream",
          "name": "stderr",
          "text": [
            "100%|██████████| 57/57 [00:17<00:00,  3.21it/s]\n",
            "100%|██████████| 57/57 [00:16<00:00,  3.48it/s]\n",
            "100%|██████████| 57/57 [00:16<00:00,  3.48it/s]\n",
            "100%|██████████| 57/57 [00:16<00:00,  3.47it/s]\n",
            "100%|██████████| 57/57 [00:16<00:00,  3.44it/s]\n",
            "100%|██████████| 57/57 [00:18<00:00,  3.09it/s]\n",
            "100%|██████████| 57/57 [00:16<00:00,  3.48it/s]\n",
            "100%|██████████| 57/57 [00:16<00:00,  3.47it/s]\n",
            "100%|██████████| 57/57 [00:16<00:00,  3.47it/s]\n",
            "100%|██████████| 57/57 [00:17<00:00,  3.34it/s]\n"
          ]
        },
        {
          "output_type": "stream",
          "name": "stdout",
          "text": [
            "epoch : 70/200  d_loss : 0.02689  g_loss: 0.04576\n"
          ]
        },
        {
          "output_type": "stream",
          "name": "stderr",
          "text": [
            "100%|██████████| 57/57 [00:17<00:00,  3.29it/s]\n",
            "100%|██████████| 57/57 [00:16<00:00,  3.48it/s]\n",
            "100%|██████████| 57/57 [00:16<00:00,  3.48it/s]\n",
            "100%|██████████| 57/57 [00:16<00:00,  3.46it/s]\n",
            "100%|██████████| 57/57 [00:16<00:00,  3.37it/s]\n",
            "100%|██████████| 57/57 [00:16<00:00,  3.50it/s]\n",
            "100%|██████████| 57/57 [00:16<00:00,  3.49it/s]\n",
            "100%|██████████| 57/57 [00:16<00:00,  3.48it/s]\n",
            "100%|██████████| 57/57 [00:16<00:00,  3.47it/s]\n",
            "100%|██████████| 57/57 [00:16<00:00,  3.37it/s]\n"
          ]
        },
        {
          "output_type": "stream",
          "name": "stdout",
          "text": [
            "epoch : 80/200  d_loss : 0.08350  g_loss: 0.04825\n"
          ]
        },
        {
          "output_type": "stream",
          "name": "stderr",
          "text": [
            "100%|██████████| 57/57 [00:17<00:00,  3.31it/s]\n",
            "100%|██████████| 57/57 [00:16<00:00,  3.48it/s]\n",
            "100%|██████████| 57/57 [00:16<00:00,  3.49it/s]\n",
            "100%|██████████| 57/57 [00:16<00:00,  3.42it/s]\n",
            "100%|██████████| 57/57 [00:16<00:00,  3.41it/s]\n",
            "100%|██████████| 57/57 [00:16<00:00,  3.47it/s]\n",
            "100%|██████████| 57/57 [00:16<00:00,  3.46it/s]\n",
            "100%|██████████| 57/57 [00:16<00:00,  3.47it/s]\n",
            "100%|██████████| 57/57 [00:17<00:00,  3.35it/s]\n",
            "100%|██████████| 57/57 [00:16<00:00,  3.45it/s]\n"
          ]
        },
        {
          "output_type": "stream",
          "name": "stdout",
          "text": [
            "epoch : 90/200  d_loss : 0.00965  g_loss: 0.04564\n"
          ]
        },
        {
          "output_type": "stream",
          "name": "stderr",
          "text": [
            "100%|██████████| 57/57 [00:17<00:00,  3.29it/s]\n",
            "100%|██████████| 57/57 [00:16<00:00,  3.46it/s]\n",
            "100%|██████████| 57/57 [00:16<00:00,  3.45it/s]\n",
            "100%|██████████| 57/57 [00:17<00:00,  3.35it/s]\n",
            "100%|██████████| 57/57 [00:16<00:00,  3.48it/s]\n",
            "100%|██████████| 57/57 [00:16<00:00,  3.47it/s]\n",
            "100%|██████████| 57/57 [00:16<00:00,  3.47it/s]\n",
            "100%|██████████| 57/57 [00:16<00:00,  3.46it/s]\n",
            "100%|██████████| 57/57 [00:16<00:00,  3.36it/s]\n",
            "100%|██████████| 57/57 [00:16<00:00,  3.47it/s]\n"
          ]
        },
        {
          "output_type": "stream",
          "name": "stdout",
          "text": [
            "epoch : 100/200  d_loss : 0.00404  g_loss: 0.04333\n"
          ]
        },
        {
          "output_type": "stream",
          "name": "stderr",
          "text": [
            "100%|██████████| 57/57 [00:17<00:00,  3.29it/s]\n",
            "100%|██████████| 57/57 [00:16<00:00,  3.48it/s]\n",
            "100%|██████████| 57/57 [00:17<00:00,  3.35it/s]\n",
            "100%|██████████| 57/57 [00:16<00:00,  3.47it/s]\n",
            "100%|██████████| 57/57 [00:16<00:00,  3.48it/s]\n",
            "100%|██████████| 57/57 [00:16<00:00,  3.49it/s]\n",
            "100%|██████████| 57/57 [00:16<00:00,  3.47it/s]\n",
            "100%|██████████| 57/57 [00:16<00:00,  3.35it/s]\n",
            "100%|██████████| 57/57 [00:16<00:00,  3.47it/s]\n",
            "100%|██████████| 57/57 [00:16<00:00,  3.48it/s]\n"
          ]
        },
        {
          "output_type": "stream",
          "name": "stdout",
          "text": [
            "epoch : 110/200  d_loss : 0.15416  g_loss: 0.04259\n"
          ]
        },
        {
          "output_type": "stream",
          "name": "stderr",
          "text": [
            "100%|██████████| 57/57 [00:17<00:00,  3.25it/s]\n",
            "100%|██████████| 57/57 [00:16<00:00,  3.45it/s]\n",
            "100%|██████████| 57/57 [00:16<00:00,  3.36it/s]\n",
            "100%|██████████| 57/57 [00:16<00:00,  3.47it/s]\n",
            "100%|██████████| 57/57 [00:16<00:00,  3.47it/s]\n",
            "100%|██████████| 57/57 [00:16<00:00,  3.46it/s]\n",
            "100%|██████████| 57/57 [00:16<00:00,  3.45it/s]\n",
            "100%|██████████| 57/57 [00:17<00:00,  3.34it/s]\n",
            "100%|██████████| 57/57 [00:18<00:00,  3.15it/s]\n",
            "100%|██████████| 57/57 [00:16<00:00,  3.46it/s]\n"
          ]
        },
        {
          "output_type": "stream",
          "name": "stdout",
          "text": [
            "epoch : 120/200  d_loss : 0.00552  g_loss: 0.03883\n"
          ]
        },
        {
          "output_type": "stream",
          "name": "stderr",
          "text": [
            "100%|██████████| 57/57 [00:17<00:00,  3.30it/s]\n",
            "100%|██████████| 57/57 [00:17<00:00,  3.35it/s]\n",
            "100%|██████████| 57/57 [00:16<00:00,  3.46it/s]\n",
            "100%|██████████| 57/57 [00:16<00:00,  3.48it/s]\n",
            "100%|██████████| 57/57 [00:16<00:00,  3.48it/s]\n",
            "100%|██████████| 57/57 [00:16<00:00,  3.49it/s]\n",
            "100%|██████████| 57/57 [00:16<00:00,  3.36it/s]\n",
            "100%|██████████| 57/57 [00:16<00:00,  3.49it/s]\n",
            "100%|██████████| 57/57 [00:16<00:00,  3.49it/s]\n",
            "100%|██████████| 57/57 [00:16<00:00,  3.49it/s]\n"
          ]
        },
        {
          "output_type": "stream",
          "name": "stdout",
          "text": [
            "epoch : 130/200  d_loss : 0.13151  g_loss: 0.03965\n"
          ]
        },
        {
          "output_type": "stream",
          "name": "stderr",
          "text": [
            "100%|██████████| 57/57 [00:17<00:00,  3.23it/s]\n",
            "100%|██████████| 57/57 [00:16<00:00,  3.39it/s]\n",
            "100%|██████████| 57/57 [00:16<00:00,  3.48it/s]\n",
            "100%|██████████| 57/57 [00:16<00:00,  3.50it/s]\n",
            "100%|██████████| 57/57 [00:16<00:00,  3.49it/s]\n",
            "100%|██████████| 57/57 [00:16<00:00,  3.36it/s]\n",
            "100%|██████████| 57/57 [00:16<00:00,  3.49it/s]\n",
            "100%|██████████| 57/57 [00:16<00:00,  3.49it/s]\n",
            "100%|██████████| 57/57 [00:16<00:00,  3.48it/s]\n",
            "100%|██████████| 57/57 [00:16<00:00,  3.49it/s]\n"
          ]
        },
        {
          "output_type": "stream",
          "name": "stdout",
          "text": [
            "epoch : 140/200  d_loss : 0.14224  g_loss: 0.03911\n"
          ]
        },
        {
          "output_type": "stream",
          "name": "stderr",
          "text": [
            "100%|██████████| 57/57 [00:17<00:00,  3.18it/s]\n",
            "100%|██████████| 57/57 [00:16<00:00,  3.48it/s]\n",
            "100%|██████████| 57/57 [00:16<00:00,  3.49it/s]\n",
            "100%|██████████| 57/57 [00:16<00:00,  3.48it/s]\n",
            "100%|██████████| 57/57 [00:16<00:00,  3.50it/s]\n",
            "100%|██████████| 57/57 [00:18<00:00,  3.07it/s]\n",
            "100%|██████████| 57/57 [00:16<00:00,  3.47it/s]\n",
            "100%|██████████| 57/57 [00:16<00:00,  3.45it/s]\n",
            "100%|██████████| 57/57 [00:16<00:00,  3.47it/s]\n",
            "100%|██████████| 57/57 [00:16<00:00,  3.35it/s]\n"
          ]
        },
        {
          "output_type": "stream",
          "name": "stdout",
          "text": [
            "epoch : 150/200  d_loss : 0.00937  g_loss: 0.03742\n"
          ]
        },
        {
          "output_type": "stream",
          "name": "stderr",
          "text": [
            "100%|██████████| 57/57 [00:17<00:00,  3.29it/s]\n",
            "100%|██████████| 57/57 [00:16<00:00,  3.42it/s]\n",
            "100%|██████████| 57/57 [00:16<00:00,  3.43it/s]\n",
            "100%|██████████| 57/57 [00:16<00:00,  3.47it/s]\n",
            "100%|██████████| 57/57 [00:17<00:00,  3.35it/s]\n",
            "100%|██████████| 57/57 [00:16<00:00,  3.47it/s]\n",
            "100%|██████████| 57/57 [00:16<00:00,  3.47it/s]\n",
            "100%|██████████| 57/57 [00:16<00:00,  3.47it/s]\n",
            "100%|██████████| 57/57 [00:16<00:00,  3.47it/s]\n",
            "100%|██████████| 57/57 [00:16<00:00,  3.37it/s]\n"
          ]
        },
        {
          "output_type": "stream",
          "name": "stdout",
          "text": [
            "epoch : 160/200  d_loss : 0.00742  g_loss: 0.03796\n"
          ]
        },
        {
          "output_type": "stream",
          "name": "stderr",
          "text": [
            "100%|██████████| 57/57 [00:17<00:00,  3.30it/s]\n",
            "100%|██████████| 57/57 [00:16<00:00,  3.47it/s]\n",
            "100%|██████████| 57/57 [00:16<00:00,  3.48it/s]\n",
            "100%|██████████| 57/57 [00:16<00:00,  3.36it/s]\n",
            "100%|██████████| 57/57 [00:16<00:00,  3.46it/s]\n",
            "100%|██████████| 57/57 [00:16<00:00,  3.47it/s]\n",
            "100%|██████████| 57/57 [00:16<00:00,  3.47it/s]\n",
            "100%|██████████| 57/57 [00:16<00:00,  3.47it/s]\n",
            "100%|██████████| 57/57 [00:16<00:00,  3.35it/s]\n",
            "100%|██████████| 57/57 [00:16<00:00,  3.46it/s]\n"
          ]
        },
        {
          "output_type": "stream",
          "name": "stdout",
          "text": [
            "epoch : 170/200  d_loss : 0.16426  g_loss: 0.03673\n"
          ]
        },
        {
          "output_type": "stream",
          "name": "stderr",
          "text": [
            "100%|██████████| 57/57 [00:18<00:00,  3.01it/s]\n",
            "100%|██████████| 57/57 [00:16<00:00,  3.47it/s]\n",
            "100%|██████████| 57/57 [00:17<00:00,  3.35it/s]\n",
            "100%|██████████| 57/57 [00:16<00:00,  3.46it/s]\n",
            "100%|██████████| 57/57 [00:16<00:00,  3.45it/s]\n",
            "100%|██████████| 57/57 [00:16<00:00,  3.46it/s]\n",
            "100%|██████████| 57/57 [00:16<00:00,  3.46it/s]\n",
            "100%|██████████| 57/57 [00:17<00:00,  3.32it/s]\n",
            "100%|██████████| 57/57 [00:16<00:00,  3.40it/s]\n",
            "100%|██████████| 57/57 [00:16<00:00,  3.43it/s]\n"
          ]
        },
        {
          "output_type": "stream",
          "name": "stdout",
          "text": [
            "epoch : 180/200  d_loss : 0.01157  g_loss: 0.03407\n"
          ]
        },
        {
          "output_type": "stream",
          "name": "stderr",
          "text": [
            "100%|██████████| 57/57 [00:17<00:00,  3.26it/s]\n",
            "100%|██████████| 57/57 [00:16<00:00,  3.41it/s]\n",
            "100%|██████████| 57/57 [00:16<00:00,  3.37it/s]\n",
            "100%|██████████| 57/57 [00:16<00:00,  3.44it/s]\n",
            "100%|██████████| 57/57 [00:16<00:00,  3.46it/s]\n",
            "100%|██████████| 57/57 [00:16<00:00,  3.46it/s]\n",
            "100%|██████████| 57/57 [00:17<00:00,  3.35it/s]\n",
            "100%|██████████| 57/57 [00:16<00:00,  3.45it/s]\n",
            "100%|██████████| 57/57 [00:16<00:00,  3.44it/s]\n",
            "100%|██████████| 57/57 [00:16<00:00,  3.44it/s]\n"
          ]
        },
        {
          "output_type": "stream",
          "name": "stdout",
          "text": [
            "epoch : 190/200  d_loss : 0.11725  g_loss: 0.03359\n"
          ]
        },
        {
          "output_type": "stream",
          "name": "stderr",
          "text": [
            "100%|██████████| 57/57 [00:17<00:00,  3.28it/s]\n",
            "100%|██████████| 57/57 [00:17<00:00,  3.34it/s]\n",
            "100%|██████████| 57/57 [00:16<00:00,  3.44it/s]\n",
            "100%|██████████| 57/57 [00:16<00:00,  3.46it/s]\n",
            "100%|██████████| 57/57 [00:16<00:00,  3.45it/s]\n",
            "100%|██████████| 57/57 [00:17<00:00,  3.18it/s]\n",
            "100%|██████████| 57/57 [00:18<00:00,  3.05it/s]\n",
            "100%|██████████| 57/57 [00:16<00:00,  3.44it/s]\n",
            "100%|██████████| 57/57 [00:16<00:00,  3.44it/s]\n",
            "100%|██████████| 70/70 [00:19<00:00,  3.51it/s]\n"
          ]
        },
        {
          "output_type": "stream",
          "name": "stdout",
          "text": [
            "epoch : 0/200  d_loss : 0.17895  g_loss: 0.03521\n"
          ]
        },
        {
          "output_type": "stream",
          "name": "stderr",
          "text": [
            "100%|██████████| 70/70 [00:21<00:00,  3.20it/s]\n",
            "100%|██████████| 70/70 [00:20<00:00,  3.50it/s]\n",
            "100%|██████████| 70/70 [00:19<00:00,  3.50it/s]\n",
            "100%|██████████| 70/70 [00:19<00:00,  3.50it/s]\n",
            "100%|██████████| 70/70 [00:20<00:00,  3.42it/s]\n",
            "100%|██████████| 70/70 [00:20<00:00,  3.49it/s]\n",
            "100%|██████████| 70/70 [00:20<00:00,  3.50it/s]\n",
            "100%|██████████| 70/70 [00:19<00:00,  3.51it/s]\n",
            "100%|██████████| 70/70 [00:20<00:00,  3.41it/s]\n",
            "100%|██████████| 70/70 [00:20<00:00,  3.49it/s]\n"
          ]
        },
        {
          "output_type": "stream",
          "name": "stdout",
          "text": [
            "epoch : 10/200  d_loss : 0.08720  g_loss: 0.03998\n"
          ]
        },
        {
          "output_type": "stream",
          "name": "stderr",
          "text": [
            "100%|██████████| 70/70 [00:20<00:00,  3.36it/s]\n",
            "100%|██████████| 70/70 [00:20<00:00,  3.42it/s]\n",
            "100%|██████████| 70/70 [00:20<00:00,  3.50it/s]\n",
            "100%|██████████| 70/70 [00:20<00:00,  3.49it/s]\n",
            "100%|██████████| 70/70 [00:19<00:00,  3.50it/s]\n",
            "100%|██████████| 70/70 [00:20<00:00,  3.40it/s]\n",
            "100%|██████████| 70/70 [00:20<00:00,  3.49it/s]\n",
            "100%|██████████| 70/70 [00:21<00:00,  3.21it/s]\n",
            "100%|██████████| 70/70 [00:19<00:00,  3.51it/s]\n",
            "100%|██████████| 70/70 [00:20<00:00,  3.40it/s]\n"
          ]
        },
        {
          "output_type": "stream",
          "name": "stdout",
          "text": [
            "epoch : 20/200  d_loss : 0.03230  g_loss: 0.04116\n"
          ]
        },
        {
          "output_type": "stream",
          "name": "stderr",
          "text": [
            "100%|██████████| 70/70 [00:20<00:00,  3.34it/s]\n",
            "100%|██████████| 70/70 [00:19<00:00,  3.51it/s]\n",
            "100%|██████████| 70/70 [00:19<00:00,  3.51it/s]\n",
            "100%|██████████| 70/70 [00:20<00:00,  3.42it/s]\n",
            "100%|██████████| 70/70 [00:19<00:00,  3.51it/s]\n",
            "100%|██████████| 70/70 [00:19<00:00,  3.52it/s]\n",
            "100%|██████████| 70/70 [00:19<00:00,  3.50it/s]\n",
            "100%|██████████| 70/70 [00:20<00:00,  3.42it/s]\n",
            "100%|██████████| 70/70 [00:19<00:00,  3.51it/s]\n",
            "100%|██████████| 70/70 [00:20<00:00,  3.48it/s]\n"
          ]
        },
        {
          "output_type": "stream",
          "name": "stdout",
          "text": [
            "epoch : 30/200  d_loss : 0.04786  g_loss: 0.03952\n"
          ]
        },
        {
          "output_type": "stream",
          "name": "stderr",
          "text": [
            "100%|██████████| 70/70 [00:20<00:00,  3.38it/s]\n",
            "100%|██████████| 70/70 [00:20<00:00,  3.41it/s]\n",
            "100%|██████████| 70/70 [00:20<00:00,  3.50it/s]\n",
            "100%|██████████| 70/70 [00:19<00:00,  3.50it/s]\n",
            "100%|██████████| 70/70 [00:19<00:00,  3.51it/s]\n",
            "100%|██████████| 70/70 [00:20<00:00,  3.42it/s]\n",
            "100%|██████████| 70/70 [00:20<00:00,  3.49it/s]\n",
            "100%|██████████| 70/70 [00:19<00:00,  3.50it/s]\n",
            "100%|██████████| 70/70 [00:19<00:00,  3.51it/s]\n",
            "100%|██████████| 70/70 [00:20<00:00,  3.41it/s]\n"
          ]
        },
        {
          "output_type": "stream",
          "name": "stdout",
          "text": [
            "epoch : 40/200  d_loss : 0.06614  g_loss: 0.03773\n"
          ]
        },
        {
          "output_type": "stream",
          "name": "stderr",
          "text": [
            "100%|██████████| 70/70 [00:22<00:00,  3.09it/s]\n",
            "100%|██████████| 70/70 [00:19<00:00,  3.52it/s]\n",
            "100%|██████████| 70/70 [00:19<00:00,  3.51it/s]\n",
            "100%|██████████| 70/70 [00:20<00:00,  3.42it/s]\n",
            "100%|██████████| 70/70 [00:19<00:00,  3.50it/s]\n",
            "100%|██████████| 70/70 [00:19<00:00,  3.51it/s]\n",
            "100%|██████████| 70/70 [00:20<00:00,  3.47it/s]\n",
            "100%|██████████| 70/70 [00:20<00:00,  3.45it/s]\n",
            "100%|██████████| 70/70 [00:19<00:00,  3.52it/s]\n",
            "100%|██████████| 70/70 [00:19<00:00,  3.53it/s]\n"
          ]
        },
        {
          "output_type": "stream",
          "name": "stdout",
          "text": [
            "epoch : 50/200  d_loss : 0.00632  g_loss: 0.03275\n"
          ]
        },
        {
          "output_type": "stream",
          "name": "stderr",
          "text": [
            "100%|██████████| 70/70 [00:21<00:00,  3.27it/s]\n",
            "100%|██████████| 70/70 [00:19<00:00,  3.53it/s]\n",
            "100%|██████████| 70/70 [00:19<00:00,  3.52it/s]\n",
            "100%|██████████| 70/70 [00:19<00:00,  3.53it/s]\n",
            "100%|██████████| 70/70 [00:20<00:00,  3.43it/s]\n",
            "100%|██████████| 70/70 [00:19<00:00,  3.52it/s]\n",
            "100%|██████████| 70/70 [00:19<00:00,  3.52it/s]\n",
            "100%|██████████| 70/70 [00:19<00:00,  3.50it/s]\n",
            "100%|██████████| 70/70 [00:20<00:00,  3.47it/s]\n",
            "100%|██████████| 70/70 [00:19<00:00,  3.51it/s]\n"
          ]
        },
        {
          "output_type": "stream",
          "name": "stdout",
          "text": [
            "epoch : 60/200  d_loss : 0.11210  g_loss: 0.03453\n"
          ]
        },
        {
          "output_type": "stream",
          "name": "stderr",
          "text": [
            "100%|██████████| 70/70 [00:20<00:00,  3.37it/s]\n",
            "100%|██████████| 70/70 [00:21<00:00,  3.23it/s]\n",
            "100%|██████████| 70/70 [00:20<00:00,  3.44it/s]\n",
            "100%|██████████| 70/70 [00:19<00:00,  3.52it/s]\n",
            "100%|██████████| 70/70 [00:19<00:00,  3.52it/s]\n",
            "100%|██████████| 70/70 [00:19<00:00,  3.53it/s]\n",
            "100%|██████████| 70/70 [00:20<00:00,  3.43it/s]\n",
            "100%|██████████| 70/70 [00:19<00:00,  3.51it/s]\n",
            "100%|██████████| 70/70 [00:19<00:00,  3.51it/s]\n",
            "100%|██████████| 70/70 [00:19<00:00,  3.53it/s]\n"
          ]
        },
        {
          "output_type": "stream",
          "name": "stdout",
          "text": [
            "epoch : 70/200  d_loss : 0.05600  g_loss: 0.03516\n"
          ]
        },
        {
          "output_type": "stream",
          "name": "stderr",
          "text": [
            "100%|██████████| 70/70 [00:21<00:00,  3.29it/s]\n",
            "100%|██████████| 70/70 [00:19<00:00,  3.54it/s]\n",
            "100%|██████████| 70/70 [00:19<00:00,  3.53it/s]\n",
            "100%|██████████| 70/70 [00:19<00:00,  3.55it/s]\n",
            "100%|██████████| 70/70 [00:20<00:00,  3.44it/s]\n",
            "100%|██████████| 70/70 [00:19<00:00,  3.54it/s]\n",
            "100%|██████████| 70/70 [00:19<00:00,  3.52it/s]\n",
            "100%|██████████| 70/70 [00:19<00:00,  3.53it/s]\n",
            "100%|██████████| 70/70 [00:20<00:00,  3.45it/s]\n",
            "100%|██████████| 70/70 [00:19<00:00,  3.53it/s]\n"
          ]
        },
        {
          "output_type": "stream",
          "name": "stdout",
          "text": [
            "epoch : 80/200  d_loss : 0.03930  g_loss: 0.03346\n"
          ]
        },
        {
          "output_type": "stream",
          "name": "stderr",
          "text": [
            "100%|██████████| 70/70 [00:20<00:00,  3.39it/s]\n",
            "100%|██████████| 70/70 [00:19<00:00,  3.52it/s]\n",
            "100%|██████████| 70/70 [00:20<00:00,  3.44it/s]\n",
            "100%|██████████| 70/70 [00:21<00:00,  3.25it/s]\n",
            "100%|██████████| 70/70 [00:20<00:00,  3.50it/s]\n",
            "100%|██████████| 70/70 [00:19<00:00,  3.54it/s]\n",
            "100%|██████████| 70/70 [00:20<00:00,  3.44it/s]\n",
            "100%|██████████| 70/70 [00:19<00:00,  3.55it/s]\n",
            "100%|██████████| 70/70 [00:19<00:00,  3.51it/s]\n",
            "100%|██████████| 70/70 [00:19<00:00,  3.53it/s]\n"
          ]
        },
        {
          "output_type": "stream",
          "name": "stdout",
          "text": [
            "epoch : 90/200  d_loss : 0.05660  g_loss: 0.03288\n"
          ]
        },
        {
          "output_type": "stream",
          "name": "stderr",
          "text": [
            "100%|██████████| 70/70 [00:21<00:00,  3.29it/s]\n",
            "100%|██████████| 70/70 [00:20<00:00,  3.49it/s]\n",
            "100%|██████████| 70/70 [00:19<00:00,  3.53it/s]\n",
            "100%|██████████| 70/70 [00:19<00:00,  3.55it/s]\n",
            "100%|██████████| 70/70 [00:20<00:00,  3.44it/s]\n",
            "100%|██████████| 70/70 [00:19<00:00,  3.51it/s]\n",
            "100%|██████████| 70/70 [00:19<00:00,  3.54it/s]\n",
            "100%|██████████| 70/70 [00:19<00:00,  3.53it/s]\n",
            "100%|██████████| 70/70 [00:20<00:00,  3.46it/s]\n",
            "100%|██████████| 70/70 [00:19<00:00,  3.52it/s]\n"
          ]
        },
        {
          "output_type": "stream",
          "name": "stdout",
          "text": [
            "epoch : 100/200  d_loss : 0.14410  g_loss: 0.03214\n"
          ]
        },
        {
          "output_type": "stream",
          "name": "stderr",
          "text": [
            "100%|██████████| 70/70 [00:20<00:00,  3.38it/s]\n",
            "100%|██████████| 70/70 [00:19<00:00,  3.52it/s]\n",
            "100%|██████████| 70/70 [00:20<00:00,  3.44it/s]\n",
            "100%|██████████| 70/70 [00:19<00:00,  3.53it/s]\n",
            "100%|██████████| 70/70 [00:19<00:00,  3.54it/s]\n",
            "100%|██████████| 70/70 [00:21<00:00,  3.23it/s]\n",
            "100%|██████████| 70/70 [00:20<00:00,  3.44it/s]\n",
            "100%|██████████| 70/70 [00:20<00:00,  3.50it/s]\n",
            "100%|██████████| 70/70 [00:19<00:00,  3.52it/s]\n",
            "100%|██████████| 70/70 [00:19<00:00,  3.51it/s]\n"
          ]
        },
        {
          "output_type": "stream",
          "name": "stdout",
          "text": [
            "epoch : 110/200  d_loss : 0.01295  g_loss: 0.03115\n"
          ]
        },
        {
          "output_type": "stream",
          "name": "stderr",
          "text": [
            "100%|██████████| 70/70 [00:21<00:00,  3.28it/s]\n",
            "100%|██████████| 70/70 [00:19<00:00,  3.50it/s]\n",
            "100%|██████████| 70/70 [00:19<00:00,  3.52it/s]\n",
            "100%|██████████| 70/70 [00:19<00:00,  3.51it/s]\n",
            "100%|██████████| 70/70 [00:20<00:00,  3.44it/s]\n",
            "100%|██████████| 70/70 [00:19<00:00,  3.52it/s]\n",
            "100%|██████████| 70/70 [00:19<00:00,  3.51it/s]\n",
            "100%|██████████| 70/70 [00:19<00:00,  3.53it/s]\n",
            "100%|██████████| 70/70 [00:20<00:00,  3.42it/s]\n",
            "100%|██████████| 70/70 [00:19<00:00,  3.52it/s]\n"
          ]
        },
        {
          "output_type": "stream",
          "name": "stdout",
          "text": [
            "epoch : 120/200  d_loss : 0.18588  g_loss: 0.03249\n"
          ]
        },
        {
          "output_type": "stream",
          "name": "stderr",
          "text": [
            "100%|██████████| 70/70 [00:20<00:00,  3.35it/s]\n",
            "100%|██████████| 70/70 [00:19<00:00,  3.52it/s]\n",
            "100%|██████████| 70/70 [00:20<00:00,  3.41it/s]\n",
            "100%|██████████| 70/70 [00:19<00:00,  3.51it/s]\n",
            "100%|██████████| 70/70 [00:19<00:00,  3.53it/s]\n",
            "100%|██████████| 70/70 [00:19<00:00,  3.53it/s]\n",
            "100%|██████████| 70/70 [00:20<00:00,  3.44it/s]\n",
            "100%|██████████| 70/70 [00:19<00:00,  3.53it/s]\n",
            "100%|██████████| 70/70 [00:19<00:00,  3.51it/s]\n",
            "100%|██████████| 70/70 [00:21<00:00,  3.21it/s]\n"
          ]
        },
        {
          "output_type": "stream",
          "name": "stdout",
          "text": [
            "epoch : 130/200  d_loss : 0.15585  g_loss: 0.02920\n"
          ]
        },
        {
          "output_type": "stream",
          "name": "stderr",
          "text": [
            "100%|██████████| 70/70 [00:21<00:00,  3.27it/s]\n",
            "100%|██████████| 70/70 [00:19<00:00,  3.51it/s]\n",
            "100%|██████████| 70/70 [00:19<00:00,  3.53it/s]\n",
            "100%|██████████| 70/70 [00:19<00:00,  3.52it/s]\n",
            "100%|██████████| 70/70 [00:20<00:00,  3.44it/s]\n",
            "100%|██████████| 70/70 [00:19<00:00,  3.50it/s]\n",
            "100%|██████████| 70/70 [00:19<00:00,  3.52it/s]\n",
            "100%|██████████| 70/70 [00:20<00:00,  3.50it/s]\n",
            "100%|██████████| 70/70 [00:20<00:00,  3.44it/s]\n",
            "100%|██████████| 70/70 [00:19<00:00,  3.50it/s]\n"
          ]
        },
        {
          "output_type": "stream",
          "name": "stdout",
          "text": [
            "epoch : 140/200  d_loss : 0.14103  g_loss: 0.02875\n"
          ]
        },
        {
          "output_type": "stream",
          "name": "stderr",
          "text": [
            "100%|██████████| 70/70 [00:20<00:00,  3.40it/s]\n",
            "100%|██████████| 70/70 [00:19<00:00,  3.51it/s]\n",
            "100%|██████████| 70/70 [00:20<00:00,  3.43it/s]\n",
            "100%|██████████| 70/70 [00:19<00:00,  3.50it/s]\n",
            "100%|██████████| 70/70 [00:19<00:00,  3.52it/s]\n",
            "100%|██████████| 70/70 [00:19<00:00,  3.54it/s]\n",
            "100%|██████████| 70/70 [00:20<00:00,  3.43it/s]\n",
            "100%|██████████| 70/70 [00:19<00:00,  3.52it/s]\n",
            "100%|██████████| 70/70 [00:19<00:00,  3.53it/s]\n",
            "100%|██████████| 70/70 [00:19<00:00,  3.53it/s]\n"
          ]
        },
        {
          "output_type": "stream",
          "name": "stdout",
          "text": [
            "epoch : 150/200  d_loss : 0.07710  g_loss: 0.02858\n"
          ]
        },
        {
          "output_type": "stream",
          "name": "stderr",
          "text": [
            "100%|██████████| 70/70 [00:21<00:00,  3.27it/s]\n",
            "100%|██████████| 70/70 [00:19<00:00,  3.54it/s]\n",
            "100%|██████████| 70/70 [00:19<00:00,  3.50it/s]\n",
            "100%|██████████| 70/70 [00:19<00:00,  3.54it/s]\n",
            "100%|██████████| 70/70 [00:20<00:00,  3.43it/s]\n",
            "100%|██████████| 70/70 [00:21<00:00,  3.22it/s]\n",
            "100%|██████████| 70/70 [00:19<00:00,  3.52it/s]\n",
            "100%|██████████| 70/70 [00:19<00:00,  3.52it/s]\n",
            "100%|██████████| 70/70 [00:20<00:00,  3.42it/s]\n",
            "100%|██████████| 70/70 [00:19<00:00,  3.51it/s]\n"
          ]
        },
        {
          "output_type": "stream",
          "name": "stdout",
          "text": [
            "epoch : 160/200  d_loss : 0.01369  g_loss: 0.02833\n"
          ]
        },
        {
          "output_type": "stream",
          "name": "stderr",
          "text": [
            "100%|██████████| 70/70 [00:20<00:00,  3.38it/s]\n",
            "100%|██████████| 70/70 [00:19<00:00,  3.52it/s]\n",
            "100%|██████████| 70/70 [00:20<00:00,  3.44it/s]\n",
            "100%|██████████| 70/70 [00:19<00:00,  3.50it/s]\n",
            "100%|██████████| 70/70 [00:19<00:00,  3.53it/s]\n",
            "100%|██████████| 70/70 [00:19<00:00,  3.51it/s]\n",
            "100%|██████████| 70/70 [00:20<00:00,  3.43it/s]\n",
            "100%|██████████| 70/70 [00:20<00:00,  3.50it/s]\n",
            "100%|██████████| 70/70 [00:19<00:00,  3.52it/s]\n",
            "100%|██████████| 70/70 [00:19<00:00,  3.52it/s]\n"
          ]
        },
        {
          "output_type": "stream",
          "name": "stdout",
          "text": [
            "epoch : 170/200  d_loss : 0.13233  g_loss: 0.02683\n"
          ]
        },
        {
          "output_type": "stream",
          "name": "stderr",
          "text": [
            "100%|██████████| 70/70 [00:21<00:00,  3.30it/s]\n",
            "100%|██████████| 70/70 [00:19<00:00,  3.51it/s]\n",
            "100%|██████████| 70/70 [00:19<00:00,  3.52it/s]\n",
            "100%|██████████| 70/70 [00:19<00:00,  3.52it/s]\n",
            "100%|██████████| 70/70 [00:20<00:00,  3.42it/s]\n",
            "100%|██████████| 70/70 [00:19<00:00,  3.53it/s]\n",
            "100%|██████████| 70/70 [00:19<00:00,  3.51it/s]\n",
            "100%|██████████| 70/70 [00:19<00:00,  3.53it/s]\n",
            "100%|██████████| 70/70 [00:20<00:00,  3.43it/s]\n",
            "100%|██████████| 70/70 [00:19<00:00,  3.52it/s]\n"
          ]
        },
        {
          "output_type": "stream",
          "name": "stdout",
          "text": [
            "epoch : 180/200  d_loss : 0.11812  g_loss: 0.02635\n"
          ]
        },
        {
          "output_type": "stream",
          "name": "stderr",
          "text": [
            "100%|██████████| 70/70 [00:20<00:00,  3.35it/s]\n",
            "100%|██████████| 70/70 [00:22<00:00,  3.14it/s]\n",
            "100%|██████████| 70/70 [00:19<00:00,  3.52it/s]\n",
            "100%|██████████| 70/70 [00:19<00:00,  3.53it/s]\n",
            "100%|██████████| 70/70 [00:19<00:00,  3.55it/s]\n",
            "100%|██████████| 70/70 [00:20<00:00,  3.45it/s]\n",
            "100%|██████████| 70/70 [00:19<00:00,  3.54it/s]\n",
            "100%|██████████| 70/70 [00:19<00:00,  3.55it/s]\n",
            "100%|██████████| 70/70 [00:19<00:00,  3.55it/s]\n",
            "100%|██████████| 70/70 [00:20<00:00,  3.46it/s]\n"
          ]
        },
        {
          "output_type": "stream",
          "name": "stdout",
          "text": [
            "epoch : 190/200  d_loss : 0.01130  g_loss: 0.02629\n"
          ]
        },
        {
          "output_type": "stream",
          "name": "stderr",
          "text": [
            "100%|██████████| 70/70 [00:20<00:00,  3.42it/s]\n",
            "100%|██████████| 70/70 [00:19<00:00,  3.55it/s]\n",
            "100%|██████████| 70/70 [00:19<00:00,  3.56it/s]\n",
            "100%|██████████| 70/70 [00:20<00:00,  3.47it/s]\n",
            "100%|██████████| 70/70 [00:19<00:00,  3.55it/s]\n",
            "100%|██████████| 70/70 [00:19<00:00,  3.56it/s]\n",
            "100%|██████████| 70/70 [00:19<00:00,  3.56it/s]\n",
            "100%|██████████| 70/70 [00:20<00:00,  3.46it/s]\n",
            "100%|██████████| 70/70 [00:19<00:00,  3.53it/s]\n",
            "100%|██████████| 54/54 [00:15<00:00,  3.49it/s]\n"
          ]
        },
        {
          "output_type": "stream",
          "name": "stdout",
          "text": [
            "epoch : 0/200  d_loss : 0.31319  g_loss: 0.02695\n"
          ]
        },
        {
          "output_type": "stream",
          "name": "stderr",
          "text": [
            "100%|██████████| 54/54 [00:16<00:00,  3.33it/s]\n",
            "100%|██████████| 54/54 [00:15<00:00,  3.50it/s]\n",
            "100%|██████████| 54/54 [00:15<00:00,  3.38it/s]\n",
            "100%|██████████| 54/54 [00:15<00:00,  3.48it/s]\n",
            "100%|██████████| 54/54 [00:15<00:00,  3.50it/s]\n",
            "100%|██████████| 54/54 [00:15<00:00,  3.51it/s]\n",
            "100%|██████████| 54/54 [00:15<00:00,  3.51it/s]\n",
            "100%|██████████| 54/54 [00:18<00:00,  3.00it/s]\n",
            "100%|██████████| 54/54 [00:15<00:00,  3.48it/s]\n",
            "100%|██████████| 54/54 [00:15<00:00,  3.49it/s]\n"
          ]
        },
        {
          "output_type": "stream",
          "name": "stdout",
          "text": [
            "epoch : 10/200  d_loss : 0.13974  g_loss: 0.04161\n"
          ]
        },
        {
          "output_type": "stream",
          "name": "stderr",
          "text": [
            "100%|██████████| 54/54 [00:16<00:00,  3.32it/s]\n",
            "100%|██████████| 54/54 [00:15<00:00,  3.51it/s]\n",
            "100%|██████████| 54/54 [00:16<00:00,  3.37it/s]\n",
            "100%|██████████| 54/54 [00:15<00:00,  3.50it/s]\n",
            "100%|██████████| 54/54 [00:15<00:00,  3.49it/s]\n",
            "100%|██████████| 54/54 [00:15<00:00,  3.50it/s]\n",
            "100%|██████████| 54/54 [00:15<00:00,  3.51it/s]\n",
            "100%|██████████| 54/54 [00:16<00:00,  3.37it/s]\n",
            "100%|██████████| 54/54 [00:15<00:00,  3.49it/s]\n",
            "100%|██████████| 54/54 [00:15<00:00,  3.50it/s]\n"
          ]
        },
        {
          "output_type": "stream",
          "name": "stdout",
          "text": [
            "epoch : 20/200  d_loss : 0.09700  g_loss: 0.04117\n"
          ]
        },
        {
          "output_type": "stream",
          "name": "stderr",
          "text": [
            "100%|██████████| 54/54 [00:16<00:00,  3.30it/s]\n",
            "100%|██████████| 54/54 [00:15<00:00,  3.51it/s]\n",
            "100%|██████████| 54/54 [00:16<00:00,  3.37it/s]\n",
            "100%|██████████| 54/54 [00:15<00:00,  3.48it/s]\n",
            "100%|██████████| 54/54 [00:15<00:00,  3.49it/s]\n",
            "100%|██████████| 54/54 [00:15<00:00,  3.51it/s]\n",
            "100%|██████████| 54/54 [00:15<00:00,  3.52it/s]\n",
            "100%|██████████| 54/54 [00:15<00:00,  3.39it/s]\n",
            "100%|██████████| 54/54 [00:15<00:00,  3.51it/s]\n",
            "100%|██████████| 54/54 [00:15<00:00,  3.51it/s]\n"
          ]
        },
        {
          "output_type": "stream",
          "name": "stdout",
          "text": [
            "epoch : 30/200  d_loss : 0.14347  g_loss: 0.03918\n"
          ]
        },
        {
          "output_type": "stream",
          "name": "stderr",
          "text": [
            "100%|██████████| 54/54 [00:16<00:00,  3.28it/s]\n",
            "100%|██████████| 54/54 [00:15<00:00,  3.53it/s]\n",
            "100%|██████████| 54/54 [00:15<00:00,  3.39it/s]\n",
            "100%|██████████| 54/54 [00:15<00:00,  3.51it/s]\n",
            "100%|██████████| 54/54 [00:15<00:00,  3.50it/s]\n",
            "100%|██████████| 54/54 [00:15<00:00,  3.53it/s]\n",
            "100%|██████████| 54/54 [00:15<00:00,  3.50it/s]\n",
            "100%|██████████| 54/54 [00:15<00:00,  3.52it/s]\n",
            "100%|██████████| 54/54 [00:15<00:00,  3.39it/s]\n",
            "100%|██████████| 54/54 [00:15<00:00,  3.50it/s]\n"
          ]
        },
        {
          "output_type": "stream",
          "name": "stdout",
          "text": [
            "epoch : 40/200  d_loss : 0.10742  g_loss: 0.03775\n"
          ]
        },
        {
          "output_type": "stream",
          "name": "stderr",
          "text": [
            "100%|██████████| 54/54 [00:16<00:00,  3.28it/s]\n",
            "100%|██████████| 54/54 [00:15<00:00,  3.53it/s]\n",
            "100%|██████████| 54/54 [00:17<00:00,  3.02it/s]\n",
            "100%|██████████| 54/54 [00:15<00:00,  3.52it/s]\n",
            "100%|██████████| 54/54 [00:15<00:00,  3.52it/s]\n",
            "100%|██████████| 54/54 [00:15<00:00,  3.51it/s]\n",
            "100%|██████████| 54/54 [00:15<00:00,  3.50it/s]\n",
            "100%|██████████| 54/54 [00:15<00:00,  3.48it/s]\n",
            "100%|██████████| 54/54 [00:16<00:00,  3.37it/s]\n",
            "100%|██████████| 54/54 [00:15<00:00,  3.44it/s]\n"
          ]
        },
        {
          "output_type": "stream",
          "name": "stdout",
          "text": [
            "epoch : 50/200  d_loss : 0.10201  g_loss: 0.03439\n"
          ]
        },
        {
          "output_type": "stream",
          "name": "stderr",
          "text": [
            "100%|██████████| 54/54 [00:16<00:00,  3.32it/s]\n",
            "100%|██████████| 54/54 [00:15<00:00,  3.51it/s]\n",
            "100%|██████████| 54/54 [00:15<00:00,  3.47it/s]\n",
            "100%|██████████| 54/54 [00:15<00:00,  3.42it/s]\n",
            "100%|██████████| 54/54 [00:15<00:00,  3.50it/s]\n",
            "100%|██████████| 54/54 [00:15<00:00,  3.51it/s]\n",
            "100%|██████████| 54/54 [00:15<00:00,  3.49it/s]\n",
            "100%|██████████| 54/54 [00:15<00:00,  3.51it/s]\n",
            "100%|██████████| 54/54 [00:15<00:00,  3.39it/s]\n",
            "100%|██████████| 54/54 [00:15<00:00,  3.50it/s]\n"
          ]
        },
        {
          "output_type": "stream",
          "name": "stdout",
          "text": [
            "epoch : 60/200  d_loss : 0.41291  g_loss: 0.03216\n"
          ]
        },
        {
          "output_type": "stream",
          "name": "stderr",
          "text": [
            "100%|██████████| 54/54 [00:16<00:00,  3.34it/s]\n",
            "100%|██████████| 54/54 [00:15<00:00,  3.52it/s]\n",
            "100%|██████████| 54/54 [00:15<00:00,  3.52it/s]\n",
            "100%|██████████| 54/54 [00:15<00:00,  3.41it/s]\n",
            "100%|██████████| 54/54 [00:15<00:00,  3.51it/s]\n",
            "100%|██████████| 54/54 [00:15<00:00,  3.52it/s]\n",
            "100%|██████████| 54/54 [00:15<00:00,  3.53it/s]\n",
            "100%|██████████| 54/54 [00:15<00:00,  3.52it/s]\n",
            "100%|██████████| 54/54 [00:15<00:00,  3.41it/s]\n",
            "100%|██████████| 54/54 [00:15<00:00,  3.51it/s]\n"
          ]
        },
        {
          "output_type": "stream",
          "name": "stdout",
          "text": [
            "epoch : 70/200  d_loss : 0.02751  g_loss: 0.03000\n"
          ]
        },
        {
          "output_type": "stream",
          "name": "stderr",
          "text": [
            "100%|██████████| 54/54 [00:16<00:00,  3.31it/s]\n",
            "100%|██████████| 54/54 [00:15<00:00,  3.49it/s]\n",
            "100%|██████████| 54/54 [00:15<00:00,  3.49it/s]\n",
            "100%|██████████| 54/54 [00:16<00:00,  3.37it/s]\n",
            "100%|██████████| 54/54 [00:15<00:00,  3.47it/s]\n",
            "100%|██████████| 54/54 [00:15<00:00,  3.49it/s]\n",
            "100%|██████████| 54/54 [00:17<00:00,  3.08it/s]\n",
            "100%|██████████| 54/54 [00:15<00:00,  3.51it/s]\n",
            "100%|██████████| 54/54 [00:15<00:00,  3.38it/s]\n",
            "100%|██████████| 54/54 [00:15<00:00,  3.49it/s]\n"
          ]
        },
        {
          "output_type": "stream",
          "name": "stdout",
          "text": [
            "epoch : 80/200  d_loss : 0.05088  g_loss: 0.02847\n"
          ]
        },
        {
          "output_type": "stream",
          "name": "stderr",
          "text": [
            "100%|██████████| 54/54 [00:16<00:00,  3.34it/s]\n",
            "100%|██████████| 54/54 [00:15<00:00,  3.53it/s]\n",
            "100%|██████████| 54/54 [00:15<00:00,  3.52it/s]\n",
            "100%|██████████| 54/54 [00:15<00:00,  3.39it/s]\n",
            "100%|██████████| 54/54 [00:15<00:00,  3.50it/s]\n",
            "100%|██████████| 54/54 [00:15<00:00,  3.48it/s]\n",
            "100%|██████████| 54/54 [00:15<00:00,  3.49it/s]\n",
            "100%|██████████| 54/54 [00:15<00:00,  3.49it/s]\n",
            "100%|██████████| 54/54 [00:15<00:00,  3.43it/s]\n",
            "100%|██████████| 54/54 [00:15<00:00,  3.48it/s]\n"
          ]
        },
        {
          "output_type": "stream",
          "name": "stdout",
          "text": [
            "epoch : 90/200  d_loss : 0.43876  g_loss: 0.02804\n"
          ]
        },
        {
          "output_type": "stream",
          "name": "stderr",
          "text": [
            "100%|██████████| 54/54 [00:16<00:00,  3.32it/s]\n",
            "100%|██████████| 54/54 [00:15<00:00,  3.52it/s]\n",
            "100%|██████████| 54/54 [00:15<00:00,  3.51it/s]\n",
            "100%|██████████| 54/54 [00:15<00:00,  3.50it/s]\n",
            "100%|██████████| 54/54 [00:15<00:00,  3.38it/s]\n",
            "100%|██████████| 54/54 [00:15<00:00,  3.49it/s]\n",
            "100%|██████████| 54/54 [00:15<00:00,  3.52it/s]\n",
            "100%|██████████| 54/54 [00:15<00:00,  3.53it/s]\n",
            "100%|██████████| 54/54 [00:15<00:00,  3.51it/s]\n",
            "100%|██████████| 54/54 [00:15<00:00,  3.40it/s]\n"
          ]
        },
        {
          "output_type": "stream",
          "name": "stdout",
          "text": [
            "epoch : 100/200  d_loss : 0.03286  g_loss: 0.02497\n"
          ]
        },
        {
          "output_type": "stream",
          "name": "stderr",
          "text": [
            "100%|██████████| 54/54 [00:16<00:00,  3.35it/s]\n",
            "100%|██████████| 54/54 [00:15<00:00,  3.52it/s]\n",
            "100%|██████████| 54/54 [00:15<00:00,  3.52it/s]\n",
            "100%|██████████| 54/54 [00:15<00:00,  3.53it/s]\n",
            "100%|██████████| 54/54 [00:15<00:00,  3.39it/s]\n",
            "100%|██████████| 54/54 [00:15<00:00,  3.51it/s]\n",
            "100%|██████████| 54/54 [00:15<00:00,  3.52it/s]\n",
            "100%|██████████| 54/54 [00:15<00:00,  3.52it/s]\n",
            "100%|██████████| 54/54 [00:15<00:00,  3.52it/s]\n",
            "100%|██████████| 54/54 [00:15<00:00,  3.41it/s]\n"
          ]
        },
        {
          "output_type": "stream",
          "name": "stdout",
          "text": [
            "epoch : 110/200  d_loss : 0.16514  g_loss: 0.02504\n"
          ]
        },
        {
          "output_type": "stream",
          "name": "stderr",
          "text": [
            "100%|██████████| 54/54 [00:16<00:00,  3.33it/s]\n",
            "100%|██████████| 54/54 [00:15<00:00,  3.51it/s]\n",
            "100%|██████████| 54/54 [00:17<00:00,  3.10it/s]\n",
            "100%|██████████| 54/54 [00:15<00:00,  3.52it/s]\n",
            "100%|██████████| 54/54 [00:15<00:00,  3.38it/s]\n",
            "100%|██████████| 54/54 [00:15<00:00,  3.49it/s]\n",
            "100%|██████████| 54/54 [00:15<00:00,  3.49it/s]\n",
            "100%|██████████| 54/54 [00:15<00:00,  3.51it/s]\n",
            "100%|██████████| 54/54 [00:15<00:00,  3.51it/s]\n",
            "100%|██████████| 54/54 [00:15<00:00,  3.51it/s]\n"
          ]
        },
        {
          "output_type": "stream",
          "name": "stdout",
          "text": [
            "epoch : 120/200  d_loss : 0.17377  g_loss: 0.02444\n"
          ]
        },
        {
          "output_type": "stream",
          "name": "stderr",
          "text": [
            "100%|██████████| 54/54 [00:16<00:00,  3.22it/s]\n",
            "100%|██████████| 54/54 [00:15<00:00,  3.50it/s]\n",
            "100%|██████████| 54/54 [00:15<00:00,  3.52it/s]\n",
            "100%|██████████| 54/54 [00:15<00:00,  3.51it/s]\n",
            "100%|██████████| 54/54 [00:15<00:00,  3.52it/s]\n",
            "100%|██████████| 54/54 [00:15<00:00,  3.38it/s]\n",
            "100%|██████████| 54/54 [00:15<00:00,  3.52it/s]\n",
            "100%|██████████| 54/54 [00:15<00:00,  3.52it/s]\n",
            "100%|██████████| 54/54 [00:15<00:00,  3.52it/s]\n",
            "100%|██████████| 54/54 [00:15<00:00,  3.53it/s]\n"
          ]
        },
        {
          "output_type": "stream",
          "name": "stdout",
          "text": [
            "epoch : 130/200  d_loss : 0.04077  g_loss: 0.02452\n"
          ]
        },
        {
          "output_type": "stream",
          "name": "stderr",
          "text": [
            "100%|██████████| 54/54 [00:17<00:00,  3.15it/s]\n",
            "100%|██████████| 54/54 [00:15<00:00,  3.51it/s]\n",
            "100%|██████████| 54/54 [00:15<00:00,  3.52it/s]\n",
            "100%|██████████| 54/54 [00:15<00:00,  3.52it/s]\n",
            "100%|██████████| 54/54 [00:15<00:00,  3.52it/s]\n",
            "100%|██████████| 54/54 [00:15<00:00,  3.38it/s]\n",
            "100%|██████████| 54/54 [00:15<00:00,  3.52it/s]\n",
            "100%|██████████| 54/54 [00:15<00:00,  3.52it/s]\n",
            "100%|██████████| 54/54 [00:15<00:00,  3.52it/s]\n",
            "100%|██████████| 54/54 [00:15<00:00,  3.48it/s]\n"
          ]
        },
        {
          "output_type": "stream",
          "name": "stdout",
          "text": [
            "epoch : 140/200  d_loss : 0.12052  g_loss: 0.02309\n"
          ]
        },
        {
          "output_type": "stream",
          "name": "stderr",
          "text": [
            "100%|██████████| 54/54 [00:16<00:00,  3.21it/s]\n",
            "100%|██████████| 54/54 [00:15<00:00,  3.51it/s]\n",
            "100%|██████████| 54/54 [00:15<00:00,  3.51it/s]\n",
            "100%|██████████| 54/54 [00:15<00:00,  3.50it/s]\n",
            "100%|██████████| 54/54 [00:15<00:00,  3.52it/s]\n",
            "100%|██████████| 54/54 [00:15<00:00,  3.50it/s]\n",
            "100%|██████████| 54/54 [00:15<00:00,  3.40it/s]\n",
            "100%|██████████| 54/54 [00:15<00:00,  3.52it/s]\n",
            "100%|██████████| 54/54 [00:17<00:00,  3.07it/s]\n",
            "100%|██████████| 54/54 [00:15<00:00,  3.52it/s]\n"
          ]
        },
        {
          "output_type": "stream",
          "name": "stdout",
          "text": [
            "epoch : 150/200  d_loss : 0.38625  g_loss: 0.02168\n"
          ]
        },
        {
          "output_type": "stream",
          "name": "stderr",
          "text": [
            "100%|██████████| 54/54 [00:16<00:00,  3.32it/s]\n",
            "100%|██████████| 54/54 [00:15<00:00,  3.39it/s]\n",
            "100%|██████████| 54/54 [00:15<00:00,  3.52it/s]\n",
            "100%|██████████| 54/54 [00:15<00:00,  3.50it/s]\n",
            "100%|██████████| 54/54 [00:15<00:00,  3.53it/s]\n",
            "100%|██████████| 54/54 [00:15<00:00,  3.51it/s]\n",
            "100%|██████████| 54/54 [00:15<00:00,  3.39it/s]\n",
            "100%|██████████| 54/54 [00:15<00:00,  3.52it/s]\n",
            "100%|██████████| 54/54 [00:15<00:00,  3.52it/s]\n",
            "100%|██████████| 54/54 [00:15<00:00,  3.52it/s]\n"
          ]
        },
        {
          "output_type": "stream",
          "name": "stdout",
          "text": [
            "epoch : 160/200  d_loss : 0.02128  g_loss: 0.02094\n"
          ]
        },
        {
          "output_type": "stream",
          "name": "stderr",
          "text": [
            "100%|██████████| 54/54 [00:16<00:00,  3.34it/s]\n",
            "100%|██████████| 54/54 [00:15<00:00,  3.38it/s]\n",
            "100%|██████████| 54/54 [00:15<00:00,  3.53it/s]\n",
            "100%|██████████| 54/54 [00:15<00:00,  3.51it/s]\n",
            "100%|██████████| 54/54 [00:15<00:00,  3.51it/s]\n",
            "100%|██████████| 54/54 [00:15<00:00,  3.49it/s]\n",
            "100%|██████████| 54/54 [00:15<00:00,  3.42it/s]\n",
            "100%|██████████| 54/54 [00:15<00:00,  3.47it/s]\n",
            "100%|██████████| 54/54 [00:15<00:00,  3.51it/s]\n",
            "100%|██████████| 54/54 [00:15<00:00,  3.52it/s]\n"
          ]
        },
        {
          "output_type": "stream",
          "name": "stdout",
          "text": [
            "epoch : 170/200  d_loss : 0.22669  g_loss: 0.02044\n"
          ]
        },
        {
          "output_type": "stream",
          "name": "stderr",
          "text": [
            "100%|██████████| 54/54 [00:16<00:00,  3.34it/s]\n",
            "100%|██████████| 54/54 [00:15<00:00,  3.46it/s]\n",
            "100%|██████████| 54/54 [00:15<00:00,  3.42it/s]\n",
            "100%|██████████| 54/54 [00:15<00:00,  3.52it/s]\n",
            "100%|██████████| 54/54 [00:15<00:00,  3.53it/s]\n",
            "100%|██████████| 54/54 [00:15<00:00,  3.52it/s]\n",
            "100%|██████████| 54/54 [00:15<00:00,  3.51it/s]\n",
            "100%|██████████| 54/54 [00:15<00:00,  3.39it/s]\n",
            "100%|██████████| 54/54 [00:15<00:00,  3.54it/s]\n",
            "100%|██████████| 54/54 [00:15<00:00,  3.53it/s]\n"
          ]
        },
        {
          "output_type": "stream",
          "name": "stdout",
          "text": [
            "epoch : 180/200  d_loss : 0.39301  g_loss: 0.01981\n"
          ]
        },
        {
          "output_type": "stream",
          "name": "stderr",
          "text": [
            "100%|██████████| 54/54 [00:16<00:00,  3.34it/s]\n",
            "100%|██████████| 54/54 [00:15<00:00,  3.50it/s]\n",
            "100%|██████████| 54/54 [00:15<00:00,  3.40it/s]\n",
            "100%|██████████| 54/54 [00:15<00:00,  3.51it/s]\n",
            "100%|██████████| 54/54 [00:15<00:00,  3.50it/s]\n",
            "100%|██████████| 54/54 [00:15<00:00,  3.45it/s]\n",
            "100%|██████████| 54/54 [00:17<00:00,  3.02it/s]\n",
            "100%|██████████| 54/54 [00:15<00:00,  3.38it/s]\n",
            "100%|██████████| 54/54 [00:15<00:00,  3.51it/s]\n",
            "100%|██████████| 54/54 [00:15<00:00,  3.50it/s]\n"
          ]
        },
        {
          "output_type": "stream",
          "name": "stdout",
          "text": [
            "epoch : 190/200  d_loss : 0.01874  g_loss: 0.01915\n"
          ]
        },
        {
          "output_type": "stream",
          "name": "stderr",
          "text": [
            "100%|██████████| 54/54 [00:16<00:00,  3.33it/s]\n",
            "100%|██████████| 54/54 [00:15<00:00,  3.50it/s]\n",
            "100%|██████████| 54/54 [00:15<00:00,  3.38it/s]\n",
            "100%|██████████| 54/54 [00:15<00:00,  3.50it/s]\n",
            "100%|██████████| 54/54 [00:15<00:00,  3.51it/s]\n",
            "100%|██████████| 54/54 [00:15<00:00,  3.51it/s]\n",
            "100%|██████████| 54/54 [00:15<00:00,  3.49it/s]\n",
            "100%|██████████| 54/54 [00:15<00:00,  3.39it/s]\n",
            "100%|██████████| 54/54 [00:15<00:00,  3.51it/s]\n",
            "100%|██████████| 18/18 [00:04<00:00,  3.63it/s]\n"
          ]
        },
        {
          "output_type": "stream",
          "name": "stdout",
          "text": [
            "epoch : 0/200  d_loss : 0.06690  g_loss: 0.02118\n"
          ]
        },
        {
          "output_type": "stream",
          "name": "stderr",
          "text": [
            "100%|██████████| 18/18 [00:05<00:00,  3.46it/s]\n",
            "100%|██████████| 18/18 [00:06<00:00,  2.98it/s]\n",
            "100%|██████████| 18/18 [00:05<00:00,  3.47it/s]\n",
            "100%|██████████| 18/18 [00:05<00:00,  3.47it/s]\n",
            "100%|██████████| 18/18 [00:04<00:00,  3.62it/s]\n",
            "100%|██████████| 18/18 [00:05<00:00,  3.12it/s]\n",
            "100%|██████████| 18/18 [00:04<00:00,  3.63it/s]\n",
            "100%|██████████| 18/18 [00:04<00:00,  3.65it/s]\n",
            "100%|██████████| 18/18 [00:04<00:00,  3.66it/s]\n",
            "100%|██████████| 18/18 [00:04<00:00,  3.60it/s]\n"
          ]
        },
        {
          "output_type": "stream",
          "name": "stdout",
          "text": [
            "epoch : 10/200  d_loss : 0.02231  g_loss: 0.03796\n"
          ]
        },
        {
          "output_type": "stream",
          "name": "stderr",
          "text": [
            "100%|██████████| 18/18 [00:05<00:00,  3.60it/s]\n",
            "100%|██████████| 18/18 [00:05<00:00,  3.32it/s]\n",
            "100%|██████████| 18/18 [00:05<00:00,  3.36it/s]\n",
            "100%|██████████| 18/18 [00:04<00:00,  3.64it/s]\n",
            "100%|██████████| 18/18 [00:04<00:00,  3.66it/s]\n",
            "100%|██████████| 18/18 [00:04<00:00,  3.66it/s]\n",
            "100%|██████████| 18/18 [00:04<00:00,  3.66it/s]\n",
            "100%|██████████| 18/18 [00:04<00:00,  3.67it/s]\n",
            "100%|██████████| 18/18 [00:04<00:00,  3.64it/s]\n",
            "100%|██████████| 18/18 [00:04<00:00,  3.65it/s]\n"
          ]
        },
        {
          "output_type": "stream",
          "name": "stdout",
          "text": [
            "epoch : 20/200  d_loss : 0.02101  g_loss: 0.03905\n"
          ]
        },
        {
          "output_type": "stream",
          "name": "stderr",
          "text": [
            "100%|██████████| 18/18 [00:04<00:00,  3.64it/s]\n",
            "100%|██████████| 18/18 [00:05<00:00,  3.12it/s]\n",
            "100%|██████████| 18/18 [00:04<00:00,  3.64it/s]\n",
            "100%|██████████| 18/18 [00:04<00:00,  3.65it/s]\n",
            "100%|██████████| 18/18 [00:05<00:00,  3.56it/s]\n",
            "100%|██████████| 18/18 [00:05<00:00,  3.37it/s]\n",
            "100%|██████████| 18/18 [00:04<00:00,  3.65it/s]\n",
            "100%|██████████| 18/18 [00:04<00:00,  3.67it/s]\n",
            "100%|██████████| 18/18 [00:04<00:00,  3.65it/s]\n",
            "100%|██████████| 18/18 [00:04<00:00,  3.66it/s]\n"
          ]
        },
        {
          "output_type": "stream",
          "name": "stdout",
          "text": [
            "epoch : 30/200  d_loss : 0.01831  g_loss: 0.03493\n"
          ]
        },
        {
          "output_type": "stream",
          "name": "stderr",
          "text": [
            "100%|██████████| 18/18 [00:04<00:00,  3.63it/s]\n",
            "100%|██████████| 18/18 [00:05<00:00,  3.34it/s]\n",
            "100%|██████████| 18/18 [00:05<00:00,  3.36it/s]\n",
            "100%|██████████| 18/18 [00:04<00:00,  3.64it/s]\n",
            "100%|██████████| 18/18 [00:04<00:00,  3.63it/s]\n",
            "100%|██████████| 18/18 [00:04<00:00,  3.62it/s]\n",
            "100%|██████████| 18/18 [00:04<00:00,  3.60it/s]\n",
            "100%|██████████| 18/18 [00:04<00:00,  3.60it/s]\n",
            "100%|██████████| 18/18 [00:04<00:00,  3.63it/s]\n",
            "100%|██████████| 18/18 [00:04<00:00,  3.66it/s]\n"
          ]
        },
        {
          "output_type": "stream",
          "name": "stdout",
          "text": [
            "epoch : 40/200  d_loss : 0.01934  g_loss: 0.03271\n"
          ]
        },
        {
          "output_type": "stream",
          "name": "stderr",
          "text": [
            "100%|██████████| 18/18 [00:05<00:00,  3.37it/s]\n",
            "100%|██████████| 18/18 [00:05<00:00,  3.24it/s]\n",
            "100%|██████████| 18/18 [00:05<00:00,  3.47it/s]\n",
            "100%|██████████| 18/18 [00:04<00:00,  3.66it/s]\n",
            "100%|██████████| 18/18 [00:04<00:00,  3.66it/s]\n",
            "100%|██████████| 18/18 [00:04<00:00,  3.65it/s]\n",
            "100%|██████████| 18/18 [00:04<00:00,  3.64it/s]\n",
            "100%|██████████| 18/18 [00:04<00:00,  3.63it/s]\n",
            "100%|██████████| 18/18 [00:04<00:00,  3.67it/s]\n",
            "100%|██████████| 18/18 [00:04<00:00,  3.65it/s]\n"
          ]
        },
        {
          "output_type": "stream",
          "name": "stdout",
          "text": [
            "epoch : 50/200  d_loss : 1.13137  g_loss: 0.03256\n"
          ]
        },
        {
          "output_type": "stream",
          "name": "stderr",
          "text": [
            "100%|██████████| 18/18 [00:04<00:00,  3.64it/s]\n",
            "100%|██████████| 18/18 [00:05<00:00,  3.29it/s]\n",
            "100%|██████████| 18/18 [00:05<00:00,  3.41it/s]\n",
            "100%|██████████| 18/18 [00:04<00:00,  3.65it/s]\n",
            "100%|██████████| 18/18 [00:04<00:00,  3.64it/s]\n",
            "100%|██████████| 18/18 [00:05<00:00,  3.29it/s]\n",
            "100%|██████████| 18/18 [00:04<00:00,  3.63it/s]\n",
            "100%|██████████| 18/18 [00:04<00:00,  3.65it/s]\n",
            "100%|██████████| 18/18 [00:04<00:00,  3.62it/s]\n",
            "100%|██████████| 18/18 [00:04<00:00,  3.64it/s]\n"
          ]
        },
        {
          "output_type": "stream",
          "name": "stdout",
          "text": [
            "epoch : 60/200  d_loss : 0.10956  g_loss: 0.02916\n"
          ]
        },
        {
          "output_type": "stream",
          "name": "stderr",
          "text": [
            "100%|██████████| 18/18 [00:04<00:00,  3.64it/s]\n",
            "100%|██████████| 18/18 [00:05<00:00,  3.42it/s]\n",
            "100%|██████████| 18/18 [00:05<00:00,  3.34it/s]\n",
            "100%|██████████| 18/18 [00:04<00:00,  3.63it/s]\n",
            "100%|██████████| 18/18 [00:04<00:00,  3.65it/s]\n",
            "100%|██████████| 18/18 [00:04<00:00,  3.66it/s]\n",
            "100%|██████████| 18/18 [00:04<00:00,  3.64it/s]\n",
            "100%|██████████| 18/18 [00:04<00:00,  3.64it/s]\n",
            "100%|██████████| 18/18 [00:04<00:00,  3.65it/s]\n",
            "100%|██████████| 18/18 [00:04<00:00,  3.64it/s]\n"
          ]
        },
        {
          "output_type": "stream",
          "name": "stdout",
          "text": [
            "epoch : 70/200  d_loss : 0.02454  g_loss: 0.02407\n"
          ]
        },
        {
          "output_type": "stream",
          "name": "stderr",
          "text": [
            "100%|██████████| 18/18 [00:05<00:00,  3.27it/s]\n",
            "100%|██████████| 18/18 [00:05<00:00,  3.20it/s]\n",
            "100%|██████████| 18/18 [00:05<00:00,  3.57it/s]\n",
            "100%|██████████| 18/18 [00:04<00:00,  3.64it/s]\n",
            "100%|██████████| 18/18 [00:04<00:00,  3.65it/s]\n",
            "100%|██████████| 18/18 [00:04<00:00,  3.65it/s]\n",
            "100%|██████████| 18/18 [00:04<00:00,  3.66it/s]\n",
            "100%|██████████| 18/18 [00:04<00:00,  3.66it/s]\n",
            "100%|██████████| 18/18 [00:04<00:00,  3.66it/s]\n",
            "100%|██████████| 18/18 [00:04<00:00,  3.63it/s]\n"
          ]
        },
        {
          "output_type": "stream",
          "name": "stdout",
          "text": [
            "epoch : 80/200  d_loss : 0.03181  g_loss: 0.02254\n"
          ]
        },
        {
          "output_type": "stream",
          "name": "stderr",
          "text": [
            "100%|██████████| 18/18 [00:04<00:00,  3.61it/s]\n",
            "100%|██████████| 18/18 [00:05<00:00,  3.30it/s]\n",
            "100%|██████████| 18/18 [00:05<00:00,  3.34it/s]\n",
            "100%|██████████| 18/18 [00:04<00:00,  3.65it/s]\n",
            "100%|██████████| 18/18 [00:04<00:00,  3.65it/s]\n",
            "100%|██████████| 18/18 [00:05<00:00,  3.37it/s]\n",
            "100%|██████████| 18/18 [00:05<00:00,  3.51it/s]\n",
            "100%|██████████| 18/18 [00:04<00:00,  3.64it/s]\n",
            "100%|██████████| 18/18 [00:04<00:00,  3.66it/s]\n",
            "100%|██████████| 18/18 [00:04<00:00,  3.65it/s]\n"
          ]
        },
        {
          "output_type": "stream",
          "name": "stdout",
          "text": [
            "epoch : 90/200  d_loss : 0.57039  g_loss: 0.02280\n"
          ]
        },
        {
          "output_type": "stream",
          "name": "stderr",
          "text": [
            "100%|██████████| 18/18 [00:04<00:00,  3.63it/s]\n",
            "100%|██████████| 18/18 [00:05<00:00,  3.18it/s]\n",
            "100%|██████████| 18/18 [00:05<00:00,  3.43it/s]\n",
            "100%|██████████| 18/18 [00:04<00:00,  3.63it/s]\n",
            "100%|██████████| 18/18 [00:04<00:00,  3.65it/s]\n",
            "100%|██████████| 18/18 [00:04<00:00,  3.62it/s]\n",
            "100%|██████████| 18/18 [00:04<00:00,  3.60it/s]\n",
            "100%|██████████| 18/18 [00:04<00:00,  3.61it/s]\n",
            "100%|██████████| 18/18 [00:04<00:00,  3.65it/s]\n",
            "100%|██████████| 18/18 [00:04<00:00,  3.64it/s]\n"
          ]
        },
        {
          "output_type": "stream",
          "name": "stdout",
          "text": [
            "epoch : 100/200  d_loss : 0.01991  g_loss: 0.02192\n"
          ]
        },
        {
          "output_type": "stream",
          "name": "stderr",
          "text": [
            "100%|██████████| 18/18 [00:05<00:00,  3.32it/s]\n",
            "100%|██████████| 18/18 [00:05<00:00,  3.15it/s]\n",
            "100%|██████████| 18/18 [00:05<00:00,  3.51it/s]\n",
            "100%|██████████| 18/18 [00:04<00:00,  3.65it/s]\n",
            "100%|██████████| 18/18 [00:04<00:00,  3.63it/s]\n",
            "100%|██████████| 18/18 [00:04<00:00,  3.66it/s]\n",
            "100%|██████████| 18/18 [00:04<00:00,  3.65it/s]\n",
            "100%|██████████| 18/18 [00:04<00:00,  3.65it/s]\n",
            "100%|██████████| 18/18 [00:04<00:00,  3.68it/s]\n",
            "100%|██████████| 18/18 [00:04<00:00,  3.67it/s]\n"
          ]
        },
        {
          "output_type": "stream",
          "name": "stdout",
          "text": [
            "epoch : 110/200  d_loss : 0.05143  g_loss: 0.02087\n"
          ]
        },
        {
          "output_type": "stream",
          "name": "stderr",
          "text": [
            "100%|██████████| 18/18 [00:04<00:00,  3.62it/s]\n",
            "100%|██████████| 18/18 [00:05<00:00,  3.29it/s]\n",
            "100%|██████████| 18/18 [00:05<00:00,  3.40it/s]\n",
            "100%|██████████| 18/18 [00:04<00:00,  3.66it/s]\n",
            "100%|██████████| 18/18 [00:04<00:00,  3.66it/s]\n",
            "100%|██████████| 18/18 [00:04<00:00,  3.63it/s]\n",
            "100%|██████████| 18/18 [00:05<00:00,  3.26it/s]\n",
            "100%|██████████| 18/18 [00:04<00:00,  3.67it/s]\n",
            "100%|██████████| 18/18 [00:04<00:00,  3.66it/s]\n",
            "100%|██████████| 18/18 [00:04<00:00,  3.65it/s]\n"
          ]
        },
        {
          "output_type": "stream",
          "name": "stdout",
          "text": [
            "epoch : 120/200  d_loss : 0.86011  g_loss: 0.02002\n"
          ]
        },
        {
          "output_type": "stream",
          "name": "stderr",
          "text": [
            "100%|██████████| 18/18 [00:04<00:00,  3.66it/s]\n",
            "100%|██████████| 18/18 [00:05<00:00,  3.36it/s]\n",
            "100%|██████████| 18/18 [00:05<00:00,  3.31it/s]\n",
            "100%|██████████| 18/18 [00:04<00:00,  3.62it/s]\n",
            "100%|██████████| 18/18 [00:04<00:00,  3.65it/s]\n",
            "100%|██████████| 18/18 [00:04<00:00,  3.64it/s]\n",
            "100%|██████████| 18/18 [00:04<00:00,  3.61it/s]\n",
            "100%|██████████| 18/18 [00:04<00:00,  3.62it/s]\n",
            "100%|██████████| 18/18 [00:04<00:00,  3.68it/s]\n",
            "100%|██████████| 18/18 [00:04<00:00,  3.69it/s]\n"
          ]
        },
        {
          "output_type": "stream",
          "name": "stdout",
          "text": [
            "epoch : 130/200  d_loss : 0.52966  g_loss: 0.01780\n"
          ]
        },
        {
          "output_type": "stream",
          "name": "stderr",
          "text": [
            "100%|██████████| 18/18 [00:04<00:00,  3.65it/s]\n",
            "100%|██████████| 18/18 [00:06<00:00,  2.86it/s]\n",
            "100%|██████████| 18/18 [00:05<00:00,  3.46it/s]\n",
            "100%|██████████| 18/18 [00:04<00:00,  3.64it/s]\n",
            "100%|██████████| 18/18 [00:04<00:00,  3.65it/s]\n",
            "100%|██████████| 18/18 [00:04<00:00,  3.64it/s]\n",
            "100%|██████████| 18/18 [00:04<00:00,  3.66it/s]\n",
            "100%|██████████| 18/18 [00:04<00:00,  3.64it/s]\n",
            "100%|██████████| 18/18 [00:04<00:00,  3.64it/s]\n",
            "100%|██████████| 18/18 [00:04<00:00,  3.68it/s]\n"
          ]
        },
        {
          "output_type": "stream",
          "name": "stdout",
          "text": [
            "epoch : 140/200  d_loss : 0.03470  g_loss: 0.01591\n"
          ]
        },
        {
          "output_type": "stream",
          "name": "stderr",
          "text": [
            "100%|██████████| 18/18 [00:04<00:00,  3.63it/s]\n",
            "100%|██████████| 18/18 [00:05<00:00,  3.37it/s]\n",
            "100%|██████████| 18/18 [00:05<00:00,  3.32it/s]\n",
            "100%|██████████| 18/18 [00:04<00:00,  3.65it/s]\n",
            "100%|██████████| 18/18 [00:04<00:00,  3.65it/s]\n",
            "100%|██████████| 18/18 [00:04<00:00,  3.65it/s]\n",
            "100%|██████████| 18/18 [00:04<00:00,  3.65it/s]\n",
            "100%|██████████| 18/18 [00:05<00:00,  3.27it/s]\n",
            "100%|██████████| 18/18 [00:04<00:00,  3.63it/s]\n",
            "100%|██████████| 18/18 [00:04<00:00,  3.65it/s]\n"
          ]
        },
        {
          "output_type": "stream",
          "name": "stdout",
          "text": [
            "epoch : 150/200  d_loss : 0.05625  g_loss: 0.01508\n"
          ]
        },
        {
          "output_type": "stream",
          "name": "stderr",
          "text": [
            "100%|██████████| 18/18 [00:04<00:00,  3.63it/s]\n",
            "100%|██████████| 18/18 [00:05<00:00,  3.27it/s]\n",
            "100%|██████████| 18/18 [00:05<00:00,  3.37it/s]\n",
            "100%|██████████| 18/18 [00:04<00:00,  3.64it/s]\n",
            "100%|██████████| 18/18 [00:04<00:00,  3.63it/s]\n",
            "100%|██████████| 18/18 [00:04<00:00,  3.66it/s]\n",
            "100%|██████████| 18/18 [00:05<00:00,  3.60it/s]\n",
            "100%|██████████| 18/18 [00:04<00:00,  3.63it/s]\n",
            "100%|██████████| 18/18 [00:04<00:00,  3.64it/s]\n",
            "100%|██████████| 18/18 [00:04<00:00,  3.63it/s]\n"
          ]
        },
        {
          "output_type": "stream",
          "name": "stdout",
          "text": [
            "epoch : 160/200  d_loss : 0.05550  g_loss: 0.01535\n"
          ]
        },
        {
          "output_type": "stream",
          "name": "stderr",
          "text": [
            "100%|██████████| 18/18 [00:04<00:00,  3.62it/s]\n",
            "100%|██████████| 18/18 [00:06<00:00,  2.99it/s]\n",
            "100%|██████████| 18/18 [00:05<00:00,  3.37it/s]\n",
            "100%|██████████| 18/18 [00:04<00:00,  3.65it/s]\n",
            "100%|██████████| 18/18 [00:04<00:00,  3.65it/s]\n",
            "100%|██████████| 18/18 [00:04<00:00,  3.65it/s]\n",
            "100%|██████████| 18/18 [00:04<00:00,  3.65it/s]\n",
            "100%|██████████| 18/18 [00:04<00:00,  3.63it/s]\n",
            "100%|██████████| 18/18 [00:04<00:00,  3.63it/s]\n",
            "100%|██████████| 18/18 [00:04<00:00,  3.62it/s]\n"
          ]
        },
        {
          "output_type": "stream",
          "name": "stdout",
          "text": [
            "epoch : 170/200  d_loss : 1.07075  g_loss: 0.01594\n"
          ]
        },
        {
          "output_type": "stream",
          "name": "stderr",
          "text": [
            "100%|██████████| 18/18 [00:04<00:00,  3.63it/s]\n",
            "100%|██████████| 18/18 [00:06<00:00,  2.96it/s]\n",
            "100%|██████████| 18/18 [00:04<00:00,  3.62it/s]\n",
            "100%|██████████| 18/18 [00:04<00:00,  3.67it/s]\n",
            "100%|██████████| 18/18 [00:04<00:00,  3.65it/s]\n",
            "100%|██████████| 18/18 [00:04<00:00,  3.63it/s]\n",
            "100%|██████████| 18/18 [00:04<00:00,  3.64it/s]\n",
            "100%|██████████| 18/18 [00:05<00:00,  3.28it/s]\n",
            "100%|██████████| 18/18 [00:04<00:00,  3.66it/s]\n",
            "100%|██████████| 18/18 [00:04<00:00,  3.66it/s]\n"
          ]
        },
        {
          "output_type": "stream",
          "name": "stdout",
          "text": [
            "epoch : 180/200  d_loss : 0.04776  g_loss: 0.01458\n"
          ]
        },
        {
          "output_type": "stream",
          "name": "stderr",
          "text": [
            "100%|██████████| 18/18 [00:04<00:00,  3.62it/s]\n",
            "100%|██████████| 18/18 [00:06<00:00,  2.99it/s]\n",
            "100%|██████████| 18/18 [00:04<00:00,  3.64it/s]\n",
            "100%|██████████| 18/18 [00:04<00:00,  3.64it/s]\n",
            "100%|██████████| 18/18 [00:04<00:00,  3.66it/s]\n",
            "100%|██████████| 18/18 [00:04<00:00,  3.63it/s]\n",
            "100%|██████████| 18/18 [00:04<00:00,  3.61it/s]\n",
            "100%|██████████| 18/18 [00:04<00:00,  3.62it/s]\n",
            "100%|██████████| 18/18 [00:04<00:00,  3.64it/s]\n",
            "100%|██████████| 18/18 [00:04<00:00,  3.63it/s]\n"
          ]
        },
        {
          "output_type": "stream",
          "name": "stdout",
          "text": [
            "epoch : 190/200  d_loss : 0.02915  g_loss: 0.01411\n"
          ]
        },
        {
          "output_type": "stream",
          "name": "stderr",
          "text": [
            "100%|██████████| 18/18 [00:04<00:00,  3.62it/s]\n",
            "100%|██████████| 18/18 [00:05<00:00,  3.07it/s]\n",
            "100%|██████████| 18/18 [00:05<00:00,  3.26it/s]\n",
            "100%|██████████| 18/18 [00:04<00:00,  3.64it/s]\n",
            "100%|██████████| 18/18 [00:04<00:00,  3.65it/s]\n",
            "100%|██████████| 18/18 [00:04<00:00,  3.63it/s]\n",
            "100%|██████████| 18/18 [00:04<00:00,  3.65it/s]\n",
            "100%|██████████| 18/18 [00:04<00:00,  3.68it/s]\n",
            "100%|██████████| 18/18 [00:04<00:00,  3.63it/s]\n",
            "100%|██████████| 112/112 [00:32<00:00,  3.47it/s]\n"
          ]
        },
        {
          "output_type": "stream",
          "name": "stdout",
          "text": [
            "epoch : 0/200  d_loss : 0.68615  g_loss: 0.02092\n"
          ]
        },
        {
          "output_type": "stream",
          "name": "stderr",
          "text": [
            "100%|██████████| 112/112 [00:33<00:00,  3.34it/s]\n",
            "100%|██████████| 112/112 [00:32<00:00,  3.48it/s]\n",
            "100%|██████████| 112/112 [00:32<00:00,  3.43it/s]\n",
            "100%|██████████| 112/112 [00:32<00:00,  3.49it/s]\n",
            "100%|██████████| 112/112 [00:32<00:00,  3.49it/s]\n",
            "100%|██████████| 112/112 [00:32<00:00,  3.44it/s]\n",
            "100%|██████████| 112/112 [00:32<00:00,  3.49it/s]\n",
            " 62%|██████▎   | 70/112 [00:20<00:12,  3.48it/s]"
          ]
        }
      ],
      "source": [
        "import tarfile\n",
        "d_losses = tf.keras.metrics.Mean(name=\"d_loss\")\n",
        "g_losses = tf.keras.metrics.Mean(name=\"g_loss\")\n",
        "\n",
        "sample_path = glob(\"/content/ILSVRC2013_DET_train/*.tar\")\n",
        "file_number = 0\n",
        "for tar in sample_path:\n",
        "\n",
        "  file_number += 1\n",
        "\n",
        "  result_file_with_number = file_path + \"file_sample_\" + str(file_number)\n",
        "  file_name = \"/content/extracted_tar\"\n",
        "\n",
        "  if not os.path.exists(file_name):\n",
        "    os.makedirs(file_name)\n",
        "\n",
        "  if not os.path.exists(result_file_with_number):\n",
        "    os.makedirs(result_file_with_number)\n",
        "  else:\n",
        "    continue\n",
        "  \n",
        "  my_tar = tarfile.open(tar)\n",
        "  my_tar.extractall(file_name)\n",
        "  my_tar.close()\n",
        "\n",
        "  img_p_1 = glob(file_name + \"/*/*.JPEG\")\n",
        "  img_p_2 = glob(file_name + \"/*.JPEG\")\n",
        "\n",
        "  img_path = img_p_1 + img_p_2\n",
        "\n",
        "  bw_image_remove(img_path)\n",
        "\n",
        "\n",
        "  img_p_1 = glob(file_name + \"/*/*.JPEG\")\n",
        "  img_p_2 = glob(file_name + \"/*.JPEG\")\n",
        "\n",
        "  img_path = img_p_1 + img_p_2\n",
        " \n",
        "\n",
        "  for epoch in range(epochs):\n",
        "      for batch in tqdm(range(0, len(img_path), batch_size)):\n",
        "\n",
        "          if len(img_path) - batch_size < batch:\n",
        "              continue\n",
        "          \n",
        "          gray_img, color_img = lab_np(batch_size = batch_size, batch= batch, img_path = img_path)\n",
        "\n",
        "          cg_loss, d_loss = train_step(real_imgs = color_img, gray_imgs= gray_img)\n",
        "\n",
        "          d_losses.update_state(d_loss)\n",
        "          g_losses.update_state(cg_loss)\n",
        "\n",
        "\n",
        "      if epoch % show_every == 0:\n",
        "          print(f\"epoch : {epoch}/{epochs}  d_loss : {d_losses.result():0.5f}  g_loss: {g_losses.result():0.5f}\")\n",
        "          plot_result(epoch=epoch, img_path = img_path, file_number = file_number)\n",
        "          d_losses.reset_states()\n",
        "          g_losses.reset_states()\n",
        "\n",
        "          check_point_manager.save()\n",
        "\n",
        "  shutil.rmtree(file_name, ignore_errors = True)"
      ]
    }
  ],
  "metadata": {
    "colab": {
      "collapsed_sections": [],
      "name": "gray_to_color.ipynb",
      "provenance": []
    },
    "gpuClass": "standard",
    "kernelspec": {
      "display_name": "Python 3.9.5 64-bit",
      "language": "python",
      "name": "python3"
    },
    "language_info": {
      "codemirror_mode": {
        "name": "ipython",
        "version": 3
      },
      "file_extension": ".py",
      "mimetype": "text/x-python",
      "name": "python",
      "nbconvert_exporter": "python",
      "pygments_lexer": "ipython3",
      "version": "3.9.5"
    },
    "vscode": {
      "interpreter": {
        "hash": "9979e34a25f81091936d292fbfa07f6ca698cb1933485fd8939dcc31509f11ba"
      }
    },
    "accelerator": "GPU"
  },
  "nbformat": 4,
  "nbformat_minor": 0
}